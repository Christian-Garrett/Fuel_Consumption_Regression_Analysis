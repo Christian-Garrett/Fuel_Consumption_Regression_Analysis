{
  "nbformat": 4,
  "nbformat_minor": 0,
  "metadata": {
    "colab": {
      "name": "Capstone_2.ipynb",
      "provenance": [],
      "collapsed_sections": [
        "IyenonSMyVLr",
        "mjh4gaoJOsA0",
        "z5k8K6VI9wd3",
        "fo5BMYniOkTY",
        "SPi9oz9PSKEp",
        "dR90B0UFlWZn",
        "Xw6LxyK0VhgB",
        "9tMe9LkMbb2E",
        "faXCquX8WKuz",
        "hGyGbLtfO-_8",
        "Qy3urHXmZrO5",
        "ufMY1FfDPPvX",
        "ejbV5q1RPh6a",
        "N4-ruhWDzJuF",
        "dw4Gq2XcgOg3",
        "z6wPkrkZ3PUJ",
        "cnmQp3_FZo3I",
        "GiuSozsnucT9",
        "IV1PTxSxTFX4"
      ]
    },
    "kernelspec": {
      "name": "python3",
      "display_name": "Python 3"
    }
  },
  "cells": [
    {
      "cell_type": "markdown",
      "metadata": {
        "id": "IyenonSMyVLr"
      },
      "source": [
        "# Dataframe Setup"
      ]
    },
    {
      "cell_type": "code",
      "metadata": {
        "id": "hHmg9tRtxIFO",
        "outputId": "a2b565b3-fefe-479c-f9c1-3f1861e85939",
        "colab": {
          "base_uri": "https://localhost:8080/",
          "height": 303
        }
      },
      "source": [
        "'''\n",
        "Setup:\n",
        "'''\n",
        "!pip install --upgrade scipy\n",
        "\n",
        "import pandas as pd\n",
        "import numpy as np\n",
        "import matplotlib.pyplot as plt\n",
        "import copy\n",
        "import re\n",
        "import statistics \n",
        "import pdb\n",
        "import time\n",
        "\n",
        "from itertools import combinations\n",
        "import scipy.stats as stats\n",
        "from scipy.stats.mstats import winsorize\n",
        "\n",
        "import statsmodels.formula.api as smf\n",
        "import statsmodels.stats.multicomp as mc\n",
        "from statsmodels.formula.api import ols\n",
        "import statsmodels.api as sm\n",
        "from statsmodels.tools.eval_measures import mse, rmse\n",
        "\n",
        "from sklearn import linear_model\n",
        "from sklearn.linear_model import LinearRegression\n",
        "from sklearn.model_selection import train_test_split, cross_val_score\n",
        "from sklearn.linear_model import RidgeCV, LassoCV, ElasticNetCV\n",
        "from sklearn.model_selection import cross_validate\n",
        "from sklearn.model_selection import KFold\n",
        "from sklearn.preprocessing import StandardScaler\n",
        "from sklearn.metrics import mean_absolute_error\n",
        "from sklearn.preprocessing import PolynomialFeatures\n",
        "from sklearn.linear_model import Ridge\n",
        "from sklearn.linear_model import Lasso\n",
        "from sklearn.linear_model import ElasticNet\n",
        "from sklearn.ensemble import RandomForestRegressor\n",
        "from sklearn.neighbors import KNeighborsRegressor\n",
        "from sklearn.model_selection import GridSearchCV\n",
        "from sklearn import neighbors\n",
        "from sklearn.svm import SVR\n",
        "\n",
        "import requests\n",
        "from io import StringIO\n",
        "\n",
        "%matplotlib inline\n",
        "#pd.options.display.float_format = '{:.3f}'.format # Display preferences\n",
        "pd.set_option('display.max_columns', None)\n",
        "pd.set_option('display.max_rows', None)\n",
        "\n",
        "orig_url='https://drive.google.com/file/d/1x6koyYMEzfJJueUcHLyTG_x93Awyk3IH/view?usp=sharing'\n",
        "file_id = orig_url.split('/')[-2]\n",
        "dwn_url='https://drive.google.com/uc?export=download&id=' + file_id\n",
        "url = requests.get(dwn_url).text\n",
        "csv_raw = StringIO(url)\n",
        "fuel_df = pd.read_csv(csv_raw)"
      ],
      "execution_count": null,
      "outputs": [
        {
          "output_type": "stream",
          "text": [
            "Collecting scipy\n",
            "\u001b[?25l  Downloading https://files.pythonhosted.org/packages/2b/a8/f4c66eb529bb252d50e83dbf2909c6502e2f857550f22571ed8556f62d95/scipy-1.5.2-cp36-cp36m-manylinux1_x86_64.whl (25.9MB)\n",
            "\u001b[K     |████████████████████████████████| 25.9MB 166kB/s \n",
            "\u001b[?25hRequirement already satisfied, skipping upgrade: numpy>=1.14.5 in /usr/local/lib/python3.6/dist-packages (from scipy) (1.18.5)\n",
            "\u001b[31mERROR: tensorflow 2.3.0 has requirement scipy==1.4.1, but you'll have scipy 1.5.2 which is incompatible.\u001b[0m\n",
            "\u001b[31mERROR: albumentations 0.1.12 has requirement imgaug<0.2.7,>=0.2.5, but you'll have imgaug 0.2.9 which is incompatible.\u001b[0m\n",
            "Installing collected packages: scipy\n",
            "  Found existing installation: scipy 1.4.1\n",
            "    Uninstalling scipy-1.4.1:\n",
            "      Successfully uninstalled scipy-1.4.1\n",
            "Successfully installed scipy-1.5.2\n"
          ],
          "name": "stdout"
        },
        {
          "output_type": "stream",
          "text": [
            "/usr/local/lib/python3.6/dist-packages/statsmodels/tools/_testing.py:19: FutureWarning: pandas.util.testing is deprecated. Use the functions in the public API at pandas.testing instead.\n",
            "  import pandas.util.testing as tm\n",
            "/usr/local/lib/python3.6/dist-packages/IPython/core/interactiveshell.py:2718: DtypeWarning: Columns (7,16,62,64,65,67,68,78) have mixed types.Specify dtype option on import or set low_memory=False.\n",
            "  interactivity=interactivity, compiler=compiler, result=result)\n"
          ],
          "name": "stderr"
        }
      ]
    },
    {
      "cell_type": "code",
      "metadata": {
        "id": "b7armIPPAUw8",
        "outputId": "f84e8744-c224-4b20-90eb-d5f505e5b76d",
        "colab": {
          "base_uri": "https://localhost:8080/",
          "height": 434
        }
      },
      "source": [
        "fuel_df.head()"
      ],
      "execution_count": null,
      "outputs": [
        {
          "output_type": "execute_result",
          "data": {
            "text/html": [
              "<div>\n",
              "<style scoped>\n",
              "    .dataframe tbody tr th:only-of-type {\n",
              "        vertical-align: middle;\n",
              "    }\n",
              "\n",
              "    .dataframe tbody tr th {\n",
              "        vertical-align: top;\n",
              "    }\n",
              "\n",
              "    .dataframe thead th {\n",
              "        text-align: right;\n",
              "    }\n",
              "</style>\n",
              "<table border=\"1\" class=\"dataframe\">\n",
              "  <thead>\n",
              "    <tr style=\"text-align: right;\">\n",
              "      <th></th>\n",
              "      <th>Vehicle ID</th>\n",
              "      <th>Year</th>\n",
              "      <th>Make</th>\n",
              "      <th>Model</th>\n",
              "      <th>Class</th>\n",
              "      <th>Drive</th>\n",
              "      <th>Transmission</th>\n",
              "      <th>Transmission Descriptor</th>\n",
              "      <th>Engine Index</th>\n",
              "      <th>Engine Descriptor</th>\n",
              "      <th>Engine Cylinders</th>\n",
              "      <th>Engine Displacement</th>\n",
              "      <th>Turbocharger</th>\n",
              "      <th>Supercharger</th>\n",
              "      <th>Fuel Type</th>\n",
              "      <th>Fuel Type 1</th>\n",
              "      <th>Fuel Type 2</th>\n",
              "      <th>City MPG (FT1)</th>\n",
              "      <th>Unrounded City MPG (FT1)</th>\n",
              "      <th>City MPG (FT2)</th>\n",
              "      <th>Unrounded City MPG (FT2)</th>\n",
              "      <th>City Gasoline Consumption (CD)</th>\n",
              "      <th>City Electricity Consumption</th>\n",
              "      <th>City Utility Factor</th>\n",
              "      <th>Highway MPG (FT1)</th>\n",
              "      <th>Unrounded Highway MPG (FT1)</th>\n",
              "      <th>Highway MPG (FT2)</th>\n",
              "      <th>Unrounded Highway MPG (FT2)</th>\n",
              "      <th>Highway Gasoline Consumption (CD)</th>\n",
              "      <th>Highway Electricity Consumption</th>\n",
              "      <th>Highway Utility Factor</th>\n",
              "      <th>Unadjusted City MPG (FT1)</th>\n",
              "      <th>Unadjusted Highway MPG (FT1)</th>\n",
              "      <th>Unadjusted City MPG (FT2)</th>\n",
              "      <th>Unadjusted Highway MPG (FT2)</th>\n",
              "      <th>Combined MPG (FT1)</th>\n",
              "      <th>Unrounded Combined MPG (FT1)</th>\n",
              "      <th>Combined MPG (FT2)</th>\n",
              "      <th>Unrounded Combined MPG (FT2)</th>\n",
              "      <th>Combined Electricity Consumption</th>\n",
              "      <th>Combined Gasoline Consumption (CD)</th>\n",
              "      <th>Combined Utility Factor</th>\n",
              "      <th>Annual Fuel Cost (FT1)</th>\n",
              "      <th>Annual Fuel Cost (FT2)</th>\n",
              "      <th>Gas Guzzler Tax</th>\n",
              "      <th>Save or Spend (5 Year)</th>\n",
              "      <th>Annual Consumption in Barrels (FT1)</th>\n",
              "      <th>Annual Consumption in Barrels (FT2)</th>\n",
              "      <th>Tailpipe CO2 (FT1)</th>\n",
              "      <th>Tailpipe CO2 in Grams/Mile (FT1)</th>\n",
              "      <th>Tailpipe CO2 (FT2)</th>\n",
              "      <th>Tailpipe CO2 in Grams/Mile (FT2)</th>\n",
              "      <th>Fuel Economy Score</th>\n",
              "      <th>GHG Score</th>\n",
              "      <th>GHG Score (Alt Fuel)</th>\n",
              "      <th>My MPG Data</th>\n",
              "      <th>2D Passenger Volume</th>\n",
              "      <th>2D Luggage Volume</th>\n",
              "      <th>4D Passenger Volume</th>\n",
              "      <th>4D Luggage Volume</th>\n",
              "      <th>Hatchback Passenger Volume</th>\n",
              "      <th>Hatchback Luggage Volume</th>\n",
              "      <th>Start Stop Technology</th>\n",
              "      <th>Alternative Fuel/Technology</th>\n",
              "      <th>Electric Motor</th>\n",
              "      <th>Manufacturer Code</th>\n",
              "      <th>Gasoline/Electricity Blended (CD)</th>\n",
              "      <th>Vehicle Charger</th>\n",
              "      <th>Alternate Charger</th>\n",
              "      <th>Hours to Charge (120V)</th>\n",
              "      <th>Hours to Charge (240V)</th>\n",
              "      <th>Hours to Charge (AC 240V)</th>\n",
              "      <th>Composite City MPG</th>\n",
              "      <th>Composite Highway MPG</th>\n",
              "      <th>Composite Combined MPG</th>\n",
              "      <th>Range (FT1)</th>\n",
              "      <th>City Range (FT1)</th>\n",
              "      <th>Highway Range (FT1)</th>\n",
              "      <th>Range (FT2)</th>\n",
              "      <th>City Range (FT2)</th>\n",
              "      <th>Highway Range (FT2)</th>\n",
              "    </tr>\n",
              "  </thead>\n",
              "  <tbody>\n",
              "    <tr>\n",
              "      <th>0</th>\n",
              "      <td>26587</td>\n",
              "      <td>1984</td>\n",
              "      <td>Alfa Romeo</td>\n",
              "      <td>GT V6 2.5</td>\n",
              "      <td>Minicompact Cars</td>\n",
              "      <td>NaN</td>\n",
              "      <td>Manual 5-Speed</td>\n",
              "      <td>NaN</td>\n",
              "      <td>9001</td>\n",
              "      <td>(FFS)</td>\n",
              "      <td>6.0</td>\n",
              "      <td>2.5</td>\n",
              "      <td>NaN</td>\n",
              "      <td>NaN</td>\n",
              "      <td>Regular</td>\n",
              "      <td>Regular Gasoline</td>\n",
              "      <td>NaN</td>\n",
              "      <td>17</td>\n",
              "      <td>0.0</td>\n",
              "      <td>0</td>\n",
              "      <td>0.0</td>\n",
              "      <td>0.0</td>\n",
              "      <td>0.0</td>\n",
              "      <td>0.0</td>\n",
              "      <td>24</td>\n",
              "      <td>0.0</td>\n",
              "      <td>0</td>\n",
              "      <td>0.0</td>\n",
              "      <td>0.0</td>\n",
              "      <td>0.0</td>\n",
              "      <td>0.0</td>\n",
              "      <td>21.0</td>\n",
              "      <td>34.0</td>\n",
              "      <td>0.0</td>\n",
              "      <td>0.0</td>\n",
              "      <td>20</td>\n",
              "      <td>0.0</td>\n",
              "      <td>0</td>\n",
              "      <td>0.0</td>\n",
              "      <td>0.0</td>\n",
              "      <td>0.0</td>\n",
              "      <td>0.0</td>\n",
              "      <td>1750</td>\n",
              "      <td>0</td>\n",
              "      <td>NaN</td>\n",
              "      <td>-2000</td>\n",
              "      <td>16.480500</td>\n",
              "      <td>0.0</td>\n",
              "      <td>-1</td>\n",
              "      <td>444.350000</td>\n",
              "      <td>-1</td>\n",
              "      <td>0.0</td>\n",
              "      <td>-1</td>\n",
              "      <td>-1</td>\n",
              "      <td>-1</td>\n",
              "      <td>N</td>\n",
              "      <td>74</td>\n",
              "      <td>7</td>\n",
              "      <td>0</td>\n",
              "      <td>0</td>\n",
              "      <td>0</td>\n",
              "      <td>0</td>\n",
              "      <td>NaN</td>\n",
              "      <td>NaN</td>\n",
              "      <td>NaN</td>\n",
              "      <td>NaN</td>\n",
              "      <td>False</td>\n",
              "      <td>NaN</td>\n",
              "      <td>NaN</td>\n",
              "      <td>0</td>\n",
              "      <td>0.0</td>\n",
              "      <td>0.0</td>\n",
              "      <td>0</td>\n",
              "      <td>0</td>\n",
              "      <td>0</td>\n",
              "      <td>0</td>\n",
              "      <td>0.0</td>\n",
              "      <td>0.0</td>\n",
              "      <td>NaN</td>\n",
              "      <td>0.0</td>\n",
              "      <td>0.0</td>\n",
              "    </tr>\n",
              "    <tr>\n",
              "      <th>1</th>\n",
              "      <td>27705</td>\n",
              "      <td>1984</td>\n",
              "      <td>Alfa Romeo</td>\n",
              "      <td>GT V6 2.5</td>\n",
              "      <td>Minicompact Cars</td>\n",
              "      <td>NaN</td>\n",
              "      <td>Manual 5-Speed</td>\n",
              "      <td>NaN</td>\n",
              "      <td>9005</td>\n",
              "      <td>(FFS) CA model</td>\n",
              "      <td>6.0</td>\n",
              "      <td>2.5</td>\n",
              "      <td>NaN</td>\n",
              "      <td>NaN</td>\n",
              "      <td>Regular</td>\n",
              "      <td>Regular Gasoline</td>\n",
              "      <td>NaN</td>\n",
              "      <td>17</td>\n",
              "      <td>0.0</td>\n",
              "      <td>0</td>\n",
              "      <td>0.0</td>\n",
              "      <td>0.0</td>\n",
              "      <td>0.0</td>\n",
              "      <td>0.0</td>\n",
              "      <td>24</td>\n",
              "      <td>0.0</td>\n",
              "      <td>0</td>\n",
              "      <td>0.0</td>\n",
              "      <td>0.0</td>\n",
              "      <td>0.0</td>\n",
              "      <td>0.0</td>\n",
              "      <td>21.0</td>\n",
              "      <td>34.0</td>\n",
              "      <td>0.0</td>\n",
              "      <td>0.0</td>\n",
              "      <td>20</td>\n",
              "      <td>0.0</td>\n",
              "      <td>0</td>\n",
              "      <td>0.0</td>\n",
              "      <td>0.0</td>\n",
              "      <td>0.0</td>\n",
              "      <td>0.0</td>\n",
              "      <td>1750</td>\n",
              "      <td>0</td>\n",
              "      <td>NaN</td>\n",
              "      <td>-2000</td>\n",
              "      <td>16.480500</td>\n",
              "      <td>0.0</td>\n",
              "      <td>-1</td>\n",
              "      <td>444.350000</td>\n",
              "      <td>-1</td>\n",
              "      <td>0.0</td>\n",
              "      <td>-1</td>\n",
              "      <td>-1</td>\n",
              "      <td>-1</td>\n",
              "      <td>N</td>\n",
              "      <td>74</td>\n",
              "      <td>7</td>\n",
              "      <td>0</td>\n",
              "      <td>0</td>\n",
              "      <td>0</td>\n",
              "      <td>0</td>\n",
              "      <td>NaN</td>\n",
              "      <td>NaN</td>\n",
              "      <td>NaN</td>\n",
              "      <td>NaN</td>\n",
              "      <td>False</td>\n",
              "      <td>NaN</td>\n",
              "      <td>NaN</td>\n",
              "      <td>0</td>\n",
              "      <td>0.0</td>\n",
              "      <td>0.0</td>\n",
              "      <td>0</td>\n",
              "      <td>0</td>\n",
              "      <td>0</td>\n",
              "      <td>0</td>\n",
              "      <td>0.0</td>\n",
              "      <td>0.0</td>\n",
              "      <td>NaN</td>\n",
              "      <td>0.0</td>\n",
              "      <td>0.0</td>\n",
              "    </tr>\n",
              "    <tr>\n",
              "      <th>2</th>\n",
              "      <td>26561</td>\n",
              "      <td>1984</td>\n",
              "      <td>Alfa Romeo</td>\n",
              "      <td>Spider Veloce 2000</td>\n",
              "      <td>Two Seaters</td>\n",
              "      <td>NaN</td>\n",
              "      <td>Manual 5-Speed</td>\n",
              "      <td>NaN</td>\n",
              "      <td>9002</td>\n",
              "      <td>(FFS)</td>\n",
              "      <td>4.0</td>\n",
              "      <td>2.0</td>\n",
              "      <td>NaN</td>\n",
              "      <td>NaN</td>\n",
              "      <td>Regular</td>\n",
              "      <td>Regular Gasoline</td>\n",
              "      <td>NaN</td>\n",
              "      <td>18</td>\n",
              "      <td>0.0</td>\n",
              "      <td>0</td>\n",
              "      <td>0.0</td>\n",
              "      <td>0.0</td>\n",
              "      <td>0.0</td>\n",
              "      <td>0.0</td>\n",
              "      <td>25</td>\n",
              "      <td>0.0</td>\n",
              "      <td>0</td>\n",
              "      <td>0.0</td>\n",
              "      <td>0.0</td>\n",
              "      <td>0.0</td>\n",
              "      <td>0.0</td>\n",
              "      <td>23.0</td>\n",
              "      <td>35.0</td>\n",
              "      <td>0.0</td>\n",
              "      <td>0.0</td>\n",
              "      <td>21</td>\n",
              "      <td>0.0</td>\n",
              "      <td>0</td>\n",
              "      <td>0.0</td>\n",
              "      <td>0.0</td>\n",
              "      <td>0.0</td>\n",
              "      <td>0.0</td>\n",
              "      <td>1650</td>\n",
              "      <td>0</td>\n",
              "      <td>NaN</td>\n",
              "      <td>-1500</td>\n",
              "      <td>15.695714</td>\n",
              "      <td>0.0</td>\n",
              "      <td>-1</td>\n",
              "      <td>423.190476</td>\n",
              "      <td>-1</td>\n",
              "      <td>0.0</td>\n",
              "      <td>-1</td>\n",
              "      <td>-1</td>\n",
              "      <td>-1</td>\n",
              "      <td>N</td>\n",
              "      <td>0</td>\n",
              "      <td>0</td>\n",
              "      <td>0</td>\n",
              "      <td>0</td>\n",
              "      <td>0</td>\n",
              "      <td>0</td>\n",
              "      <td>NaN</td>\n",
              "      <td>NaN</td>\n",
              "      <td>NaN</td>\n",
              "      <td>NaN</td>\n",
              "      <td>False</td>\n",
              "      <td>NaN</td>\n",
              "      <td>NaN</td>\n",
              "      <td>0</td>\n",
              "      <td>0.0</td>\n",
              "      <td>0.0</td>\n",
              "      <td>0</td>\n",
              "      <td>0</td>\n",
              "      <td>0</td>\n",
              "      <td>0</td>\n",
              "      <td>0.0</td>\n",
              "      <td>0.0</td>\n",
              "      <td>NaN</td>\n",
              "      <td>0.0</td>\n",
              "      <td>0.0</td>\n",
              "    </tr>\n",
              "    <tr>\n",
              "      <th>3</th>\n",
              "      <td>27681</td>\n",
              "      <td>1984</td>\n",
              "      <td>Alfa Romeo</td>\n",
              "      <td>Spider Veloce 2000</td>\n",
              "      <td>Two Seaters</td>\n",
              "      <td>NaN</td>\n",
              "      <td>Manual 5-Speed</td>\n",
              "      <td>NaN</td>\n",
              "      <td>9006</td>\n",
              "      <td>(FFS) CA model</td>\n",
              "      <td>4.0</td>\n",
              "      <td>2.0</td>\n",
              "      <td>NaN</td>\n",
              "      <td>NaN</td>\n",
              "      <td>Regular</td>\n",
              "      <td>Regular Gasoline</td>\n",
              "      <td>NaN</td>\n",
              "      <td>18</td>\n",
              "      <td>0.0</td>\n",
              "      <td>0</td>\n",
              "      <td>0.0</td>\n",
              "      <td>0.0</td>\n",
              "      <td>0.0</td>\n",
              "      <td>0.0</td>\n",
              "      <td>25</td>\n",
              "      <td>0.0</td>\n",
              "      <td>0</td>\n",
              "      <td>0.0</td>\n",
              "      <td>0.0</td>\n",
              "      <td>0.0</td>\n",
              "      <td>0.0</td>\n",
              "      <td>23.0</td>\n",
              "      <td>35.0</td>\n",
              "      <td>0.0</td>\n",
              "      <td>0.0</td>\n",
              "      <td>21</td>\n",
              "      <td>0.0</td>\n",
              "      <td>0</td>\n",
              "      <td>0.0</td>\n",
              "      <td>0.0</td>\n",
              "      <td>0.0</td>\n",
              "      <td>0.0</td>\n",
              "      <td>1650</td>\n",
              "      <td>0</td>\n",
              "      <td>NaN</td>\n",
              "      <td>-1500</td>\n",
              "      <td>15.695714</td>\n",
              "      <td>0.0</td>\n",
              "      <td>-1</td>\n",
              "      <td>423.190476</td>\n",
              "      <td>-1</td>\n",
              "      <td>0.0</td>\n",
              "      <td>-1</td>\n",
              "      <td>-1</td>\n",
              "      <td>-1</td>\n",
              "      <td>N</td>\n",
              "      <td>0</td>\n",
              "      <td>0</td>\n",
              "      <td>0</td>\n",
              "      <td>0</td>\n",
              "      <td>0</td>\n",
              "      <td>0</td>\n",
              "      <td>NaN</td>\n",
              "      <td>NaN</td>\n",
              "      <td>NaN</td>\n",
              "      <td>NaN</td>\n",
              "      <td>False</td>\n",
              "      <td>NaN</td>\n",
              "      <td>NaN</td>\n",
              "      <td>0</td>\n",
              "      <td>0.0</td>\n",
              "      <td>0.0</td>\n",
              "      <td>0</td>\n",
              "      <td>0</td>\n",
              "      <td>0</td>\n",
              "      <td>0</td>\n",
              "      <td>0.0</td>\n",
              "      <td>0.0</td>\n",
              "      <td>NaN</td>\n",
              "      <td>0.0</td>\n",
              "      <td>0.0</td>\n",
              "    </tr>\n",
              "    <tr>\n",
              "      <th>4</th>\n",
              "      <td>27550</td>\n",
              "      <td>1984</td>\n",
              "      <td>AM General</td>\n",
              "      <td>DJ Po Vehicle 2WD</td>\n",
              "      <td>Special Purpose Vehicle 2WD</td>\n",
              "      <td>2-Wheel Drive</td>\n",
              "      <td>Automatic 3-Speed</td>\n",
              "      <td>NaN</td>\n",
              "      <td>1830</td>\n",
              "      <td>(FFS)</td>\n",
              "      <td>4.0</td>\n",
              "      <td>2.5</td>\n",
              "      <td>NaN</td>\n",
              "      <td>NaN</td>\n",
              "      <td>Regular</td>\n",
              "      <td>Regular Gasoline</td>\n",
              "      <td>NaN</td>\n",
              "      <td>18</td>\n",
              "      <td>0.0</td>\n",
              "      <td>0</td>\n",
              "      <td>0.0</td>\n",
              "      <td>0.0</td>\n",
              "      <td>0.0</td>\n",
              "      <td>0.0</td>\n",
              "      <td>17</td>\n",
              "      <td>0.0</td>\n",
              "      <td>0</td>\n",
              "      <td>0.0</td>\n",
              "      <td>0.0</td>\n",
              "      <td>0.0</td>\n",
              "      <td>0.0</td>\n",
              "      <td>22.0</td>\n",
              "      <td>24.0</td>\n",
              "      <td>0.0</td>\n",
              "      <td>0.0</td>\n",
              "      <td>17</td>\n",
              "      <td>0.0</td>\n",
              "      <td>0</td>\n",
              "      <td>0.0</td>\n",
              "      <td>0.0</td>\n",
              "      <td>0.0</td>\n",
              "      <td>0.0</td>\n",
              "      <td>2050</td>\n",
              "      <td>0</td>\n",
              "      <td>NaN</td>\n",
              "      <td>-3500</td>\n",
              "      <td>19.388824</td>\n",
              "      <td>0.0</td>\n",
              "      <td>-1</td>\n",
              "      <td>522.764706</td>\n",
              "      <td>-1</td>\n",
              "      <td>0.0</td>\n",
              "      <td>-1</td>\n",
              "      <td>-1</td>\n",
              "      <td>-1</td>\n",
              "      <td>N</td>\n",
              "      <td>0</td>\n",
              "      <td>0</td>\n",
              "      <td>0</td>\n",
              "      <td>0</td>\n",
              "      <td>0</td>\n",
              "      <td>0</td>\n",
              "      <td>NaN</td>\n",
              "      <td>NaN</td>\n",
              "      <td>NaN</td>\n",
              "      <td>NaN</td>\n",
              "      <td>False</td>\n",
              "      <td>NaN</td>\n",
              "      <td>NaN</td>\n",
              "      <td>0</td>\n",
              "      <td>0.0</td>\n",
              "      <td>0.0</td>\n",
              "      <td>0</td>\n",
              "      <td>0</td>\n",
              "      <td>0</td>\n",
              "      <td>0</td>\n",
              "      <td>0.0</td>\n",
              "      <td>0.0</td>\n",
              "      <td>NaN</td>\n",
              "      <td>0.0</td>\n",
              "      <td>0.0</td>\n",
              "    </tr>\n",
              "  </tbody>\n",
              "</table>\n",
              "</div>"
            ],
            "text/plain": [
              "   Vehicle ID  Year        Make               Model  \\\n",
              "0       26587  1984  Alfa Romeo           GT V6 2.5   \n",
              "1       27705  1984  Alfa Romeo           GT V6 2.5   \n",
              "2       26561  1984  Alfa Romeo  Spider Veloce 2000   \n",
              "3       27681  1984  Alfa Romeo  Spider Veloce 2000   \n",
              "4       27550  1984  AM General   DJ Po Vehicle 2WD   \n",
              "\n",
              "                         Class          Drive       Transmission  \\\n",
              "0             Minicompact Cars            NaN     Manual 5-Speed   \n",
              "1             Minicompact Cars            NaN     Manual 5-Speed   \n",
              "2                  Two Seaters            NaN     Manual 5-Speed   \n",
              "3                  Two Seaters            NaN     Manual 5-Speed   \n",
              "4  Special Purpose Vehicle 2WD  2-Wheel Drive  Automatic 3-Speed   \n",
              "\n",
              "  Transmission Descriptor  Engine Index Engine Descriptor  Engine Cylinders  \\\n",
              "0                     NaN          9001             (FFS)               6.0   \n",
              "1                     NaN          9005    (FFS) CA model               6.0   \n",
              "2                     NaN          9002             (FFS)               4.0   \n",
              "3                     NaN          9006    (FFS) CA model               4.0   \n",
              "4                     NaN          1830             (FFS)               4.0   \n",
              "\n",
              "   Engine Displacement Turbocharger Supercharger Fuel Type       Fuel Type 1  \\\n",
              "0                  2.5          NaN          NaN   Regular  Regular Gasoline   \n",
              "1                  2.5          NaN          NaN   Regular  Regular Gasoline   \n",
              "2                  2.0          NaN          NaN   Regular  Regular Gasoline   \n",
              "3                  2.0          NaN          NaN   Regular  Regular Gasoline   \n",
              "4                  2.5          NaN          NaN   Regular  Regular Gasoline   \n",
              "\n",
              "  Fuel Type 2  City MPG (FT1)  Unrounded City MPG (FT1)  City MPG (FT2)  \\\n",
              "0         NaN              17                       0.0               0   \n",
              "1         NaN              17                       0.0               0   \n",
              "2         NaN              18                       0.0               0   \n",
              "3         NaN              18                       0.0               0   \n",
              "4         NaN              18                       0.0               0   \n",
              "\n",
              "   Unrounded City MPG (FT2)  City Gasoline Consumption (CD)  \\\n",
              "0                       0.0                             0.0   \n",
              "1                       0.0                             0.0   \n",
              "2                       0.0                             0.0   \n",
              "3                       0.0                             0.0   \n",
              "4                       0.0                             0.0   \n",
              "\n",
              "   City Electricity Consumption  City Utility Factor  Highway MPG (FT1)  \\\n",
              "0                           0.0                  0.0                 24   \n",
              "1                           0.0                  0.0                 24   \n",
              "2                           0.0                  0.0                 25   \n",
              "3                           0.0                  0.0                 25   \n",
              "4                           0.0                  0.0                 17   \n",
              "\n",
              "   Unrounded Highway MPG (FT1)  Highway MPG (FT2)  \\\n",
              "0                          0.0                  0   \n",
              "1                          0.0                  0   \n",
              "2                          0.0                  0   \n",
              "3                          0.0                  0   \n",
              "4                          0.0                  0   \n",
              "\n",
              "   Unrounded Highway MPG (FT2)  Highway Gasoline Consumption (CD)  \\\n",
              "0                          0.0                                0.0   \n",
              "1                          0.0                                0.0   \n",
              "2                          0.0                                0.0   \n",
              "3                          0.0                                0.0   \n",
              "4                          0.0                                0.0   \n",
              "\n",
              "   Highway Electricity Consumption  Highway Utility Factor  \\\n",
              "0                              0.0                     0.0   \n",
              "1                              0.0                     0.0   \n",
              "2                              0.0                     0.0   \n",
              "3                              0.0                     0.0   \n",
              "4                              0.0                     0.0   \n",
              "\n",
              "   Unadjusted City MPG (FT1)  Unadjusted Highway MPG (FT1)  \\\n",
              "0                       21.0                          34.0   \n",
              "1                       21.0                          34.0   \n",
              "2                       23.0                          35.0   \n",
              "3                       23.0                          35.0   \n",
              "4                       22.0                          24.0   \n",
              "\n",
              "   Unadjusted City MPG (FT2)  Unadjusted Highway MPG (FT2)  \\\n",
              "0                        0.0                           0.0   \n",
              "1                        0.0                           0.0   \n",
              "2                        0.0                           0.0   \n",
              "3                        0.0                           0.0   \n",
              "4                        0.0                           0.0   \n",
              "\n",
              "   Combined MPG (FT1)  Unrounded Combined MPG (FT1)  Combined MPG (FT2)  \\\n",
              "0                  20                           0.0                   0   \n",
              "1                  20                           0.0                   0   \n",
              "2                  21                           0.0                   0   \n",
              "3                  21                           0.0                   0   \n",
              "4                  17                           0.0                   0   \n",
              "\n",
              "   Unrounded Combined MPG (FT2)  Combined Electricity Consumption  \\\n",
              "0                           0.0                               0.0   \n",
              "1                           0.0                               0.0   \n",
              "2                           0.0                               0.0   \n",
              "3                           0.0                               0.0   \n",
              "4                           0.0                               0.0   \n",
              "\n",
              "   Combined Gasoline Consumption (CD)  Combined Utility Factor  \\\n",
              "0                                 0.0                      0.0   \n",
              "1                                 0.0                      0.0   \n",
              "2                                 0.0                      0.0   \n",
              "3                                 0.0                      0.0   \n",
              "4                                 0.0                      0.0   \n",
              "\n",
              "   Annual Fuel Cost (FT1)  Annual Fuel Cost (FT2) Gas Guzzler Tax  \\\n",
              "0                    1750                       0             NaN   \n",
              "1                    1750                       0             NaN   \n",
              "2                    1650                       0             NaN   \n",
              "3                    1650                       0             NaN   \n",
              "4                    2050                       0             NaN   \n",
              "\n",
              "   Save or Spend (5 Year)  Annual Consumption in Barrels (FT1)  \\\n",
              "0                   -2000                            16.480500   \n",
              "1                   -2000                            16.480500   \n",
              "2                   -1500                            15.695714   \n",
              "3                   -1500                            15.695714   \n",
              "4                   -3500                            19.388824   \n",
              "\n",
              "   Annual Consumption in Barrels (FT2)  Tailpipe CO2 (FT1)  \\\n",
              "0                                  0.0                  -1   \n",
              "1                                  0.0                  -1   \n",
              "2                                  0.0                  -1   \n",
              "3                                  0.0                  -1   \n",
              "4                                  0.0                  -1   \n",
              "\n",
              "   Tailpipe CO2 in Grams/Mile (FT1)  Tailpipe CO2 (FT2)  \\\n",
              "0                        444.350000                  -1   \n",
              "1                        444.350000                  -1   \n",
              "2                        423.190476                  -1   \n",
              "3                        423.190476                  -1   \n",
              "4                        522.764706                  -1   \n",
              "\n",
              "   Tailpipe CO2 in Grams/Mile (FT2)  Fuel Economy Score  GHG Score  \\\n",
              "0                               0.0                  -1         -1   \n",
              "1                               0.0                  -1         -1   \n",
              "2                               0.0                  -1         -1   \n",
              "3                               0.0                  -1         -1   \n",
              "4                               0.0                  -1         -1   \n",
              "\n",
              "   GHG Score (Alt Fuel) My MPG Data  2D Passenger Volume  2D Luggage Volume  \\\n",
              "0                    -1           N                   74                  7   \n",
              "1                    -1           N                   74                  7   \n",
              "2                    -1           N                    0                  0   \n",
              "3                    -1           N                    0                  0   \n",
              "4                    -1           N                    0                  0   \n",
              "\n",
              "   4D Passenger Volume  4D Luggage Volume  Hatchback Passenger Volume  \\\n",
              "0                    0                  0                           0   \n",
              "1                    0                  0                           0   \n",
              "2                    0                  0                           0   \n",
              "3                    0                  0                           0   \n",
              "4                    0                  0                           0   \n",
              "\n",
              "   Hatchback Luggage Volume Start Stop Technology Alternative Fuel/Technology  \\\n",
              "0                         0                   NaN                         NaN   \n",
              "1                         0                   NaN                         NaN   \n",
              "2                         0                   NaN                         NaN   \n",
              "3                         0                   NaN                         NaN   \n",
              "4                         0                   NaN                         NaN   \n",
              "\n",
              "  Electric Motor Manufacturer Code  Gasoline/Electricity Blended (CD)  \\\n",
              "0            NaN               NaN                              False   \n",
              "1            NaN               NaN                              False   \n",
              "2            NaN               NaN                              False   \n",
              "3            NaN               NaN                              False   \n",
              "4            NaN               NaN                              False   \n",
              "\n",
              "  Vehicle Charger Alternate Charger  Hours to Charge (120V)  \\\n",
              "0             NaN               NaN                       0   \n",
              "1             NaN               NaN                       0   \n",
              "2             NaN               NaN                       0   \n",
              "3             NaN               NaN                       0   \n",
              "4             NaN               NaN                       0   \n",
              "\n",
              "   Hours to Charge (240V)  Hours to Charge (AC 240V)  Composite City MPG  \\\n",
              "0                     0.0                        0.0                   0   \n",
              "1                     0.0                        0.0                   0   \n",
              "2                     0.0                        0.0                   0   \n",
              "3                     0.0                        0.0                   0   \n",
              "4                     0.0                        0.0                   0   \n",
              "\n",
              "   Composite Highway MPG  Composite Combined MPG  Range (FT1)  \\\n",
              "0                      0                       0            0   \n",
              "1                      0                       0            0   \n",
              "2                      0                       0            0   \n",
              "3                      0                       0            0   \n",
              "4                      0                       0            0   \n",
              "\n",
              "   City Range (FT1)  Highway Range (FT1) Range (FT2)  City Range (FT2)  \\\n",
              "0               0.0                  0.0         NaN               0.0   \n",
              "1               0.0                  0.0         NaN               0.0   \n",
              "2               0.0                  0.0         NaN               0.0   \n",
              "3               0.0                  0.0         NaN               0.0   \n",
              "4               0.0                  0.0         NaN               0.0   \n",
              "\n",
              "   Highway Range (FT2)  \n",
              "0                  0.0  \n",
              "1                  0.0  \n",
              "2                  0.0  \n",
              "3                  0.0  \n",
              "4                  0.0  "
            ]
          },
          "metadata": {
            "tags": []
          },
          "execution_count": 3
        }
      ]
    },
    {
      "cell_type": "code",
      "metadata": {
        "id": "fNxfAyEClcAo",
        "outputId": "d60f1bd5-6b15-4e00-ed74-172bb33e413b",
        "colab": {
          "base_uri": "https://localhost:8080/",
          "height": 1000
        }
      },
      "source": [
        "fuel_df.info()"
      ],
      "execution_count": null,
      "outputs": [
        {
          "output_type": "stream",
          "text": [
            "<class 'pandas.core.frame.DataFrame'>\n",
            "RangeIndex: 38113 entries, 0 to 38112\n",
            "Data columns (total 81 columns):\n",
            " #   Column                               Non-Null Count  Dtype  \n",
            "---  ------                               --------------  -----  \n",
            " 0   Vehicle ID                           38113 non-null  int64  \n",
            " 1   Year                                 38113 non-null  int64  \n",
            " 2   Make                                 38113 non-null  object \n",
            " 3   Model                                38113 non-null  object \n",
            " 4   Class                                38113 non-null  object \n",
            " 5   Drive                                36924 non-null  object \n",
            " 6   Transmission                         38102 non-null  object \n",
            " 7   Transmission Descriptor              15045 non-null  object \n",
            " 8   Engine Index                         38113 non-null  int64  \n",
            " 9   Engine Descriptor                    22693 non-null  object \n",
            " 10  Engine Cylinders                     37977 non-null  float64\n",
            " 11  Engine Displacement                  37979 non-null  float64\n",
            " 12  Turbocharger                         5239 non-null   object \n",
            " 13  Supercharger                         693 non-null    object \n",
            " 14  Fuel Type                            38113 non-null  object \n",
            " 15  Fuel Type 1                          38113 non-null  object \n",
            " 16  Fuel Type 2                          1438 non-null   object \n",
            " 17  City MPG (FT1)                       38113 non-null  int64  \n",
            " 18  Unrounded City MPG (FT1)             38113 non-null  float64\n",
            " 19  City MPG (FT2)                       38113 non-null  int64  \n",
            " 20  Unrounded City MPG (FT2)             38113 non-null  float64\n",
            " 21  City Gasoline Consumption (CD)       38113 non-null  float64\n",
            " 22  City Electricity Consumption         38113 non-null  float64\n",
            " 23  City Utility Factor                  38113 non-null  float64\n",
            " 24  Highway MPG (FT1)                    38113 non-null  int64  \n",
            " 25  Unrounded Highway MPG (FT1)          38113 non-null  float64\n",
            " 26  Highway MPG (FT2)                    38113 non-null  int64  \n",
            " 27  Unrounded Highway MPG (FT2)          38113 non-null  float64\n",
            " 28  Highway Gasoline Consumption (CD)    38113 non-null  float64\n",
            " 29  Highway Electricity Consumption      38113 non-null  float64\n",
            " 30  Highway Utility Factor               38113 non-null  float64\n",
            " 31  Unadjusted City MPG (FT1)            38113 non-null  float64\n",
            " 32  Unadjusted Highway MPG (FT1)         38113 non-null  float64\n",
            " 33  Unadjusted City MPG (FT2)            38113 non-null  float64\n",
            " 34  Unadjusted Highway MPG (FT2)         38113 non-null  float64\n",
            " 35  Combined MPG (FT1)                   38113 non-null  int64  \n",
            " 36  Unrounded Combined MPG (FT1)         38113 non-null  float64\n",
            " 37  Combined MPG (FT2)                   38113 non-null  int64  \n",
            " 38  Unrounded Combined MPG (FT2)         38113 non-null  float64\n",
            " 39  Combined Electricity Consumption     38113 non-null  float64\n",
            " 40  Combined Gasoline Consumption (CD)   38113 non-null  float64\n",
            " 41  Combined Utility Factor              38113 non-null  float64\n",
            " 42  Annual Fuel Cost (FT1)               38113 non-null  int64  \n",
            " 43  Annual Fuel Cost (FT2)               38113 non-null  int64  \n",
            " 44  Gas Guzzler Tax                      2296 non-null   object \n",
            " 45  Save or Spend (5 Year)               38113 non-null  int64  \n",
            " 46  Annual Consumption in Barrels (FT1)  38113 non-null  float64\n",
            " 47  Annual Consumption in Barrels (FT2)  38113 non-null  float64\n",
            " 48  Tailpipe CO2 (FT1)                   38113 non-null  int64  \n",
            " 49  Tailpipe CO2 in Grams/Mile (FT1)     38113 non-null  float64\n",
            " 50  Tailpipe CO2 (FT2)                   38113 non-null  int64  \n",
            " 51  Tailpipe CO2 in Grams/Mile (FT2)     38113 non-null  float64\n",
            " 52  Fuel Economy Score                   38113 non-null  int64  \n",
            " 53  GHG Score                            38113 non-null  int64  \n",
            " 54  GHG Score (Alt Fuel)                 38113 non-null  int64  \n",
            " 55  My MPG Data                          38113 non-null  object \n",
            " 56  2D Passenger Volume                  38113 non-null  int64  \n",
            " 57  2D Luggage Volume                    38113 non-null  int64  \n",
            " 58  4D Passenger Volume                  38113 non-null  int64  \n",
            " 59  4D Luggage Volume                    38113 non-null  int64  \n",
            " 60  Hatchback Passenger Volume           38113 non-null  int64  \n",
            " 61  Hatchback Luggage Volume             38113 non-null  int64  \n",
            " 62  Start Stop Technology                6443 non-null   object \n",
            " 63  Alternative Fuel/Technology          3047 non-null   object \n",
            " 64  Electric Motor                       604 non-null    object \n",
            " 65  Manufacturer Code                    7319 non-null   object \n",
            " 66  Gasoline/Electricity Blended (CD)    38113 non-null  bool   \n",
            " 67  Vehicle Charger                      48 non-null     object \n",
            " 68  Alternate Charger                    46 non-null     object \n",
            " 69  Hours to Charge (120V)               38113 non-null  int64  \n",
            " 70  Hours to Charge (240V)               38113 non-null  float64\n",
            " 71  Hours to Charge (AC 240V)            38113 non-null  float64\n",
            " 72  Composite City MPG                   38113 non-null  int64  \n",
            " 73  Composite Highway MPG                38113 non-null  int64  \n",
            " 74  Composite Combined MPG               38113 non-null  int64  \n",
            " 75  Range (FT1)                          38113 non-null  int64  \n",
            " 76  City Range (FT1)                     38113 non-null  float64\n",
            " 77  Highway Range (FT1)                  38113 non-null  float64\n",
            " 78  Range (FT2)                          1433 non-null   object \n",
            " 79  City Range (FT2)                     38113 non-null  float64\n",
            " 80  Highway Range (FT2)                  38113 non-null  float64\n",
            "dtypes: bool(1), float64(31), int64(28), object(21)\n",
            "memory usage: 23.3+ MB\n"
          ],
          "name": "stdout"
        }
      ]
    },
    {
      "cell_type": "markdown",
      "metadata": {
        "id": "mjh4gaoJOsA0"
      },
      "source": [
        "# Feature Selection Functions"
      ]
    },
    {
      "cell_type": "code",
      "metadata": {
        "id": "Lr0YADzvpvIy"
      },
      "source": [
        "def sort_list(sub_li): \n",
        "  return (sorted(sub_li, key = lambda x: x[1]))  \n",
        "\n",
        "def z_to_raw(z, std, average):\n",
        "  raw_score = int(average + (std)*(z))\n",
        "  return raw_score  "
      ],
      "execution_count": null,
      "outputs": []
    },
    {
      "cell_type": "markdown",
      "metadata": {
        "id": "KE-ta_nEp8xp"
      },
      "source": [
        "**create_n_groups** - used to transform discrete variables into categorical variables using the z-score information."
      ]
    },
    {
      "cell_type": "code",
      "metadata": {
        "id": "RItwAYYFp7pI"
      },
      "source": [
        "def create_n_groups(feature_name, data_list, num_groups):\n",
        "\n",
        "  min_val = min(data_list[2])-.1\n",
        "  max_val = max(data_list[2])+.1\n",
        "  full_range = max_val - min_val\n",
        "\n",
        "  thresholds = []\n",
        "  result_list = []\n",
        "  group_len = full_range / num_groups\n",
        "\n",
        "  for i in range(num_groups-1):\n",
        "    zsco = min_val + ((i+1)*group_len)\n",
        "    thresholds.append(zsco)\n",
        "    #thresholds.append(data_list[0] + (zsco*data_list[1]))\n",
        "  thresholds.insert(0, min_val)\n",
        "  thresholds.append(max_val)\n",
        "  #thresholds.insert(0, data_list[0] + (min_val*data_list[1]))\n",
        "  result_list.append([feature_name, thresholds])\n",
        " \n",
        "  return result_list"
      ],
      "execution_count": null,
      "outputs": []
    },
    {
      "cell_type": "markdown",
      "metadata": {
        "id": "MIOpvmepHRoX"
      },
      "source": [
        "**perform_anova:** - used for categorical feature selection"
      ]
    },
    {
      "cell_type": "code",
      "metadata": {
        "id": "kae0jhs0zFR3"
      },
      "source": [
        "def perform_anova(var_name, tar_name, data):\n",
        "  base_input = tar_name + ' ~ ' + var_name\n",
        "\n",
        "  model = ols(base_input, data = data).fit()\n",
        "  table = sm.stats.anova_lm(model, typ=2)\n",
        "\n",
        "  x = table.loc[var_name, 'F']\n",
        "  y = table.loc[var_name, 'PR(>F)']\n",
        "\n",
        "  return x, y"
      ],
      "execution_count": null,
      "outputs": []
    },
    {
      "cell_type": "markdown",
      "metadata": {
        "id": "YbYvxl4eHZ40"
      },
      "source": [
        "**analyze_categorical:** - used for categorical feature selection."
      ]
    },
    {
      "cell_type": "code",
      "metadata": {
        "id": "XP1VfckCzPxV"
      },
      "source": [
        "#write a function that returns the comparison matrix and the % of significant groups by mean for categorical features\n",
        "def analyze_categorical(feature_name, target_name, data_frame):\n",
        "  cat_list = data_frame[feature_name].unique()\n",
        "\n",
        "  answer_df = pd.DataFrame(index=cat_list, columns=cat_list)\n",
        "\n",
        "  if (len(cat_list) < 2):\n",
        "    answer = 0\n",
        "    return answer_df, answer\n",
        "\n",
        "  comparison_score = 0\n",
        "  for i in range(0, len(cat_list)):\n",
        "    for j in range(i+1, len(cat_list)): \n",
        "      if(stats.ttest_ind(\n",
        "        data_frame[data_frame[feature_name]==cat_list[i]][target_name], \n",
        "        data_frame[data_frame[feature_name]==cat_list[j]][target_name], nan_policy='omit')[1] < .05):\n",
        "        answer_df.at[cat_list[i], cat_list[j]] = True\n",
        "        comparison_score = comparison_score + 1\n",
        "      else:\n",
        "        answer_df.at[cat_list[i], cat_list[j]] = '--'\n",
        "\n",
        "  #calculate the % of comparisons that display a significant difference\n",
        "  total_comparisons = ((len(cat_list) ** 2) / 2) - (len(cat_list) / 2)\n",
        "  answer = comparison_score / total_comparisons\n",
        "  \n",
        "  return answer_df, answer"
      ],
      "execution_count": null,
      "outputs": []
    },
    {
      "cell_type": "markdown",
      "metadata": {
        "id": "LiBRy8-KHhCA"
      },
      "source": [
        "**perform_feature_selection:** - removes extraneous variables from the model and performs data winsorization."
      ]
    },
    {
      "cell_type": "code",
      "metadata": {
        "id": "VpM8OR5kV0Re"
      },
      "source": [
        "# assumes null values have already been handled and target is a continuous variable\n",
        "def perform_feature_selection(target, data, cont_thresh, multi_thresh, cat_thresh, winz, *auto_delete):\n",
        "\n",
        "  for col in auto_delete:\n",
        "    data = data.drop(col, axis = 1) \n",
        "\n",
        "  #fill in the null values for the continuous features with 0's\n",
        "  con_full_df = data.select_dtypes(include=['float', 'int']).copy()\n",
        "\n",
        "  #move the target variable to the begginning of the data frame\n",
        "  raw_names = con_full_df.columns.values.tolist()\n",
        "  column_no = raw_names.index(target)\n",
        "  indices = list(range(len(raw_names)))\n",
        "  indices.remove(column_no)\n",
        "  indices.insert(0, column_no)\n",
        "  con_full_df = con_full_df[con_full_df.columns[indices]]\n",
        "\n",
        "  #create a winsorized version of the data frame (continuous variables)\n",
        "  winz_con_full_df = pd.DataFrame()\n",
        "  dataframe_columns = con_full_df.columns.tolist()\n",
        "  for feature in dataframe_columns:\n",
        "    winz_con_full_df[feature] = winsorize(con_full_df[feature], (0.10, 0.10), nan_policy='omit')\n",
        "\n",
        "  #create a sorted list of all of the continuous variables that have over 30% correlation with the saleprice\n",
        "  corr_matrix_df = winz_con_full_df.corr()\n",
        "\n",
        "  #create a list that has the target variable along with all of the relevant continuous features\n",
        "  index_list = corr_matrix_df[corr_matrix_df[target].abs() > cont_thresh][target].index.tolist()\n",
        "\n",
        "  #construct a new data frame with all of the continuous variables that are most correlated with the saleprice\n",
        "  winz_con_corr_df = winz_con_full_df.filter(index_list, axis=1)\n",
        "\n",
        "  # Create a correlation matrix without the target variable in order to address multi-collinearity\n",
        "  drop_target_df = winz_con_corr_df.drop([target], axis=1)\n",
        "  abs_corr_matrix_df = drop_target_df.corr().abs()\n",
        "\n",
        "  # Select upper triangle of correlation matrix\n",
        "  upper = abs_corr_matrix_df.where(np.triu(np.ones(abs_corr_matrix_df.shape), k=1).astype(np.bool))\n",
        "\n",
        "  # Collect index of feature columns that remain after the multicollinearity refinement\n",
        "  to_drop = [column for column in upper.columns if any(upper[column] > multi_thresh)]\n",
        "\n",
        "  # Drop features that are too heavily correlated with one another\n",
        "  con_features_df = winz_con_corr_df.drop(winz_con_corr_df[to_drop], axis=1)  \n",
        "\n",
        "  # Create a data frame that contains the categorical variables\n",
        "  cat_full_df = data.select_dtypes(include=['object', 'category', 'bool']).copy()\n",
        "\n",
        "  # Add in the saleprice variable to the front of the data frame\n",
        "  cat_full_df[target] = winz_con_full_df[target]\n",
        "  new_order = list(range(0, len(cat_full_df.columns)-1))\n",
        "  new_order.insert(0, len(cat_full_df.columns)-1)\n",
        "  cat_full_df = cat_full_df[cat_full_df.columns[new_order]]\n",
        "\n",
        "\n",
        "  ####-----------------create an anova categorical feature selection option----------------###\n",
        "\n",
        "\n",
        "  #create a dictionary with all of the comparison matrices and their t-test scores\n",
        "  column_list = cat_full_df.columns.tolist()\n",
        "  column_list.pop(0)\n",
        "\n",
        "  categorical_scores = []\n",
        "  categorical_frames = []\n",
        "  for var in column_list:\n",
        "    comparison_df, comparison_value = analyze_categorical(var, target, cat_full_df)\n",
        "    categorical_scores.append(comparison_value)\n",
        "    categorical_frames.append(comparison_df)\n",
        "\n",
        "  variable_array = list(zip(categorical_frames, categorical_scores))\n",
        "  comparison_dictionary = dict(zip(column_list, variable_array))\n",
        "\n",
        "  #for var in column_list:\n",
        "    #print('{} comparison score: {}%'.format(var, round((comparison_dictionary[var][1] * 100), 2)))\n",
        "\n",
        "  #create a list of all of the valid categorical features\n",
        "  valid_categorical = []\n",
        "  for feature in column_list:\n",
        "    if comparison_dictionary[feature][1] >= cat_thresh:\n",
        "      valid_categorical.append(feature)  \n",
        "\n",
        "  #merge the selected categorical and continuous features into a single data frame to build the linear regression model\n",
        "  valid_categorical_df = cat_full_df.filter(valid_categorical, axis=1)\n",
        "  valid_categorical_df.insert(loc=0, column = target, value = winz_con_full_df[target])\n",
        "  filtered_data_df = pd.merge(con_features_df, valid_categorical_df, right_index=True, left_index=True) #filtered_data_df\n",
        "  target_enc_y = target + '_y'\n",
        "  target_enc_x = target + '_x'\n",
        "  del filtered_data_df[target_enc_y]\n",
        "  filtered_data_df.rename(columns = {target_enc_x: target}, inplace = True) \n",
        "\n",
        "  #save a merged dataframe with the final categorical and continuous before the encoding\n",
        "  pre_filtered_data_df = filtered_data_df.copy()\n",
        "\n",
        "  #Encode the filtered data frame and delete the unencoded columns\n",
        "  for feature in valid_categorical:\n",
        "    filtered_data_df = pd.merge(filtered_data_df, pd.get_dummies(filtered_data_df[feature], drop_first=True), \n",
        "                                    right_index=True, left_index=True)\n",
        "    del filtered_data_df[feature]\n",
        "\n",
        "  #pdb.set_trace()\n",
        "\n",
        "  return pre_filtered_data_df, filtered_data_df, upper, comparison_dictionary  #unencoded and encoded dataframes"
      ],
      "execution_count": null,
      "outputs": []
    },
    {
      "cell_type": "markdown",
      "metadata": {
        "id": "z5k8K6VI9wd3"
      },
      "source": [
        "# >>> Set Feature Selection Conditions"
      ]
    },
    {
      "cell_type": "markdown",
      "metadata": {
        "id": "sCqxnYwn3-Mc"
      },
      "source": [
        "**Dashboard:**"
      ]
    },
    {
      "cell_type": "code",
      "metadata": {
        "id": "6eBdII1B95jo"
      },
      "source": [
        "tar_var = 'Annual Consumption in Barrels (FT1)'  # input the name of the continuous target variable  \n",
        "auto_remove = ['Vehicle ID', 'Engine Descriptor', 'Model']  # input the name of any columns to auto remove before feature selection\n",
        "\n",
        "con_threshold = .65 # perform preliminary feature selection for variables that are correlated above this value\n",
        "con_multi_threshold = .30 # eliminate the least correlated variable when there is a multicollinear relationship above this threshold \n",
        "cat_threshold = .65 # select for categorical features with a percentage of significant mean value differences above this threshold "
      ],
      "execution_count": null,
      "outputs": []
    },
    {
      "cell_type": "markdown",
      "metadata": {
        "id": "fo5BMYniOkTY"
      },
      "source": [
        "# Feature Engineering and Data Cleaning"
      ]
    },
    {
      "cell_type": "markdown",
      "metadata": {
        "id": "TqrqENTk5UOr"
      },
      "source": [
        "Handle null values, transform discrete variables, and transform duplicate sub category names."
      ]
    },
    {
      "cell_type": "code",
      "metadata": {
        "id": "zTt2Fr3cIa6e",
        "outputId": "c4d7c958-a658-4bd6-f538-afa7f325d3b0",
        "colab": {
          "base_uri": "https://localhost:8080/",
          "height": 70
        }
      },
      "source": [
        "tic = time.perf_counter()\n",
        "\n",
        "# Create a data frame that contains the continuous variables and handle the null values\n",
        "non_object_df = fuel_df.select_dtypes(exclude=['object']).copy()\n",
        "non_object_df.dropna(inplace=True)\n",
        "\n",
        "# Create a data frame that contains the categorical variables and handle the null values\n",
        "cat_df = fuel_df.select_dtypes(include=['object', 'bool']).copy()\n",
        "cat_bool_names = fuel_df.select_dtypes(include=['bool']).columns.values.tolist()\n",
        "for bool_col in cat_bool_names:\n",
        "  cat_df[bool_col] = cat_df[bool_col].astype(str)\n",
        "cat_df.fillna('NA', inplace=True)\n",
        "\n",
        "con_float_df = fuel_df.select_dtypes(include=['float']).copy()\n",
        "float_names = con_float_df.columns.values.tolist()\n",
        "# create a list of float values that have less than 40 unique values\n",
        "discrete_floats = []\n",
        "for i in range(len(float_names)):\n",
        "  item_len = len(sorted(con_float_df[float_names[i]].unique()))\n",
        "  if (item_len < 40):\n",
        "    discrete_floats.append(float_names[i])\n",
        "\n",
        "# Transform discrete variables into categorical features\n",
        "discrete_df = non_object_df.select_dtypes(include=['int']).copy()\n",
        "for col_name in discrete_floats:\n",
        "  discrete_df[col_name] = con_float_df[col_name]\n",
        "  del con_float_df[col_name]\n",
        "\n",
        "# Add the target variable to the continuous list if it is a discrete value\n",
        "if (tar_var in discrete_df.columns):\n",
        "  con_float_df[tar_var] = discrete_df[tar_var]\n",
        "  del discrete_df[tar_var]\n",
        "\n",
        "discrete_col_lengths = []\n",
        "for col in discrete_df.columns:\n",
        "  discrete_col_lengths.append([col, len(discrete_df[col].unique())])\n",
        "discrete_var_depth = sort_list(discrete_col_lengths)\n",
        "\n",
        "# Remove any discrete variables that only have 1 unique value o/w capture z-score values\n",
        "z_scores = {}\n",
        "delete_features = []\n",
        "for discrete_info in discrete_var_depth:\n",
        "  if (discrete_info[1] ==  1):\n",
        "    delete_features.append(discrete_info[0])\n",
        "    continue\n",
        "  col_name = discrete_info[0]\n",
        "  stdev = statistics.pstdev(discrete_df[col_name]) \n",
        "  mean = sum(discrete_df[col_name]) / len(discrete_df[col_name])\n",
        "  z_scores.update({col_name : [mean, statistics.pstdev(discrete_df[col_name]), stats.zscore(discrete_df[col_name])]})\n",
        "\n",
        "# Determine how to break the discrete values up into 'evenly represented' groups according to the z-scores\n",
        "z_score_thresholds = []\n",
        "for feature in z_scores.keys():\n",
        "  num_groups = 2\n",
        "  if (len(set(z_scores[feature][2])) > 10):\n",
        "    num_groups = 3\n",
        "  z_score_thresholds.append(create_n_groups(str(feature), z_scores[feature], num_groups))\n",
        "\n",
        "# Remove any features that only contain 1 unique z-score in their set\n",
        "disc_cat_thresholds = []\n",
        "for i in range(len(z_score_thresholds)):\n",
        "  if (len(set(z_score_thresholds[i][0][1])) == 1):\n",
        "    delete_features.append(z_score_thresholds[i][0][0])\n",
        "  else:\n",
        "    disc_cat_thresholds.append(z_score_thresholds[i])\n",
        "\n",
        "# Replace the columns in the dataframe with the z score values\n",
        "for key in z_scores.keys():\n",
        "  del discrete_df[str(key)]\n",
        "  discrete_df[str(key)] = z_scores[str(key)][2]\n",
        "\n",
        "for i in range(len(disc_cat_thresholds)):\n",
        "  category = disc_cat_thresholds[i][0][0]\n",
        "  if (len(disc_cat_thresholds[i][0][1]) == 4):\n",
        "    new_categories = pd.cut(discrete_df[category], bins = disc_cat_thresholds[i][0][1], labels = ['Low', 'Med', 'High'])   \n",
        "    del discrete_df[category]\n",
        "    discrete_df.insert(0, category, new_categories)\n",
        "  else:\n",
        "    new_categories = pd.cut(discrete_df[category], bins = disc_cat_thresholds[i][0][1], labels = ['Low', 'High'])   \n",
        "    del discrete_df[category]\n",
        "    discrete_df.insert(0, category, new_categories)    \n",
        "         \n",
        "cat_combined_df = pd.merge(discrete_df, cat_df, right_index=True, left_index=True)\n",
        "cat_combined_df = cat_combined_df.drop(columns=delete_features)\n",
        "\n",
        "# Create a dictionary that contains all of the subcategory names\n",
        "cat_feat_dict = {}\n",
        "[cat_feat_dict.update({cat_combined_df.columns[i] : cat_combined_df[cat_combined_df.columns[i]].unique()}) for i in range(len(cat_combined_df.columns))]\n",
        "\n",
        "# Create a list of all of the subcategory names that are duplicated in other categories\n",
        "change_list = []\n",
        "for key in cat_feat_dict.keys():\n",
        "  for i in range(len(cat_feat_dict[key])):\n",
        "    for comp_key in cat_feat_dict.keys():\n",
        "      if (key == comp_key):\n",
        "        continue\n",
        "      if (cat_feat_dict[key][i] in cat_feat_dict[comp_key]):\n",
        "        change_list.append([cat_feat_dict[key][i], str(key)])\n",
        "\n",
        "rename_vars = [] \n",
        "[rename_vars.append(var_info) for var_info in change_list if var_info not in rename_vars] \n",
        "\n",
        "# Change the names of all of the duplicated subcategories in the data frame\n",
        "for i in range(len(rename_vars)):\n",
        "  category = rename_vars[i][1]\n",
        "  value = rename_vars[i][0]\n",
        "  new_value = value + '-' + category\n",
        "  new_col = cat_combined_df[category].replace(value, new_value)\n",
        "  cat_combined_df.drop(columns=[category])\n",
        "  cat_combined_df[category] = new_col\n",
        "  \n",
        "# Merge the two data frames back together\n",
        "full_data_frame = pd.merge(con_float_df, cat_combined_df, right_index=True, left_index=True)\n",
        "\n",
        "toc = time.perf_counter()\n",
        "seconds = toc - tic\n",
        "mins = int(seconds / 60)\n",
        "secs = int(seconds % 60)\n",
        "print('\\n')\n",
        "print(\"The Feature Engineering step completed in {} minutes and {} seconds\".format(mins, secs))  "
      ],
      "execution_count": null,
      "outputs": [
        {
          "output_type": "stream",
          "text": [
            "\n",
            "\n",
            "The Feature Engineering step completed in 0 minutes and 10 seconds\n"
          ],
          "name": "stdout"
        }
      ]
    },
    {
      "cell_type": "markdown",
      "metadata": {
        "id": "SPi9oz9PSKEp"
      },
      "source": [
        "# Feature Selection and Outlier Removal"
      ]
    },
    {
      "cell_type": "markdown",
      "metadata": {
        "id": "jHPC8It74w9m"
      },
      "source": [
        "Apply information from the user dashboard and perform the feature selection."
      ]
    },
    {
      "cell_type": "code",
      "metadata": {
        "id": "kF3GirDpSUl2",
        "outputId": "fd1fd2ee-13be-4d87-ec03-e155740ff400",
        "colab": {
          "base_uri": "https://localhost:8080/",
          "height": 176
        }
      },
      "source": [
        "tic = time.perf_counter()\n",
        "# perform the feature selection: target, encoded data, continuous thresh, multi-collinear thresh, categorical thresh, winsorize mode, manual selection\n",
        "pre_filtered_model_df, filtered_model_df, corr_mat, comp_dict = perform_feature_selection(tar_var, full_data_frame, con_threshold\n",
        "                                                                                 , con_multi_threshold, cat_threshold, True, *auto_remove)\n",
        "toc = time.perf_counter()\n",
        "\n",
        "\n",
        "seconds = toc - tic\n",
        "mins = int(seconds / 60)\n",
        "secs = int(seconds % 60)\n",
        "print('\\n')\n",
        "print(\"Model Feature Selection completed in {} minutes and {} seconds\".format(mins, secs))  "
      ],
      "execution_count": null,
      "outputs": [
        {
          "output_type": "stream",
          "text": [
            "/usr/local/lib/python3.6/dist-packages/numpy/core/fromnumeric.py:3584: RuntimeWarning: Degrees of freedom <= 0 for slice\n",
            "  **kwargs)\n",
            "/usr/local/lib/python3.6/dist-packages/numpy/core/_methods.py:209: RuntimeWarning: invalid value encountered in double_scalars\n",
            "  ret = ret.dtype.type(ret / rcount)\n",
            "/usr/local/lib/python3.6/dist-packages/scipy/stats/mstats_basic.py:1070: RuntimeWarning: divide by zero encountered in true_divide\n",
            "  denom = ma.sqrt(svar*(1.0/n1 + 1.0/n2))  # n-D computation here!\n"
          ],
          "name": "stderr"
        },
        {
          "output_type": "stream",
          "text": [
            "\n",
            "\n",
            "Model Feature Selection completed in 6 minutes and 40 seconds\n"
          ],
          "name": "stdout"
        }
      ]
    },
    {
      "cell_type": "code",
      "metadata": {
        "id": "6saYhF3CSew4"
      },
      "source": [
        "# Create a data frame that contains the selected and filtered continuous features with the target variable as the first column\n",
        "con_pre_filtered_df = pre_filtered_model_df.select_dtypes(include=['float', 'int']).copy()\n",
        "\n",
        "# Create a data frame that contains the selected and filtered categorical features with the target variable as the first column\n",
        "cat_pre_filtered_df = pre_filtered_model_df.select_dtypes(include=['object', 'category', 'bool']).copy()\n",
        "cat_pre_filtered_df[tar_var] = pre_filtered_model_df[tar_var]\n",
        "order_list = list(range(0, len(cat_pre_filtered_df.columns)-1))\n",
        "order_list.insert(0, len(cat_pre_filtered_df.columns)-1)\n",
        "cat_pre_filtered_df = cat_pre_filtered_df[cat_pre_filtered_df.columns[order_list]]"
      ],
      "execution_count": null,
      "outputs": []
    },
    {
      "cell_type": "markdown",
      "metadata": {
        "id": "dR90B0UFlWZn"
      },
      "source": [
        "#Data Visualizations"
      ]
    },
    {
      "cell_type": "markdown",
      "metadata": {
        "id": "T6GSUrT-14s9"
      },
      "source": [
        "The target variable is nearly normal and has the right skew."
      ]
    },
    {
      "cell_type": "code",
      "metadata": {
        "id": "2XxlQ-4ulXWE",
        "outputId": "0d08e52d-59fc-45a1-9fc3-e98c0447f133",
        "colab": {
          "base_uri": "https://localhost:8080/",
          "height": 282
        }
      },
      "source": [
        "fuel_df[tar_var].hist()  "
      ],
      "execution_count": null,
      "outputs": [
        {
          "output_type": "execute_result",
          "data": {
            "text/plain": [
              "<matplotlib.axes._subplots.AxesSubplot at 0x7f3e8948bbe0>"
            ]
          },
          "metadata": {
            "tags": []
          },
          "execution_count": 14
        },
        {
          "output_type": "display_data",
          "data": {
            "image/png": "[encoded data removed]",
            "text/plain": [
              "<Figure size 432x288 with 1 Axes>"
            ]
          },
          "metadata": {
            "tags": [],
            "needs_background": "light"
          }
        }
      ]
    },
    {
      "cell_type": "markdown",
      "metadata": {
        "id": "L1C-ADUn2AJf"
      },
      "source": [
        "The continuous feature in the model appears to be well correlated with the target variable."
      ]
    },
    {
      "cell_type": "code",
      "metadata": {
        "id": "7RriNC4snkXA",
        "outputId": "7f68a832-fa73-43d7-b57b-9b21ee9310f6",
        "colab": {
          "base_uri": "https://localhost:8080/",
          "height": 296
        }
      },
      "source": [
        "con_float_df.plot.scatter(x = 'Engine Displacement', y = tar_var)"
      ],
      "execution_count": null,
      "outputs": [
        {
          "output_type": "execute_result",
          "data": {
            "text/plain": [
              "<matplotlib.axes._subplots.AxesSubplot at 0x7f3e894591d0>"
            ]
          },
          "metadata": {
            "tags": []
          },
          "execution_count": 15
        },
        {
          "output_type": "display_data",
          "data": {
            "image/png": "[encoded data removed]",
            "text/plain": [
              "<Figure size 432x288 with 1 Axes>"
            ]
          },
          "metadata": {
            "tags": [],
            "needs_background": "light"
          }
        }
      ]
    },
    {
      "cell_type": "code",
      "metadata": {
        "id": "Y34v2mXfejGr",
        "outputId": "80f915da-0632-46c7-d51b-c2bf1079a920",
        "colab": {
          "base_uri": "https://localhost:8080/",
          "height": 707
        }
      },
      "source": [
        "sel_cols = pre_filtered_model_df.select_dtypes(exclude = ['object', 'bool']).columns.values.tolist()\n",
        "sel_cols.remove(tar_var)\n",
        "selected_raw = fuel_df.filter(sel_cols, axis=1)\n",
        "max_vals = selected_raw.max(axis=0).sort_values()\n",
        "min_vals = selected_raw.min(axis=0).sort_values()\n",
        "range_vals = max_vals.subtract(min_vals, fill_value=0)\n",
        "boxplot_info = pd.concat([max_vals, min_vals, range_vals], axis=1)\n",
        "boxplot_info.rename(columns = {0:'Max', 1:'Min', 2:'Range'}, inplace = True) \n",
        "boxplot_info"
      ],
      "execution_count": null,
      "outputs": [
        {
          "output_type": "execute_result",
          "data": {
            "text/html": [
              "<div>\n",
              "<style scoped>\n",
              "    .dataframe tbody tr th:only-of-type {\n",
              "        vertical-align: middle;\n",
              "    }\n",
              "\n",
              "    .dataframe tbody tr th {\n",
              "        vertical-align: top;\n",
              "    }\n",
              "\n",
              "    .dataframe thead th {\n",
              "        text-align: right;\n",
              "    }\n",
              "</style>\n",
              "<table border=\"1\" class=\"dataframe\">\n",
              "  <thead>\n",
              "    <tr style=\"text-align: right;\">\n",
              "      <th></th>\n",
              "      <th>Max</th>\n",
              "      <th>Min</th>\n",
              "      <th>Range</th>\n",
              "    </tr>\n",
              "  </thead>\n",
              "  <tbody>\n",
              "    <tr>\n",
              "      <th>Highway Utility Factor</th>\n",
              "      <td>0.877</td>\n",
              "      <td>0.0</td>\n",
              "      <td>0.877</td>\n",
              "    </tr>\n",
              "    <tr>\n",
              "      <th>Combined Utility Factor</th>\n",
              "      <td>0.888</td>\n",
              "      <td>0.0</td>\n",
              "      <td>0.888</td>\n",
              "    </tr>\n",
              "    <tr>\n",
              "      <th>GHG Score (Alt Fuel)</th>\n",
              "      <td>8.000</td>\n",
              "      <td>-1.0</td>\n",
              "      <td>9.000</td>\n",
              "    </tr>\n",
              "    <tr>\n",
              "      <th>Engine Displacement</th>\n",
              "      <td>8.400</td>\n",
              "      <td>0.0</td>\n",
              "      <td>8.400</td>\n",
              "    </tr>\n",
              "    <tr>\n",
              "      <th>GHG Score</th>\n",
              "      <td>10.000</td>\n",
              "      <td>-1.0</td>\n",
              "      <td>11.000</td>\n",
              "    </tr>\n",
              "    <tr>\n",
              "      <th>Fuel Economy Score</th>\n",
              "      <td>10.000</td>\n",
              "      <td>-1.0</td>\n",
              "      <td>11.000</td>\n",
              "    </tr>\n",
              "    <tr>\n",
              "      <th>Hatchback Luggage Volume</th>\n",
              "      <td>49.000</td>\n",
              "      <td>0.0</td>\n",
              "      <td>49.000</td>\n",
              "    </tr>\n",
              "    <tr>\n",
              "      <th>4D Luggage Volume</th>\n",
              "      <td>55.000</td>\n",
              "      <td>0.0</td>\n",
              "      <td>55.000</td>\n",
              "    </tr>\n",
              "    <tr>\n",
              "      <th>Composite Highway MPG</th>\n",
              "      <td>81.000</td>\n",
              "      <td>0.0</td>\n",
              "      <td>81.000</td>\n",
              "    </tr>\n",
              "    <tr>\n",
              "      <th>Highway MPG (FT2)</th>\n",
              "      <td>121.000</td>\n",
              "      <td>0.0</td>\n",
              "      <td>121.000</td>\n",
              "    </tr>\n",
              "    <tr>\n",
              "      <th>Highway MPG (FT1)</th>\n",
              "      <td>122.000</td>\n",
              "      <td>9.0</td>\n",
              "      <td>113.000</td>\n",
              "    </tr>\n",
              "    <tr>\n",
              "      <th>Combined MPG (FT2)</th>\n",
              "      <td>133.000</td>\n",
              "      <td>0.0</td>\n",
              "      <td>133.000</td>\n",
              "    </tr>\n",
              "    <tr>\n",
              "      <th>Combined MPG (FT1)</th>\n",
              "      <td>136.000</td>\n",
              "      <td>7.0</td>\n",
              "      <td>129.000</td>\n",
              "    </tr>\n",
              "    <tr>\n",
              "      <th>City MPG (FT1)</th>\n",
              "      <td>150.000</td>\n",
              "      <td>6.0</td>\n",
              "      <td>144.000</td>\n",
              "    </tr>\n",
              "    <tr>\n",
              "      <th>4D Passenger Volume</th>\n",
              "      <td>192.000</td>\n",
              "      <td>0.0</td>\n",
              "      <td>192.000</td>\n",
              "    </tr>\n",
              "    <tr>\n",
              "      <th>Tailpipe CO2 (FT2)</th>\n",
              "      <td>713.000</td>\n",
              "      <td>-1.0</td>\n",
              "      <td>714.000</td>\n",
              "    </tr>\n",
              "    <tr>\n",
              "      <th>Tailpipe CO2 (FT1)</th>\n",
              "      <td>847.000</td>\n",
              "      <td>-1.0</td>\n",
              "      <td>848.000</td>\n",
              "    </tr>\n",
              "    <tr>\n",
              "      <th>Year</th>\n",
              "      <td>2017.000</td>\n",
              "      <td>1984.0</td>\n",
              "      <td>33.000</td>\n",
              "    </tr>\n",
              "    <tr>\n",
              "      <th>Annual Fuel Cost (FT2)</th>\n",
              "      <td>3650.000</td>\n",
              "      <td>0.0</td>\n",
              "      <td>3650.000</td>\n",
              "    </tr>\n",
              "    <tr>\n",
              "      <th>Save or Spend (5 Year)</th>\n",
              "      <td>4250.000</td>\n",
              "      <td>-23500.0</td>\n",
              "      <td>27750.000</td>\n",
              "    </tr>\n",
              "    <tr>\n",
              "      <th>Annual Fuel Cost (FT1)</th>\n",
              "      <td>6050.000</td>\n",
              "      <td>500.0</td>\n",
              "      <td>5550.000</td>\n",
              "    </tr>\n",
              "    <tr>\n",
              "      <th>Engine Index</th>\n",
              "      <td>69102.000</td>\n",
              "      <td>0.0</td>\n",
              "      <td>69102.000</td>\n",
              "    </tr>\n",
              "  </tbody>\n",
              "</table>\n",
              "</div>"
            ],
            "text/plain": [
              "                                Max      Min      Range\n",
              "Highway Utility Factor        0.877      0.0      0.877\n",
              "Combined Utility Factor       0.888      0.0      0.888\n",
              "GHG Score (Alt Fuel)          8.000     -1.0      9.000\n",
              "Engine Displacement           8.400      0.0      8.400\n",
              "GHG Score                    10.000     -1.0     11.000\n",
              "Fuel Economy Score           10.000     -1.0     11.000\n",
              "Hatchback Luggage Volume     49.000      0.0     49.000\n",
              "4D Luggage Volume            55.000      0.0     55.000\n",
              "Composite Highway MPG        81.000      0.0     81.000\n",
              "Highway MPG (FT2)           121.000      0.0    121.000\n",
              "Highway MPG (FT1)           122.000      9.0    113.000\n",
              "Combined MPG (FT2)          133.000      0.0    133.000\n",
              "Combined MPG (FT1)          136.000      7.0    129.000\n",
              "City MPG (FT1)              150.000      6.0    144.000\n",
              "4D Passenger Volume         192.000      0.0    192.000\n",
              "Tailpipe CO2 (FT2)          713.000     -1.0    714.000\n",
              "Tailpipe CO2 (FT1)          847.000     -1.0    848.000\n",
              "Year                       2017.000   1984.0     33.000\n",
              "Annual Fuel Cost (FT2)     3650.000      0.0   3650.000\n",
              "Save or Spend (5 Year)     4250.000 -23500.0  27750.000\n",
              "Annual Fuel Cost (FT1)     6050.000    500.0   5550.000\n",
              "Engine Index              69102.000      0.0  69102.000"
            ]
          },
          "metadata": {
            "tags": []
          },
          "execution_count": 16
        }
      ]
    },
    {
      "cell_type": "markdown",
      "metadata": {
        "id": "9ALhdTw22UXe"
      },
      "source": [
        "The categorical features included in the model have outlier values which is why the data used in the regression analysis has been winsorized."
      ]
    },
    {
      "cell_type": "code",
      "metadata": {
        "id": "seqMWn_DuwqR",
        "outputId": "d57f16cc-40eb-4c1b-f873-2db9c30dc023",
        "colab": {
          "base_uri": "https://localhost:8080/",
          "height": 483
        }
      },
      "source": [
        "fig = plt.gcf()\n",
        "fig.set_size_inches(10, 8)\n",
        "boxplot1 = fuel_df.boxplot(column = ['Engine Index'])"
      ],
      "execution_count": null,
      "outputs": [
        {
          "output_type": "display_data",
          "data": {
            "image/png": "[encoded data removed]",
            "text/plain": [
              "<Figure size 720x576 with 1 Axes>"
            ]
          },
          "metadata": {
            "tags": [],
            "needs_background": "light"
          }
        }
      ]
    },
    {
      "cell_type": "code",
      "metadata": {
        "id": "USWLBM7NlhOZ",
        "outputId": "7fac6e77-9a49-49f1-dac0-3b8e1a128aad",
        "colab": {
          "base_uri": "https://localhost:8080/",
          "height": 483
        }
      },
      "source": [
        "fig = plt.gcf()\n",
        "fig.set_size_inches(10, 8)\n",
        "range2 = ['Annual Fuel Cost (FT1)', 'Save or Spend (5 Year)', 'Annual Fuel Cost (FT2)', 'Year']\n",
        "boxplot2 = fuel_df.boxplot(column = range2)"
      ],
      "execution_count": null,
      "outputs": [
        {
          "output_type": "display_data",
          "data": {
            "image/png": "[encoded data removed]",
            "text/plain": [
              "<Figure size 720x576 with 1 Axes>"
            ]
          },
          "metadata": {
            "tags": [],
            "needs_background": "light"
          }
        }
      ]
    },
    {
      "cell_type": "code",
      "metadata": {
        "id": "maV15oBxxBK7",
        "outputId": "c7930ffc-589b-45a9-a2e1-0cb275ca9920",
        "colab": {
          "base_uri": "https://localhost:8080/",
          "height": 707
        }
      },
      "source": [
        "fig = plt.gcf()\n",
        "fig.set_size_inches(12, 10)\n",
        "range3 = ['4D Passenger Volume', 'City MPG (FT1)', 'Combined MPG (FT1)', 'Combined MPG (FT2)'\n",
        "          , 'Highway MPG (FT1)', 'Highway MPG (FT2)']\n",
        "boxplot3 = fuel_df.boxplot(column = range3)\n",
        "boxplot3.set_xticklabels(boxplot3.get_xticklabels(), rotation=90)\n",
        "\n",
        "boxplot3"
      ],
      "execution_count": null,
      "outputs": [
        {
          "output_type": "execute_result",
          "data": {
            "text/plain": [
              "<matplotlib.axes._subplots.AxesSubplot at 0x7f3e8882bef0>"
            ]
          },
          "metadata": {
            "tags": []
          },
          "execution_count": 19
        },
        {
          "output_type": "display_data",
          "data": {
            "image/png": "[encoded data removed]",
            "text/plain": [
              "<Figure size 864x720 with 1 Axes>"
            ]
          },
          "metadata": {
            "tags": [],
            "needs_background": "light"
          }
        }
      ]
    },
    {
      "cell_type": "code",
      "metadata": {
        "id": "CcR-aRJf0HwV",
        "outputId": "b24b0b37-aff7-40f5-d39c-0d79a1055c69",
        "colab": {
          "base_uri": "https://localhost:8080/",
          "height": 582
        }
      },
      "source": [
        "fig = plt.gcf()\n",
        "fig.set_size_inches(10, 8)\n",
        "range4 = ['Tailpipe CO2 (FT1)', 'Tailpipe CO2 (FT2)']\n",
        "boxplot4 = fuel_df.boxplot(column = range4)\n",
        "boxplot4.set_xticklabels(boxplot4.get_xticklabels(), rotation=90)\n",
        "\n",
        "boxplot4"
      ],
      "execution_count": null,
      "outputs": [
        {
          "output_type": "execute_result",
          "data": {
            "text/plain": [
              "<matplotlib.axes._subplots.AxesSubplot at 0x7f3e887a8d68>"
            ]
          },
          "metadata": {
            "tags": []
          },
          "execution_count": 20
        },
        {
          "output_type": "display_data",
          "data": {
            "image/png": "[encoded data removed]",
            "text/plain": [
              "<Figure size 720x576 with 1 Axes>"
            ]
          },
          "metadata": {
            "tags": [],
            "needs_background": "light"
          }
        }
      ]
    },
    {
      "cell_type": "code",
      "metadata": {
        "id": "VMULQaBuoVWA",
        "outputId": "0527dcd6-ac2b-42e9-e0c7-e67dac322675",
        "colab": {
          "base_uri": "https://localhost:8080/",
          "height": 738
        }
      },
      "source": [
        "fig = plt.gcf()\n",
        "fig.set_size_inches(12, 10)\n",
        "range5 = ['Composite Highway MPG', '4D Luggage Volume', 'Hatchback Luggage Volume', 'Fuel Economy Score'\n",
        "          , 'GHG Score', 'Engine Displacement', 'GHG Score (Alt Fuel)']\n",
        "boxplot5 = fuel_df.boxplot(column = range5)\n",
        "boxplot5.set_xticklabels(boxplot5.get_xticklabels(), rotation=90)\n",
        "\n",
        "boxplot5"
      ],
      "execution_count": null,
      "outputs": [
        {
          "output_type": "execute_result",
          "data": {
            "text/plain": [
              "<matplotlib.axes._subplots.AxesSubplot at 0x7f3e886e8b38>"
            ]
          },
          "metadata": {
            "tags": []
          },
          "execution_count": 21
        },
        {
          "output_type": "display_data",
          "data": {
            "image/png": "[encoded data removed]",
            "text/plain": [
              "<Figure size 864x720 with 1 Axes>"
            ]
          },
          "metadata": {
            "tags": [],
            "needs_background": "light"
          }
        }
      ]
    },
    {
      "cell_type": "code",
      "metadata": {
        "id": "udycJvp-00_E",
        "outputId": "c2ed1c68-0bf8-45ee-90b3-6bf05e02e52e",
        "colab": {
          "base_uri": "https://localhost:8080/",
          "height": 607
        }
      },
      "source": [
        "fig = plt.gcf()\n",
        "fig.set_size_inches(10, 8)\n",
        "range6 = ['Combined Utility Factor', 'Highway Utility Factor']\n",
        "boxplot6 = fuel_df.boxplot(column = range6)\n",
        "boxplot6.set_xticklabels(boxplot6.get_xticklabels(), rotation=90)\n",
        "\n",
        "boxplot6"
      ],
      "execution_count": null,
      "outputs": [
        {
          "output_type": "execute_result",
          "data": {
            "text/plain": [
              "<matplotlib.axes._subplots.AxesSubplot at 0x7f3e88654f98>"
            ]
          },
          "metadata": {
            "tags": []
          },
          "execution_count": 22
        },
        {
          "output_type": "display_data",
          "data": {
            "image/png": "[encoded data removed]",
            "text/plain": [
              "<Figure size 720x576 with 1 Axes>"
            ]
          },
          "metadata": {
            "tags": [],
            "needs_background": "light"
          }
        }
      ]
    },
    {
      "cell_type": "markdown",
      "metadata": {
        "id": "Xw6LxyK0VhgB"
      },
      "source": [
        "# OLS Linear Regression Functions"
      ]
    },
    {
      "cell_type": "markdown",
      "metadata": {
        "id": "vW7q8al7Htct"
      },
      "source": [
        "**create_ordered_dict:** - keeps track of the coefficient order."
      ]
    },
    {
      "cell_type": "code",
      "metadata": {
        "id": "hNkC2Grzz-6Z"
      },
      "source": [
        "def create_ordered_dict(target_variable, continuous_target, data_frame):\n",
        "\n",
        "  cont_columns = data_frame.select_dtypes(include=['float', 'int']).columns.values.tolist()\n",
        "  cat_object_features = data_frame.select_dtypes(include=['object', 'bool']).columns.values.tolist()\n",
        "  cat_cat_features = data_frame.select_dtypes(include=['category']).columns.values.tolist()\n",
        "  cat_columns = cat_cat_features + cat_object_features\n",
        "\n",
        "  o_feat_dict = {}\n",
        "  cont_dict = {'continuous' : cont_columns}\n",
        "  cat_dict = {'categorical' : cat_columns}\n",
        "  target_dict = {'target' : target_variable}\n",
        "\n",
        "  o_feat_dict.update(cat_dict)\n",
        "  o_feat_dict.update(cont_dict)\n",
        "  o_feat_dict.update(target_dict)\n",
        "\n",
        "  return o_feat_dict"
      ],
      "execution_count": null,
      "outputs": []
    },
    {
      "cell_type": "markdown",
      "metadata": {
        "id": "rkpsC6vpHw92"
      },
      "source": [
        "**create_result_dictionary:** - creates an OLS summary result dictionary to track categorical feature and subfeature relationships."
      ]
    },
    {
      "cell_type": "code",
      "metadata": {
        "id": "39wdoe6G0N_E"
      },
      "source": [
        "def create_result_dictionary(categorical_features, cat_df, ols_results):\n",
        "\n",
        "  cat_cat_features = cat_df.select_dtypes(include=['category']).columns.values.tolist()\n",
        "  cat_object_features = cat_df.select_dtypes(include=['object', 'bool']).columns.values.tolist()\n",
        "  categorical_features = cat_cat_features + cat_object_features\n",
        "\n",
        "  #create a list of all of the values for each category\n",
        "  cat_values = []\n",
        "  for val in categorical_features:\n",
        "    cat_values.append(cat_df[val].unique().tolist())\n",
        "   \n",
        "  #create a list of tuples with the category name and values\n",
        "  cat_array = list(zip(categorical_features, cat_values))\n",
        "\n",
        "  #sort the list of values in the category list to match the encoder output\n",
        "  sorted_values = []\n",
        "  for i in range(len(cat_array)):\n",
        "    if (cat_array[i][0] in cat_cat_features):\n",
        "      sorted_values.append(cat_array[i][1])\n",
        "    else:\n",
        "      sorted_values.append(sorted(cat_array[i][1]))\n",
        "\n",
        "  #create the sorted category list using list comprehension and a generator function to convert zip tuples\n",
        "  list_cat_array = [list(x) for x in zip(categorical_features, sorted_values)]\n",
        "\n",
        "  #create a dictionary with the sorted category values\n",
        "  dict_cat_array = {}\n",
        "  for item in list_cat_array:\n",
        "    dict_cat_array.update({item[0] : item[1]})\n",
        "\n",
        "  #calculate the number of categorical value results in the list\n",
        "  values_sum = 0\n",
        "  for item in list_cat_array:\n",
        "    values_sum += len(item[1])\n",
        "  values_sum -= len(list_cat_array)\n",
        "\n",
        "  #create a 2D list with all of the result coefficients and the p-values\n",
        "  pair_list = [list(x) for x in zip(ols_results.params, ols_results.pvalues)] \n",
        "  result_list = [list(x) for x in zip(ols_results.params.index, pair_list)]\n",
        "\n",
        "  #remove the identifier artifacts from the category codes \n",
        "  sep = '_'\n",
        "  code_list = []\n",
        "  for i in range(len(result_list)):\n",
        "    rest = result_list[i][0].split(sep, 1)[0]\n",
        "    code_list.append(rest) \n",
        "\n",
        "  #overwrite the identifier names in the 2D list\n",
        "  for i in range(len(result_list)):\n",
        "    result_list[i][0] = code_list[i]\n",
        "\n",
        "  #create a result list that excludes the constant term result and any continuous variables\n",
        "  cat_result_list = result_list[-values_sum: ]\n",
        "\n",
        "  #create a list that contains the test results along with each category value\n",
        "  y = 0\n",
        "  array_sample = []\n",
        "  for item in categorical_features:\n",
        "    for x in range(len(dict_cat_array[item])):\n",
        "      if x == 0:\n",
        "        array_sample.append([dict_cat_array[item][x], 'NONE'])\n",
        "      else:\n",
        "        array_sample.append([dict_cat_array[item][x], cat_result_list[y][1]])\n",
        "        y += 1\n",
        "\n",
        "  #create a dictionary that contains all of the categorical features with test results broken down by each value\n",
        "  index = 0\n",
        "  temp_array = []\n",
        "  results_dictionary = {j:{} for j in categorical_features}\n",
        "  for item in categorical_features:\n",
        "    length = len(dict_cat_array[item])\n",
        "    for t in range(index, index+length):\n",
        "      results_dictionary[item].update({array_sample[t][0] : array_sample[t][1]})\n",
        "    index += length\n",
        "\n",
        "  return results_dictionary"
      ],
      "execution_count": null,
      "outputs": []
    },
    {
      "cell_type": "markdown",
      "metadata": {
        "id": "nF5m_RyGH4KM"
      },
      "source": [
        "**algorithm_resolved:** - determines when all of the coefficients that remain in the OLS regression model are significant."
      ]
    },
    {
      "cell_type": "code",
      "metadata": {
        "id": "scyEZhveWsdX"
      },
      "source": [
        "def algorithm_resolved(ordered_variables, ols_object, result_info):\n",
        "\n",
        "  # create a 2D list with all of the result coefficients and the p-values\n",
        "  pair_list = [list(x) for x in zip(ols_object.params, ols_object.pvalues)] \n",
        "  result_list = [list(x) for x in zip(ols_object.params.index, pair_list)]\n",
        "\n",
        "  cat_result = True\n",
        "  con_result = True\n",
        "  current_position = 0\n",
        "  # check the continuous features\n",
        "  for n in range(len(ordered_variables['continuous'])):\n",
        "    if (con_result == False):\n",
        "      break\n",
        "    for i in range(current_position, len(result_list)):\n",
        "      if (result_list[i][0] == ordered_variables['continuous'][n]):\n",
        "        if (result_list[i][1][1] > .05):\n",
        "          con_result = False\n",
        "        current_position = i\n",
        "        break\n",
        "\n",
        "  # check the categorical features if there are no insignificant continuous features\n",
        "  if (con_result == True):\n",
        "    for feature in result_info:\n",
        "      if (cat_result == False):\n",
        "        break\n",
        "      feature_info = result_info[feature]\n",
        "      levels = feature_info.keys()\n",
        "      # check the categorical features\n",
        "      for level in levels:\n",
        "        if(feature_info[level] != 'NONE') and (feature_info[level][1] >= .05):\n",
        "          cat_result = False\n",
        "          break\n",
        "\n",
        "  if (cat_result == False or con_result == False):\n",
        "    result = False\n",
        "  else:\n",
        "    result = True  \n",
        "\n",
        "  return result "
      ],
      "execution_count": null,
      "outputs": []
    },
    {
      "cell_type": "markdown",
      "metadata": {
        "id": "JcBe6J54IDSq"
      },
      "source": [
        "**refine_model:** - uses the current OLS results to build the next model iteration."
      ]
    },
    {
      "cell_type": "code",
      "metadata": {
        "id": "07YBBhnj0PKt"
      },
      "source": [
        "# create the refined data frame based on the OLS summary results\n",
        "def refine_model(ols_results, selected_data, f_dict, o_feat): # selected_data is encoded_data | f_dict is ols_results_dict \n",
        "\n",
        "  valid_cat = o_feat['categorical']\n",
        "  #create a dictionary of the categorical levels that are not significant\n",
        "  result_pairs = []\n",
        "  remove_dict = {k:{} for k in valid_cat}\n",
        "  for category in valid_cat:\n",
        "    feature_info = f_dict[category] #categorical feature info\n",
        "    keys = feature_info.keys()\n",
        "    for level in keys:\n",
        "      if(feature_info[level] != 'NONE') and (feature_info[level][1] >= .05):\n",
        "        remove_dict[category].update({level:feature_info[level][1]})\n",
        "\n",
        "  #save a list of the column names from the encoded data frame\n",
        "  column_names = selected_data.columns.values.tolist() \n",
        "\n",
        "  #capture the indices of the categorical variables to exclude\n",
        "  counter = 0\n",
        "  cat_columns = []\n",
        "  for category in valid_cat:\n",
        "    feature_info = f_dict[category] #categorical feature info\n",
        "    keys = feature_info.keys()\n",
        "    for level in keys:    \n",
        "      if (f_dict[category][level] != 'NONE'): \n",
        "        if (f_dict[category][level][1] > .05):\n",
        "          cat_columns.append(counter)\n",
        "      else:\n",
        "        counter -=1\n",
        "      counter += 1\n",
        "\n",
        "  #create a list of the results for any continuous features\n",
        "  valid_cont = o_feat['continuous']\n",
        "  num_continuous = len(valid_cont)\n",
        "  cont_pvals = ols_results.pvalues[1 : 1 + num_continuous]\n",
        "  val_pairs = [list(x) for x in zip(valid_cont, cont_pvals)]\n",
        "\n",
        "  cont_indices = []\n",
        "  #append the column index of any continuous features that are not significant\n",
        "  for i in range(num_continuous):\n",
        "    if(val_pairs[i][1] > .05):\n",
        "      del o_feat['continuous'][i]\n",
        "      cont_indices.append(i+1)\n",
        "\n",
        "  #offset the categorical indices to account for continuous variables and the target\n",
        "  cat_indices = [x + (num_continuous + 1) for x in cat_columns] \n",
        "\n",
        "  #concatenate both index lists together\n",
        "  exclusion_array = cont_indices + cat_indices\n",
        "\n",
        "  #create the refined data frame\n",
        "  refined_model_df = selected_data.copy()\n",
        "\n",
        "  #rename the column names to index numbers due to duplicate names created by the encoder\n",
        "  refined_model_df.columns = list(range(len(refined_model_df.columns)))\n",
        "\n",
        "  #drop the excluded features\n",
        "  refined_model_df.drop(exclusion_array, axis = 1, inplace=True)\n",
        "\n",
        "  #add the column names back into the refined dataframe\n",
        "  column_indexes = refined_model_df.columns.values.tolist()\n",
        "  refined_names = []\n",
        "  for i in column_indexes:\n",
        "    refined_names.append(column_names[i])\n",
        "\n",
        "  ##add the column names back in after the filtering step\n",
        "  refined_model_df.columns = refined_names     \n",
        "\n",
        "  ##update the categorical features dictionary based on the new results\n",
        "  refined_dict = f_dict.copy() #the internal objects are recursively copied so deep copy doesn't work\n",
        "  remove_keys = remove_dict.keys()\n",
        "  for category in remove_keys:\n",
        "    levels = remove_dict[category].keys()\n",
        "    for level in levels:\n",
        "      del refined_dict[category][level]\n",
        "\n",
        "  removed_categories = []\n",
        "  #remove features that no longer have significant levels\n",
        "  for category in remove_keys:\n",
        "    levels = refined_dict[category].keys()\n",
        "    level_length = len(levels)\n",
        "    if (level_length == 1):\n",
        "      for level in levels:\n",
        "        if (refined_dict[category][level] == 'NONE'):\n",
        "          removed_categories.append(category)\n",
        "          del refined_dict[category]\n",
        "\n",
        "  ##update the ordered features list\n",
        "  for category in removed_categories:\n",
        "    o_feat['categorical'].remove(category)\n",
        "\n",
        "  return refined_model_df, refined_dict, o_feat # updated_encoded_df, updated_feature_df, ordered_feature"
      ],
      "execution_count": null,
      "outputs": []
    },
    {
      "cell_type": "markdown",
      "metadata": {
        "id": "Y47GDGD2ILnE"
      },
      "source": [
        "**update_results_dict:** - updates the values in the results dictionary based on the current OLS results."
      ]
    },
    {
      "cell_type": "code",
      "metadata": {
        "id": "sAS4YEaC0d7U"
      },
      "source": [
        "def update_results_dict(ols_results, previous_results_dict, ordered_cat_features):\n",
        "\n",
        "  #create an ordered list of the remaining categorical features\n",
        "  cat_vars = ordered_cat_features['categorical']\n",
        "\n",
        "  #create a 2D list with all of the result coefficients and the corresponding p-values\n",
        "  list_pairs = [list(x) for x in zip(ols_results.params, ols_results.pvalues)] \n",
        "  list_results = [list(x) for x in zip(ols_results.params.index, list_pairs)]\n",
        "\n",
        "  #remove the identifier artifacts from the category codes \n",
        "  sep = '_'\n",
        "  level_codes = []\n",
        "  for i in range(len(list_results)):\n",
        "    rest = list_results[i][0].split(sep, 1)[0]\n",
        "    level_codes.append(rest)\n",
        "\n",
        "  #overwrite the identifier names in the 2D list\n",
        "  for i in range(len(list_results)):\n",
        "    list_results[i][0] = level_codes[i]\n",
        "\n",
        "  start_position = len(ordered_cat_features['continuous']) + 1 #offset for continuous and const results\n",
        "  curr_pos = start_position\n",
        "  last_pos = curr_pos\n",
        "  archive = []\n",
        "  result_length = len(list_results)\n",
        "  updated_dict = previous_results_dict.copy()\n",
        "  for category in cat_vars:\n",
        "    levels = updated_dict[category].keys()\n",
        "    for level in levels:\n",
        "      if (updated_dict[category][level] == 'NONE'):\n",
        "        continue\n",
        "      if (curr_pos == result_length):\n",
        "        curr_pos = last_pos\n",
        "      for i in range(curr_pos, result_length):\n",
        "        if (list_results[i][0] == level):\n",
        "          updated_dict[category][level] = list_results[i][1]\n",
        "          # keep a record of updates for debugging\n",
        "          archive.append([category, level, list_results[i][1]]) \n",
        "          curr_pos += 1\n",
        "          last_pos = curr_pos\n",
        "          break\n",
        "        curr_pos += 1\n",
        "      \n",
        "  return updated_dict # OLS summary results dictionary"
      ],
      "execution_count": null,
      "outputs": []
    },
    {
      "cell_type": "markdown",
      "metadata": {
        "id": "9tMe9LkMbb2E"
      },
      "source": [
        "# OLS Polynomial Regression Functions"
      ]
    },
    {
      "cell_type": "code",
      "metadata": {
        "id": "NQ0iMyft7wAS"
      },
      "source": [
        "# finds the inverse of a list of integers\n",
        "def find_missing(lst): \n",
        "  return [x for x in range(lst[0], lst[-1]+1) if x not in lst]\n",
        "\n",
        "def list_switch(lis):\n",
        "  lis[0], lis[-1] = lis[-1], lis[0]\n",
        "  return lis   \n",
        "\n",
        "def ndarray_to_dataframe(multi_array, col_names):\n",
        "  return pd.DataFrame(data=multi_array, columns=col_names)\n",
        "\n",
        "# used to remove artifacts after the one hot encoding\n",
        "def insert_token (source_str, insert_str, pos):\n",
        "  return source_str[:pos] + insert_str + source_str[pos:]\n",
        "\n",
        "# used to remove artifacts after the one hot encoding\n",
        "def add_token(source_string, insert_string, insert_at):\n",
        "  array_indices = [m.start() for m in re.finditer(insert_at, source_string)]\n",
        "  for i in range(len(array_indices)):\n",
        "    source_string = insert_token(source_string, insert_string, array_indices[i]+(i*len(insert_string)))\n",
        "  return source_string\n",
        "\n",
        "# create a dictionary to keep track of the dummy variable relationships\n",
        "def create_dummy_dict(dummy_list):\n",
        "  result_dict = {}\n",
        "  [result_dict.update({item[0] : item[1]}) for item in dummy_list]\n",
        "  return result_dict\n",
        "\n",
        "# determines when the polynomial OLS regression algorithm contains only significant coefficients\n",
        "def poly_algorithm_resolved(ols_results):\n",
        "  result = True\n",
        "  for i in range(len(ols_results.pvalues)):\n",
        "    if (ols_results.pvalues[i] > .05):\n",
        "      result = False\n",
        "  return result "
      ],
      "execution_count": null,
      "outputs": []
    },
    {
      "cell_type": "markdown",
      "metadata": {
        "id": "ezBIO6msKT7g"
      },
      "source": [
        "**clean_coefficients:** - removes artifacts from duplicate sub category names after one hot encoding."
      ]
    },
    {
      "cell_type": "code",
      "metadata": {
        "id": "i_fEPrGr2B3C"
      },
      "source": [
        "# remove the identifier artifacts from the category codes but keep any exponents that may exist\n",
        "def clean_coefficients(res_list, sep):\n",
        "  \n",
        "  # the sep token: '_' is added in by the encoder - causes issues for translation\n",
        "  \n",
        "  insert_token = ''\n",
        "  place_token = '\\^'\n",
        "\n",
        "  code_list = []\n",
        "  for i in range(len(res_list)):\n",
        "    #if ('^' in res_list[i][0]): # add a space before any instances of an exponent carat: '^' to address alphabetical ordering issues   \n",
        "      #res_list[i][0] = add_token(res_list[i][0], insert_token, place_token)\n",
        "    if (res_list[i][0].find(sep) != (-1)):\n",
        "      new_list = res_list[i][0].split(sep, 1)\n",
        "      rest = new_list[0] #keep everything before the underscore\n",
        "      index = new_list[1].find(\"^\") #check to make sure you are not truncating an exponential value\n",
        "      strip = new_list[1].find(\" \") #check to see if this is a mixed variable feature\n",
        "      if (index != (-1)):\n",
        "        keep = new_list[1][index:]\n",
        "        code_list.append(rest + keep) \n",
        "      elif (strip != (-1)):\n",
        "        second_var = new_list[1][strip:]   \n",
        "        if (second_var.find(sep) != (-1)): #check to see if there is a postfix for a mixed feature that needs reformatting as well\n",
        "          new_second_list = second_var.split(sep, 1)\n",
        "          second_var_rest = new_second_list[0]\n",
        "          second_var_index = new_second_list[1].find(\"^\")\n",
        "          second_var_strip = new_second_list[1].find(\" \")\n",
        "          if (second_var_index != (-1)):\n",
        "            second_var_keep = new_second_list[1][second_var_index:]\n",
        "            code_list.append(rest + second_var + second_var_rest + second_var_keep) \n",
        "          elif (second_var_strip != (-1)):\n",
        "            postfix = new_second_list[1][second_var_strip:]\n",
        "            code_list.append(rest + second_var + second_var_rest + postfix)  \n",
        "          else: \n",
        "            code_list.append(rest + second_var_rest) \n",
        "        else: \n",
        "          code_list.append(rest + second_var) \n",
        "      else:\n",
        "        code_list.append(rest) \n",
        "    else:\n",
        "      code_list.append(res_list[i][0])\n",
        "\n",
        "  return code_list"
      ],
      "execution_count": null,
      "outputs": []
    },
    {
      "cell_type": "markdown",
      "metadata": {
        "id": "kgKi7ahEKYMV"
      },
      "source": [
        "**add_poly_vars:** - create a matrix with all possible coefficient base terms "
      ]
    },
    {
      "cell_type": "code",
      "metadata": {
        "id": "LYYRmc3kqb3q"
      },
      "source": [
        "# create a 2d list of all of the possible coefficient values for a specific polynomial rank and an order dictionary\n",
        "def add_poly_vars(base_list, deg):\n",
        "\n",
        "  list_cats = []\n",
        "  for ele in base_list:\n",
        "    if (ele.find('^') != -1):\n",
        "      continue\n",
        "    list_cats.append([ele])\n",
        "\n",
        "  for feature_list in list_cats:\n",
        "    base_value = feature_list[0]\n",
        "    for n in range(2, deg + 1):\n",
        "      feature_list.insert(0, base_value + '^' + str(n))\n",
        "\n",
        "  return list_cats "
      ],
      "execution_count": null,
      "outputs": []
    },
    {
      "cell_type": "markdown",
      "metadata": {
        "id": "scixr_W9KdcR"
      },
      "source": [
        "**create_poly_order_dict:** - keeps track of the coefficient ordering."
      ]
    },
    {
      "cell_type": "code",
      "metadata": {
        "id": "Y1lDjO10fMCe"
      },
      "source": [
        "def create_poly_order_dict(target, data_frame, degree):\n",
        "\n",
        "  continuous_features = data_frame.select_dtypes(include=['float', 'int']).columns.values.tolist()\n",
        "  continuous_features.insert(0,'const')\n",
        "  cat_object_features = data_frame.select_dtypes(include=['object', 'bool']).columns.values.tolist()\n",
        "  cat_cat_features = data_frame.select_dtypes(include=['category']).columns.values.tolist()\n",
        "  categorical_features = cat_cat_features + cat_object_features\n",
        "\n",
        "  subcat_dict = {}\n",
        "  for i in range(len(cat_cat_features)):\n",
        "    subcat_dict.update({cat_cat_features[i] : data_frame[cat_cat_features[i]].cat.categories.tolist()})\n",
        "  for i in range(len(cat_object_features)):\n",
        "    subcat_dict.update({cat_object_features[i] : sorted(data_frame[cat_object_features[i]].unique())}) \n",
        "\n",
        "  hidden = {}\n",
        "  hide_list = []\n",
        "  for i, key in zip(range(len(categorical_features)), subcat_dict.keys()):\n",
        "    hidden.update({categorical_features[i] : subcat_dict[key]})\n",
        "  hidden_matrix = add_poly_vars(hidden, degree)\n",
        "  for i in range(len(hidden_matrix)):\n",
        "    hide_list += hidden_matrix[i]\n",
        "\n",
        "  order_dictionary = {'target' : target, 'continuous' : continuous_features, 'categorical' : categorical_features, 'hidden' : hide_list, 'sub_cats' : subcat_dict}\n",
        "\n",
        "  return order_dictionary"
      ],
      "execution_count": null,
      "outputs": []
    },
    {
      "cell_type": "markdown",
      "metadata": {
        "id": "YZcRt5T9LJRa"
      },
      "source": [
        "**generate_second_degree_base:** - generates 2nd degree polynomial terms."
      ]
    },
    {
      "cell_type": "code",
      "metadata": {
        "id": "GgHNvf4qrUtm"
      },
      "source": [
        "def generate_second_degree_base(base):  \n",
        "  degree = 2\n",
        "  curr_base_pos = 0\n",
        "  num_cols = len(base)\n",
        "  base_2_list = []\n",
        "  for j in range(num_cols-1):  \n",
        "    for base_iter in range(curr_base_pos, num_cols):\n",
        "      if (base_iter == curr_base_pos):\n",
        "        base_2_list.append(base[curr_base_pos] + '^' + str(degree))\n",
        "        continue\n",
        "      base_2_list.append(base[curr_base_pos] + base[base_iter])\n",
        "    curr_base_pos += 1\n",
        "  base_2_list.append(base[num_cols-1] + '^' + str(degree))\n",
        "  list_2_len = len(base_2_list)\n",
        "\n",
        "  return list_2_len, base_2_list"
      ],
      "execution_count": null,
      "outputs": []
    },
    {
      "cell_type": "markdown",
      "metadata": {
        "id": "O9X8XF30K_Bn"
      },
      "source": [
        "**generate_third_degree_base:** - generates third degree polynomial terms."
      ]
    },
    {
      "cell_type": "code",
      "metadata": {
        "id": "AjXkdVqjziz6",
        "outputId": "4b7518a4-15ca-46e2-a6c1-13a3bf0f2677",
        "colab": {
          "base_uri": "https://localhost:8080/"
        }
      },
      "source": [
        "''' archive: constructs a third degree base list from first and second degree lists\n",
        "def generate_third_degree_base(base): \n",
        "\n",
        "  degree = 3\n",
        "  start_base_pos = 0\n",
        "  curr_base_pos = 0\n",
        "  base_3_list = []\n",
        "  base_2_list = list(generate_second_degree_base(base_list))\n",
        "  list_2_len = len(base_2_list)\n",
        "  for base_2_iter in range(list_2_len-1): \n",
        "    if (base_2_iter == 0): \n",
        "      base_3_list.append(base_list[start_base_pos] + '^' + str(degree)) # a^3\n",
        "    for base_iter in range(curr_base_pos, list_len): \n",
        "      if ((curr_base_pos + 1) % (list_len) == 0):\n",
        "        start_base_pos += 1\n",
        "        curr_base_pos = (start_base_pos - 1)\n",
        "        base_3_list.append(base_2_list[base_2_iter] + '^' + str(degree-1)) # am^2, bm^2... lm^2\n",
        "        base_3_list.append(base_list[start_base_pos] + '^' + str(degree)) # b^3, c^3... l^3\n",
        "        break\n",
        "      if (base_iter == curr_base_pos) and (base_iter != start_base_pos):\n",
        "        base_3_list.append(base_2_list[base_2_iter] + '^' + str(degree-1)) # ab^2, ac^2... bc^2, bd^2... kl^2 \n",
        "        continue\n",
        "      if (base_iter != start_base_pos):      \n",
        "        base_3_list.append(str(base_2_list[base_2_iter]) + base_list[base_iter]) # a^2b, a^2c... abc, abd, abe... klm, l^2m\n",
        "    curr_base_pos += 1\n",
        "    list_3_len = len(base_3_list)\n",
        "\n",
        "  return list_3_len, base_3_list    \n",
        "'''"
      ],
      "execution_count": null,
      "outputs": [
        {
          "output_type": "execute_result",
          "data": {
            "application/vnd.google.colaboratory.intrinsic+json": {
              "type": "string"
            },
            "text/plain": [
              "\" archive: constructs a third degree base list from first and second degree lists\\ndef generate_third_degree_base(base): \\n\\n  degree = 3\\n  start_base_pos = 0\\n  curr_base_pos = 0\\n  base_3_list = []\\n  base_2_list = list(generate_second_degree_base(base_list))\\n  list_2_len = len(base_2_list)\\n  for base_2_iter in range(list_2_len-1): \\n    if (base_2_iter == 0): \\n      base_3_list.append(base_list[start_base_pos] + '^' + str(degree)) # a^3\\n    for base_iter in range(curr_base_pos, list_len): \\n      if ((curr_base_pos + 1) % (list_len) == 0):\\n        start_base_pos += 1\\n        curr_base_pos = (start_base_pos - 1)\\n        base_3_list.append(base_2_list[base_2_iter] + '^' + str(degree-1)) # am^2, bm^2... lm^2\\n        base_3_list.append(base_list[start_base_pos] + '^' + str(degree)) # b^3, c^3... l^3\\n        break\\n      if (base_iter == curr_base_pos) and (base_iter != start_base_pos):\\n        base_3_list.append(base_2_list[base_2_iter] + '^' + str(degree-1)) # ab^2, ac^2... bc^2, bd^2... kl^2 \\n        continue\\n      if (base_iter != start_base_pos):      \\n        base_3_list.append(str(base_2_list[base_2_iter]) + base_list[base_iter]) # a^2b, a^2c... abc, abd, abe... klm, l^2m\\n    curr_base_pos += 1\\n    list_3_len = len(base_3_list)\\n\\n  return list_3_len, base_3_list    \\n\""
            ]
          },
          "metadata": {
            "tags": []
          },
          "execution_count": 33
        }
      ]
    },
    {
      "cell_type": "markdown",
      "metadata": {
        "id": "0GEqz6avLQME"
      },
      "source": [
        "**find_full_value:** finds the combined degree value of a polynomial term."
      ]
    },
    {
      "cell_type": "code",
      "metadata": {
        "id": "OKAb7aGgrV1P"
      },
      "source": [
        "# calculate the value of an encoded coefficient term, assumes single digit exponents and <= 261 features/ subfeatures\n",
        "def find_full_value(index, search_str):\n",
        "\n",
        "  idxs = []\n",
        "  start_pos = 0\n",
        "  for i in range(index):\n",
        "    if (search_str[index-i].isdigit()):\n",
        "      start_pos = index-i-1\n",
        "      break\n",
        "    elif ((search_str[index-i].isalpha())):\n",
        "      start_pos = index-i\n",
        "      break\n",
        "  idxs.append(start_pos)\n",
        "\n",
        "  rank = 0\n",
        "  str_len = len(search_str)\n",
        "  end_pos = 0\n",
        "  for k in range(index+1, str_len):\n",
        "    if (search_str[k].isdigit()):\n",
        "      end_pos = k\n",
        "      break\n",
        "  end_pos += 1\n",
        "  end_start = index+1\n",
        "  rank = int(search_str[end_start : end_pos])\n",
        "  idxs.append(end_pos)\n",
        "\n",
        "  return idxs, rank"
      ],
      "execution_count": null,
      "outputs": []
    },
    {
      "cell_type": "markdown",
      "metadata": {
        "id": "x6OpLKyTLW83"
      },
      "source": [
        "**get_ranks:** find the polynomial values associated with a coefficient term."
      ]
    },
    {
      "cell_type": "code",
      "metadata": {
        "id": "jbuuQ75NsG-L"
      },
      "source": [
        "# capture the rank values of the 'length 2' combinations\n",
        "def get_ranks(vals, poly):\n",
        "\n",
        "  leftover = ''\n",
        "  rank_list = []\n",
        "  rank = 0\n",
        "  for n in range(len(vals)): # (may be unnecessary)\n",
        "    # calculate all of the exponent values and strip them out\n",
        "    leftover = ''\n",
        "    for i in range(int(poly/2)):\n",
        "      if not vals[n]:\n",
        "        break\n",
        "      idx = vals[n].find('^')\n",
        "      if (idx != -1):\n",
        "        indices, rank_holder = find_full_value(idx, vals[n])\n",
        "        rank += rank_holder\n",
        "        item_len = len(vals[n])\n",
        "        post = item_len - indices[1]\n",
        "        if (indices[0] > 0):\n",
        "          leftover = vals[n][:indices[0]]\n",
        "        if (post >= 1):\n",
        "          leftover += vals[n][indices[1]:]\n",
        "        vals[n] = leftover\n",
        "      else:\n",
        "        break\n",
        "\n",
        "    if not vals[n]:\n",
        "      rank_list.append(rank)\n",
        "      rank = 0\n",
        "      continue\n",
        "\n",
        "    # remove any leftover numbers\n",
        "    numeric_indices = []\n",
        "    if (any(char.isdigit() for char in vals[n])):\n",
        "      for i in range(len(vals[n])):\n",
        "        if (vals[n][i].isdigit()):\n",
        "          numeric_indices.append(i)\n",
        "      offset = 0\n",
        "      for ele in numeric_indices:\n",
        "        temp_str = vals[n][:ele-offset]\n",
        "        temp_str += vals[n][(ele-offset)+1:]\n",
        "        vals[n] = temp_str\n",
        "        offset += 1\n",
        "      \n",
        "    # remove any blank spaces and count up the remaining characters and increment the rank\n",
        "    remaining = vals[n].replace(' ', '')\n",
        "    rank += len(remaining)\n",
        "\n",
        "    rank_list.append(rank)\n",
        "    rank = 0\n",
        "\n",
        "  return rank_list"
      ],
      "execution_count": null,
      "outputs": []
    },
    {
      "cell_type": "markdown",
      "metadata": {
        "id": "8vj7XZ3ELdSb"
      },
      "source": [
        "**find_comparisons:** - determines the sort order for the combined degree value between 2 polynomial terms."
      ]
    },
    {
      "cell_type": "code",
      "metadata": {
        "id": "bgfcCaETsKd9"
      },
      "source": [
        "# find the comparison terms between coefficient tokens\n",
        "def find_comparisons(ele):\n",
        "\n",
        "  first_val = ''\n",
        "  first_found = False\n",
        "  ele_len = len(ele[0])\n",
        "  first_val_degree = 1\n",
        "  deg_found = False\n",
        "  for i in range(1, ele_len+1):\n",
        "    if (ele[0][-i].isdigit()):\n",
        "      continue\n",
        "    elif (ele[0][-i] == '^'):\n",
        "      for k in range((ele_len-i)+1, ele_len):\n",
        "        if (ele[0][k].isalpha()):\n",
        "          first_val_degree = ele[0][-i+1:k]\n",
        "          deg_found = True\n",
        "          break\n",
        "      if (deg_found == False):\n",
        "        first_val_degree = ele[0][-i+1:]\n",
        "    else:\n",
        "      first_val = ele[0][-i]\n",
        "      root_val = ele[0][:-i]\n",
        "      break\n",
        "\n",
        "  second_val = ''\n",
        "  element_len = len(ele[1])\n",
        "  for j in range(element_len):\n",
        "    if ((ele[1][-j].isdigit()) or (ele[1][-j] == '^')):\n",
        "      continue\n",
        "    else:\n",
        "      second_val = ele[1][-j]\n",
        "      break\n",
        "\n",
        "  return root_val, first_val, first_val_degree, second_val"
      ],
      "execution_count": null,
      "outputs": []
    },
    {
      "cell_type": "markdown",
      "metadata": {
        "id": "86sNZs-sLid2"
      },
      "source": [
        "**create_n_poly_list:** filters consecutive base value combination results to create an n degree polynomial coefficient list."
      ]
    },
    {
      "cell_type": "code",
      "metadata": {
        "id": "jROdnlx-sN3R"
      },
      "source": [
        "def create_n_poly_list(prev_base, root_base, degree):\n",
        "\n",
        "  list_threshold = degree\n",
        "  # create a list of all of the values in the (n-1) coefficients\n",
        "  list_vars = add_poly_vars(prev_base + root_base, list_threshold)\n",
        "\n",
        "  # find the new polynomial coefficients by performing a 'length 2' combination with the base list with the (n-1) list\n",
        "  comb_result = combinations(prev_base + root_base, 2) \n",
        "\n",
        "  # convert the combination results into a list\n",
        "  result_combos = []\n",
        "  for k in list(comb_result): \n",
        "    result_combos.append(list(k))\n",
        "\n",
        "  results = []\n",
        "  for ele in result_combos:\n",
        "    results.append(ele[0] + ' ' + ele[1])\n",
        "\n",
        "  # create a list of the total rank values for each element\n",
        "  filtered_list = []\n",
        "  rank_vals = []\n",
        "  for ele in results:\n",
        "    values = ele.split()\n",
        "    ranks = get_ranks(values, degree)\n",
        "    rank_vals.append(ranks)\n",
        "\n",
        "  # remove any elements with a combined rank above the target polynomial value\n",
        "  filter_offset = 0\n",
        "  for i in range(len(rank_vals)):\n",
        "    if (rank_vals[i][0] + rank_vals[i][1] > degree) or (rank_vals[i][0] + rank_vals[i][1] < degree):\n",
        "      del results[i - filter_offset]\n",
        "      filter_offset += 1\n",
        "\n",
        "  # remove any elements where the terms are out of 'order'\n",
        "  filt_off = 0\n",
        "  final_list = []\n",
        "  for i in range(len(results)):\n",
        "    elements = results[i].split()\n",
        "    root, first, first_deg, second = find_comparisons(elements)\n",
        "    if (first > second):\n",
        "      continue\n",
        "    elif (first == second): # combine matching terms to create the 'n level' coefficients\n",
        "      final_list.append(root + second + '^' + str(int(first_deg)+1))\n",
        "    else:\n",
        "      final_list.append(results[i])\n",
        "\n",
        "  return final_list"
      ],
      "execution_count": null,
      "outputs": []
    },
    {
      "cell_type": "markdown",
      "metadata": {
        "id": "Zsnmz8HtLoSs"
      },
      "source": [
        "**get_terms:** extracts consecutive terms from coefficient dummy list."
      ]
    },
    {
      "cell_type": "code",
      "metadata": {
        "id": "juMSTSAzsSHK"
      },
      "source": [
        "# break up a token string into a list of constituent values\n",
        "def get_terms(term_str):\n",
        "\n",
        "  term_list = []\n",
        "  term = ''\n",
        "  new_val = True\n",
        "  for i in range(len(term_str)):\n",
        "    if (new_val == True):\n",
        "      if ((i == 0) or (term_str[i].isdigit()) or (term_str[i] == '^')):\n",
        "        term += term_str[i]\n",
        "        new_val = False\n",
        "        if (i == len(term_str)-1):\n",
        "          term_list.append(term)\n",
        "        continue\n",
        "      elif (i == len(term_str)-1):\n",
        "        term_list.append(term)\n",
        "      else:        \n",
        "        term_list.append(term)\n",
        "        term = term_str[i]\n",
        "        new_val = True  \n",
        "        continue   \n",
        "    if (term_str[i].isdigit() or term_str[i] == '^'):\n",
        "      term += term_str[i]\n",
        "      if (i == len(term_str)-1):\n",
        "        term_list.append(term)\n",
        "    elif (i == len(term_str)-1):\n",
        "        if (new_val == False):\n",
        "          term_list.append(term)\n",
        "        term = term_str[i]\n",
        "        term_list.append(term)\n",
        "    else: # character always starts a new term     \n",
        "      term_list.append(term)\n",
        "      term = term_str[i]\n",
        "      new_val = True\n",
        "\n",
        "  return term_list"
      ],
      "execution_count": null,
      "outputs": []
    },
    {
      "cell_type": "markdown",
      "metadata": {
        "id": "O7ekGRbOLr0y"
      },
      "source": [
        "**add_const:** adds in a const value to a coefficient list."
      ]
    },
    {
      "cell_type": "code",
      "metadata": {
        "id": "rbsBRRv8sYyl"
      },
      "source": [
        "def add_const(poly_list, dummy_dict):\n",
        "\n",
        "  term_list = []\n",
        "  return_list = []\n",
        "  for i in range(len(poly_list)):\n",
        "    poly_list[i] = poly_list[i].replace(\" \", \"\")\n",
        "    term_list = get_terms(poly_list[i])\n",
        "    temp_str = ''\n",
        "    for k in range(len(term_list)):\n",
        "      exp = term_list[k].find('^')\n",
        "      if (exp != -1):\n",
        "        term = term_list[k][:exp]\n",
        "      else:\n",
        "        term = term_list[k]\n",
        "      term_list[k] = term_list[k].replace(term, dummy_dict[term])\n",
        "\n",
        "    len_list = len(term_list)\n",
        "    for j in range(len_list):\n",
        "      if (j == (len_list-1)):\n",
        "        temp_str += (term_list[j])\n",
        "      else:\n",
        "        temp_str += (term_list[j] + ' ')\n",
        "    return_list.append(temp_str)    \n",
        "\n",
        "  return return_list"
      ],
      "execution_count": null,
      "outputs": []
    },
    {
      "cell_type": "markdown",
      "metadata": {
        "id": "m3XFefZ7Lvb0"
      },
      "source": [
        "**create_dummy_vals:** - creates a list of dummy values to encode model features for n degree polynomial extrapolation."
      ]
    },
    {
      "cell_type": "code",
      "metadata": {
        "id": "ZwaHZ_U5sZ9k"
      },
      "source": [
        "def create_dummy_vals(num):\n",
        "\n",
        "  test_list = []\n",
        "  alpha = 'a'\n",
        "  for i in range(0, 26): \n",
        "    test_list.append(alpha) \n",
        "    alpha = chr(ord(alpha) + 1)  \n",
        "\n",
        "  if (num <= 26):\n",
        "    return test_list[0 : num]\n",
        "  else: \n",
        "    sets = int(num / 26)\n",
        "    remainder = num % 26\n",
        "\n",
        "  add_test_list = []\n",
        "  for i in range(0, sets-1):\n",
        "    for j in range(0, 26):\n",
        "      add_test_list.append(test_list[j] + str(i))\n",
        "  \n",
        "  for i in range(remainder):\n",
        "    add_test_list.append(test_list[i] + str(sets-1))\n",
        "\n",
        "  return test_list + add_test_list"
      ],
      "execution_count": null,
      "outputs": []
    },
    {
      "cell_type": "markdown",
      "metadata": {
        "id": "VkFKeeYoLy3J"
      },
      "source": [
        "**get_subcat_features:** - extract a list of all of the subcategory names in the model."
      ]
    },
    {
      "cell_type": "code",
      "metadata": {
        "id": "h_EjfNissejg"
      },
      "source": [
        "def get_subcat_features(order):\n",
        "\n",
        "  subcat_list = []\n",
        "  subcat_dict = order['sub_cats']\n",
        "  cat_features = order['categorical']\n",
        "  for feature in cat_features:\n",
        "    append_list = subcat_dict[feature]\n",
        "    for i in range(len(append_list)):\n",
        "      subcat_list.append(append_list[i])\n",
        "\n",
        "  return subcat_list"
      ],
      "execution_count": null,
      "outputs": []
    },
    {
      "cell_type": "markdown",
      "metadata": {
        "id": "-u5r-sn5M0TC"
      },
      "source": [
        "**create_feature_dictionary_template:** - creates the foundational feature dictionary that will hold all of the OLS result information."
      ]
    },
    {
      "cell_type": "code",
      "metadata": {
        "id": "FbWM34dBso9C"
      },
      "source": [
        "def create_feature_dictionary_template(ordered_dict):\n",
        "\n",
        "  cont_features = ordered_dict['continuous']\n",
        "  cat_features = ordered_dict['categorical']\n",
        "  template = cont_features + get_subcat_features(ordered_dict)\n",
        "\n",
        "  dict_spine = ['coefficients']\n",
        "  category_spine = cont_features + cat_features\n",
        "  dict_spine += category_spine\n",
        "\n",
        "  result_dict = {}\n",
        "  [result_dict.update({key : {}}) for key in dict_spine]\n",
        "  [result_dict['coefficients'].update({key : {}}) for key in category_spine]\n",
        "\n",
        "  [result_dict[key].update({key : {}}) for key in cont_features]\n",
        "  for feature in cont_features:\n",
        "    [result_dict[feature][feature].update({key : {}}) for key in category_spine]\n",
        "\n",
        "  for feature in cat_features:\n",
        "    for subfeature in ordered_dict['sub_cats'][feature]:\n",
        "      result_dict[feature].update({subfeature : {}})\n",
        "\n",
        "  for feature in cat_features:\n",
        "    for subfeature in result_dict[feature].keys():\n",
        "      [result_dict[feature][subfeature].update({key : {}}) for key in category_spine] \n",
        "\n",
        "  return result_dict"
      ],
      "execution_count": null,
      "outputs": []
    },
    {
      "cell_type": "markdown",
      "metadata": {
        "id": "Q46b0hnqNu05"
      },
      "source": [
        "**decode_term_vals:** - decodes dummy terms back to feature names."
      ]
    },
    {
      "cell_type": "code",
      "metadata": {
        "id": "8HZzcdUHsuKs"
      },
      "source": [
        "def decode_term_vals(term_value, dummy_dictionary):\n",
        "\n",
        "  result = ''\n",
        "  exp = term_value.find('^')\n",
        "  if (exp != -1):\n",
        "    primary_letter = term_value[:exp]\n",
        "    exponent = term_value[:exp]\n",
        "    result = dummy_dictionary[primary_letter] + '^' + term_value[exp+1:]   \n",
        "  else:\n",
        "    primary_letter = term_value\n",
        "    result = dummy_dictionary[primary_letter]\n",
        "\n",
        "  return result"
      ],
      "execution_count": null,
      "outputs": []
    },
    {
      "cell_type": "markdown",
      "metadata": {
        "id": "k04AMkJ6N1E3"
      },
      "source": [
        "**add_feature_dictionary_polynomials:** - add n degree polynomial coefficient terms to the feature dictionary template."
      ]
    },
    {
      "cell_type": "code",
      "metadata": {
        "id": "TRbAQ5Cqs2sY"
      },
      "source": [
        "def add_feature_dictionary_polynomials(dict_template, dummy_dict, order_dict, encoded_vals, degree):\n",
        "\n",
        "  len_dict = {}\n",
        "  cont_vars = order_dict['continuous']\n",
        "  len_cont_vars = len(cont_vars)\n",
        "  len_dict.update({'continuous' : len_cont_vars}) \n",
        "  cat_vars = order_dict['categorical']\n",
        "  [len_dict.update({feature : len(order_dict['sub_cats'][feature])}) for feature in cat_vars] \n",
        "\n",
        "  letter_dict = {}\n",
        "  hidden_list = []\n",
        "  result_update_list = []\n",
        "  [letter_dict.update({encoded_vals[i] : order_dict['continuous'][i]}) for i in range(len_cont_vars)]\n",
        "  curr_pos = len_cont_vars\n",
        "  for feature in cat_vars:\n",
        "    hidden_list.append(encoded_vals[curr_pos])\n",
        "    for i in range(curr_pos, curr_pos + len_dict[feature]):\n",
        "      letter_dict.update({encoded_vals[i] : feature})\n",
        "      curr_pos += 1\n",
        "\n",
        "  hidden_mat = add_poly_vars(hidden_list, degree)\n",
        "  hidden_features = []\n",
        "  for i in range(len(hidden_mat)):\n",
        "    hidden_features += hidden_mat[i]  \n",
        "\n",
        "  real_term_vals = []\n",
        "  term_vals = []\n",
        "  for i in range(len(encoded_vals)):\n",
        "    hide = False\n",
        "    term_vals = (get_terms(encoded_vals[i]))\n",
        "    term_len = len(term_vals)\n",
        "    for n in range(term_len):\n",
        "      if any(values == term_vals[n] for values in hidden_features):\n",
        "        hide = True\n",
        "      real_term_vals.append(decode_term_vals(term_vals[n], dummy_dict))\n",
        "      \n",
        "    exp = term_vals[0].find('^')\n",
        "    if (exp != -1):\n",
        "      primary_letter = term_vals[0][:exp]\n",
        "    else:\n",
        "      primary_letter = term_vals[0]\n",
        "    feat = letter_dict[primary_letter]\n",
        "    subfeature = dummy_dict[primary_letter]\n",
        "    category = letter_dict[primary_letter]\n",
        "\n",
        "    if (term_len > 1):\n",
        "      exponent = term_vals[-1].find('^')\n",
        "      if (exponent != -1):\n",
        "        secondary_letter = term_vals[-1][:exponent]\n",
        "      else:\n",
        "        secondary_letter = term_vals[-1]\n",
        "      category = letter_dict[secondary_letter]\n",
        "\n",
        "    real_term_len = len(real_term_vals)\n",
        "    if (letter_dict[primary_letter] in cont_vars):\n",
        "      rem_real_vals = ''\n",
        "      if (real_term_len == 1):\n",
        "        if (exp != -1):\n",
        "          dict_template[feat][feat][feat].update({real_term_vals[0] : None}) \n",
        "          if (hide == False):\n",
        "            result_update_list.append([real_term_vals[0], feat, feat, feat])\n",
        "        else: \n",
        "          dict_template['coefficients'][feat].update({real_term_vals[0] : None})  \n",
        "          if (hide == False):\n",
        "            result_update_list.append([real_term_vals[0], 'coefficients', feat])\n",
        "      else:\n",
        "        for j in range(1, real_term_len):\n",
        "          rem_real_vals += (' ' + real_term_vals[j])\n",
        "          if (real_term_vals[0] + rem_real_vals == 'const NA Y'):\n",
        "            print(term_vals)\n",
        "        dict_template[feat][subfeature][category].update({real_term_vals[0] + rem_real_vals  : None})\n",
        "        if (hide == False):\n",
        "          result_update_list.append([real_term_vals[0] + rem_real_vals, feat, subfeature, category])\n",
        "    else:\n",
        "      rem_real_vals = ''\n",
        "      if (real_term_len == 1):\n",
        "        if (exp != -1):\n",
        "          dict_template[feat][subfeature][category].update({real_term_vals[0] : None}) \n",
        "          if (hide == False):\n",
        "            result_update_list.append([real_term_vals[0], feat, subfeature, category])\n",
        "        else: \n",
        "          dict_template['coefficients'][feat].update({real_term_vals[0] : None})  \n",
        "          if (hide == False):\n",
        "            result_update_list.append([real_term_vals[0], 'coefficients', feat])\n",
        "      else:\n",
        "        for j in range(1, real_term_len):\n",
        "          rem_real_vals += (' ' + real_term_vals[j])\n",
        "        dict_template[feat][subfeature][category].update({real_term_vals[0] + rem_real_vals  : None}) \n",
        "        if (hide == False):\n",
        "          result_update_list.append([real_term_vals[0] + rem_real_vals, feat, subfeature, category])\n",
        "\n",
        "    real_term_vals.clear()\n",
        "\n",
        "  return dict_template, result_update_list"
      ],
      "execution_count": null,
      "outputs": []
    },
    {
      "cell_type": "markdown",
      "metadata": {
        "id": "Iu31slkCOD0h"
      },
      "source": [
        "**slot_update:** - update the elements in the result dictionary."
      ]
    },
    {
      "cell_type": "code",
      "metadata": {
        "id": "qnLPhptPngDl"
      },
      "source": [
        "def slot_update(result_row, feature_dict):\n",
        "\n",
        "  row_len = len(result_row)\n",
        "  coeff_name = result_row[0]\n",
        "  p_val = result_row[1][1]\n",
        "  feature = result_row[3]\n",
        "  subfeature = result_row[4]\n",
        "  if (row_len == 5):\n",
        "    feature_dict[feature][subfeature][coeff_name] = p_val\n",
        "  else:\n",
        "    category = result_row[5]\n",
        "    feature_dict[feature][subfeature][category][coeff_name] = p_val\n",
        "\n",
        "  return feature_dict"
      ],
      "execution_count": null,
      "outputs": []
    },
    {
      "cell_type": "markdown",
      "metadata": {
        "id": "Oik0JNVYOQ5G"
      },
      "source": [
        "**slot_delete:** - remove elements from the feature dictionary."
      ]
    },
    {
      "cell_type": "code",
      "metadata": {
        "id": "6DsYcBtHrRtX"
      },
      "source": [
        "def slot_delete(result_row, feature_dict):\n",
        "\n",
        "  row_len = len(result_row)\n",
        "  coeff_name = result_row[0]\n",
        "  p_val = result_row[1][1]\n",
        "  feature = result_row[3]\n",
        "  subfeature = result_row[4]\n",
        "  if (row_len == 5):\n",
        "    del feature_dict[feature][subfeature][coeff_name]\n",
        "  else:\n",
        "    category = result_row[5]\n",
        "    del feature_dict[feature][subfeature][category][coeff_name]\n",
        "\n",
        "  return feature_dict"
      ],
      "execution_count": null,
      "outputs": []
    },
    {
      "cell_type": "markdown",
      "metadata": {
        "id": "usTtozxFOVQc"
      },
      "source": [
        "**create_polynomial_result_dict:** - adds first OLS results to the feature dictionary template."
      ]
    },
    {
      "cell_type": "code",
      "metadata": {
        "id": "Q0Y44vUH0ncM"
      },
      "source": [
        "def create_polynomial_result_dict(feature_dict, res_updates, ols_results):\n",
        "\n",
        "  #create an ols results object to update the results dictionary\n",
        "  list_pairs = [list(x) for x in zip(ols_results.params, ols_results.pvalues)] \n",
        "  list_results = [list(x) for x in zip(ols_results.params.index, list_pairs)]\n",
        "  del list_results[0]\n",
        "\n",
        "  #remove the encoding artifacts from the ols results object\n",
        "  clean_coefs = clean_coefficients(list_results, '_')\n",
        "  for i in range(len(clean_coefs)):\n",
        "    list_results[i][0] = clean_coefs[i]\n",
        "\n",
        "  #add in the dictionary index information to the ols results object\n",
        "  for i in range(len(res_updates)):\n",
        "    for j in range(len(res_updates[i])):\n",
        "      list_results[i].append(res_updates[i][j])   \n",
        "\n",
        "  for i in range(len(list_results)):\n",
        "    feature_dict = slot_update(list_results[i], feature_dict)\n",
        "  \n",
        "  return feature_dict, list_results"
      ],
      "execution_count": null,
      "outputs": []
    },
    {
      "cell_type": "markdown",
      "metadata": {
        "id": "gbM4Sds4OcmA"
      },
      "source": [
        "**generate_polynomial_coefficients:** - creates the coefficient list for an n degree model."
      ]
    },
    {
      "cell_type": "code",
      "metadata": {
        "id": "rwkAygEFs4GS"
      },
      "source": [
        "# recursively generates 'n' degree polynomial coefficients in the same order as the OLS regression algorithm\n",
        "def generate_polynomial_coefficients(order_dict, level = 2):\n",
        "\n",
        "  if (level < 2):\n",
        "    return None\n",
        "\n",
        "  cont_features = order_dict['continuous']\n",
        "  cat_features = order_dict['categorical']\n",
        "  subcat_dict = order_dict['sub_cats']\n",
        "  subcategory_list = get_subcat_features(order_dict)\n",
        "  encoded_base_cols = cont_features + subcategory_list\n",
        "  col_length = len(encoded_base_cols)\n",
        "\n",
        "  base_list = create_dummy_vals(col_length)\n",
        "  base_two_len, base_two_list = generate_second_degree_base(base_list)\n",
        "  \n",
        "  full_base_list = base_list + base_two_list\n",
        "  last_base_list = base_two_list\n",
        "  strip_list = []\n",
        "  for i in range(level - 2):\n",
        "    degree = i + 3\n",
        "    strip_list.clear()\n",
        "    new_base = create_n_poly_list(last_base_list, base_list, degree)\n",
        "    for i in range(len(new_base)):\n",
        "      strip_list.append(new_base[i].replace(' ', ''))\n",
        "    full_base_list += strip_list\n",
        "    last_base_list = strip_list.copy()\n",
        "\n",
        "  dummy_relationships = list(zip(base_list, encoded_base_cols))\n",
        "  dummy_dictionary = create_dummy_dict(dummy_relationships)  \n",
        "\n",
        "  full_coefficients = add_const(full_base_list, dummy_dictionary)\n",
        "  full_coefficients.insert(0,'1')\n",
        "  \n",
        "  feature_dictionary_template = create_feature_dictionary_template(order_dict)\n",
        "  feature_dictionary, update_list = add_feature_dictionary_polynomials(feature_dictionary_template, dummy_dictionary, order_dict, full_base_list, level)\n",
        "\n",
        "  return full_coefficients, feature_dictionary, update_list"
      ],
      "execution_count": null,
      "outputs": []
    },
    {
      "cell_type": "markdown",
      "metadata": {
        "id": "e2VE6hN-OjdK"
      },
      "source": [
        "**update_poly_results_dict:**  - update the polynomial results dictionary between iterations.\n",
        "\n"
      ]
    },
    {
      "cell_type": "code",
      "metadata": {
        "id": "7AGVTRyua-DZ"
      },
      "source": [
        "# update the results list and the results dictionary\n",
        "def update_poly_results_dict(ols_results, results_dict, updates):\n",
        "\n",
        "  #update the results dictionary as well as the results list\n",
        "  list_pairs = [list(x) for x in zip(ols_results.params, ols_results.pvalues)] \n",
        "  list_results = [list(x) for x in zip(ols_results.params.index, list_pairs)]\n",
        "  del list_results[0]\n",
        "\n",
        "  #remove the encoding artifacts from the ols results object\n",
        "  clean_coefs = clean_coefficients(list_results, '_')\n",
        "  for i in range(len(clean_coefs)):\n",
        "    list_results[i][0] = clean_coefs[i]\n",
        "\n",
        "  updated_list = [] # update the results list\n",
        "  for i, j in zip(range(len(list_results)), range(len(updates))):\n",
        "    if (list_results[i][1][1] < .05):\n",
        "      updates[j][1][1] = list_results[i][1][1]\n",
        "      updated_list.append(updates[j])\n",
        "      results_dict = slot_update(updates[j], results_dict)  \n",
        "    else:\n",
        "      results_dict = slot_delete(updates[j], results_dict) \n",
        "\n",
        "  return results_dict, updated_list "
      ],
      "execution_count": null,
      "outputs": []
    },
    {
      "cell_type": "markdown",
      "metadata": {
        "id": "rasRatK5PdmJ"
      },
      "source": [
        "**refine_poly_model:** - use the current OLS results to create the next model."
      ]
    },
    {
      "cell_type": "code",
      "metadata": {
        "id": "MMdECJTwso6z"
      },
      "source": [
        "#update the encoded model \n",
        "def refine_poly_model(results, model_df, results_dict, update_list, ordred_feature_dict):\n",
        "\n",
        "  #save a list of the column names from the encoded data frame\n",
        "  column_names = model_df.columns.values.tolist() \n",
        "  col_names = [[val] for val in column_names] \n",
        "  column_names = clean_coefficients(col_names, '_')\n",
        "\n",
        "  #generate a list of column indices to keep in the model\n",
        "  update_counter = 0\n",
        "  keep_indices = []\n",
        "  col_length = len(column_names)\n",
        "  for i in range(1, col_length):\n",
        "    if (update_counter == len(update_list)):\n",
        "      break\n",
        "    if (update_list[update_counter][0] == column_names[i]):\n",
        "      keep_indices.append(i)\n",
        "      update_counter += 1\n",
        "\n",
        "  last_index_kept = False\n",
        "  if (keep_indices[-1] == col_length-1):\n",
        "    last_index_kept = True\n",
        "\n",
        "  first_index_kept = False\n",
        "  if (keep_indices[0] == 1):\n",
        "    first_index_kept = True  \n",
        "\n",
        "  # invert the keep list to create an exclusion list\n",
        "  exclusion_array = find_missing(keep_indices)\n",
        "  # add appropriate values to the end of the list if needed\n",
        "  if (last_index_kept == False):\n",
        "    break_point = keep_indices[-1]+1\n",
        "    extend_indices = list(range(break_point, col_length))\n",
        "    [exclusion_array.append(extend_indices[i]) for i in range(len(extend_indices))]\n",
        "  # add appropriate values to the front of the list if needed\n",
        "  if (first_index_kept == False):\n",
        "    ext_ind = list(range(keep_indices[0]))\n",
        "    [exclusion_array.insert(0, ext_ind[-i]) for i in range(1, len(ext_ind))]\n",
        "\n",
        "  #create the refined data frame\n",
        "  refined_model_df = model_df.copy()\n",
        "\n",
        "  #rename the column names to index numbers due to duplicate names created by the encoder\n",
        "  refined_model_df.columns = list(range(len(refined_model_df.columns)))\n",
        "\n",
        "  #drop the excluded features\n",
        "  refined_model_df.drop(exclusion_array, axis = 1, inplace=True)\n",
        "\n",
        "  #add the column names back into the refined dataframe\n",
        "  new_model_indices = refined_model_df.columns.values.tolist()\n",
        "  refined_names = []\n",
        "  for i in new_model_indices:\n",
        "    refined_names.append(column_names[i])\n",
        "\n",
        "  #add the column names back in after the filtering step\n",
        "  refined_model_df.columns = refined_names \n",
        "\n",
        "  return refined_model_df "
      ],
      "execution_count": null,
      "outputs": []
    },
    {
      "cell_type": "markdown",
      "metadata": {
        "id": "rU-cRYRhPsL0"
      },
      "source": [
        "**reshape_poly_data:** - reshapes the test data to match the training output."
      ]
    },
    {
      "cell_type": "code",
      "metadata": {
        "id": "2L177EkFYSJy"
      },
      "source": [
        "def reshape_poly_data(xtest, xtrain):\n",
        "\n",
        "  # add constant to the model as it's a best practice to do so every time!\n",
        "  xtest = sm.add_constant(xtest)\n",
        "\n",
        "  # remove the excluded features from the test data\n",
        "  final_features = xtrain.columns.values.tolist()\n",
        "  initial_features = xtest.columns.values.tolist()\n",
        "\n",
        "  current_position = 0\n",
        "  keep_index = []\n",
        "  # find the indices of all of the features from the training set that will be carried over to the test set\n",
        "  for feature in final_features:\n",
        "    for i in range(current_position, len(initial_features)):\n",
        "      if (feature == initial_features[i]):\n",
        "        keep_index.append(i)\n",
        "        current_position = i + 1\n",
        "        break\n",
        "\n",
        "  # create a drop index column mask\n",
        "  exclude_index = list(range(len(initial_features)))\n",
        "  for i in keep_index:\n",
        "    exclude_index.remove(i)\n",
        "\n",
        "  # rename the columns to index numbers due to duplicate names created by the encoder\n",
        "  xtest.columns = list(range(len(xtest.columns)))\n",
        "\n",
        "  # drop the exluded features columns\n",
        "  xtest.drop(exclude_index, axis = 1, inplace=True)\n",
        "\n",
        "  # add the column names back into the refined dataframe\n",
        "  kept_names = []\n",
        "  for i in range(len(final_features)):\n",
        "    kept_names.append(final_features[i])\n",
        "  xtest.columns = kept_names  \n",
        "\n",
        "  return xtest  "
      ],
      "execution_count": null,
      "outputs": []
    },
    {
      "cell_type": "markdown",
      "metadata": {
        "id": "faXCquX8WKuz"
      },
      "source": [
        "# OLS Regression Output Functions"
      ]
    },
    {
      "cell_type": "markdown",
      "metadata": {
        "id": "E5EdR5EtQcNE"
      },
      "source": [
        "**create_return_dict:** - creates a return object that contains all of the iteration information from the OLS recursion algorithm."
      ]
    },
    {
      "cell_type": "code",
      "metadata": {
        "id": "KJoQEH2RNoEQ"
      },
      "source": [
        "def create_return_dict(iter_num, enc_archive, feature_archive, feature_order, result_archive, predictions_summary):\n",
        "\n",
        "  dictionary_categories = ['iterations', 'encoded_data', 'feature_dicts', 'ordering_archive', 'result_archive', 'predictions_dictionary']\n",
        "  dictionary_data = [iter_num, enc_archive, feature_archive, feature_order, result_archive, predictions_summary]\n",
        "\n",
        "  info = {}\n",
        "  for category, data in zip(dictionary_categories, dictionary_data):\n",
        "    info.update({category : data})\n",
        "\n",
        "  return info"
      ],
      "execution_count": null,
      "outputs": []
    },
    {
      "cell_type": "markdown",
      "metadata": {
        "id": "WQyYdjqzQgYk"
      },
      "source": [
        "**create_data_dictionary:** - creates a dictionary that holds the training and test data."
      ]
    },
    {
      "cell_type": "code",
      "metadata": {
        "id": "ih-0EO_hNy4J"
      },
      "source": [
        "def create_data_dictionary(xtest, xtrain, ytest, ytrain):\n",
        "\n",
        "  data_names = ['X_train', 'y_train', 'X_test', 'y_test']\n",
        "  data = [xtrain, ytrain, xtest, ytest]\n",
        "\n",
        "  result = {}\n",
        "  for name, info in zip(data_names, data):\n",
        "    result.update({name : info})\n",
        "\n",
        "  return result"
      ],
      "execution_count": null,
      "outputs": []
    },
    {
      "cell_type": "markdown",
      "metadata": {
        "id": "rCkp3nJRQnwR"
      },
      "source": [
        "**reshape_data:** - used to reshape the test data to match the training output."
      ]
    },
    {
      "cell_type": "code",
      "metadata": {
        "id": "1nTFcMvvOA41"
      },
      "source": [
        "def reshape_data(xtest, xtrain):\n",
        "\n",
        "  # add constant to the model as it's a best practice to do so every time!\n",
        "  xtest = sm.add_constant(xtest)\n",
        "\n",
        "  # remove the excluded features from the test data\n",
        "  final_features = xtrain.columns.values.tolist()\n",
        "  initial_features = xtest.columns.values.tolist()\n",
        "\n",
        "  current_position = 0\n",
        "  keep_index = []\n",
        "  # find the indices of all of the features from the training set that will be carried over to the test set\n",
        "  for feature in final_features:\n",
        "    for i in range(current_position, len(initial_features)):\n",
        "      if (feature == initial_features[i]):\n",
        "        keep_index.append(i)\n",
        "        current_position = i + 1\n",
        "        break\n",
        "\n",
        "  # create a drop index column mask\n",
        "  exclude_index = list(range(len(initial_features)))\n",
        "  for i in keep_index:\n",
        "    exclude_index.remove(i)\n",
        "\n",
        "  # rename the columns to index numbers due to duplicate names created by the encoder\n",
        "  xtest.columns = list(range(len(xtest.columns)))\n",
        "\n",
        "  # drop the exluded features columns\n",
        "  xtest.drop(exclude_index, axis = 1, inplace=True)\n",
        "\n",
        "  # add the column names back into the refined dataframe\n",
        "  kept_names = []\n",
        "  for i in range(len(final_features)):\n",
        "    kept_names.append(final_features[i])\n",
        "  xtest.columns = kept_names  \n",
        "\n",
        "  return xtest"
      ],
      "execution_count": null,
      "outputs": []
    },
    {
      "cell_type": "markdown",
      "metadata": {
        "id": "snr-Y6PZQqhc"
      },
      "source": [
        "**create_prediction_dictionary:** - creates a dictionary that contains all of the prediction information from the OLS algorithm final equation, includes 3 regularization options."
      ]
    },
    {
      "cell_type": "code",
      "metadata": {
        "id": "FWSGWkyKOCJG"
      },
      "source": [
        "def create_prediction_dictionary(X, y, data_dict, result_object, mode):\n",
        "\n",
        "  pred_result = {}\n",
        "\n",
        "  # raw data\n",
        "  X_train = data_dict['X_train']\n",
        "  X_train = sm.add_constant(X_train)\n",
        "  y_train = data_dict['y_train']\n",
        "  X_test = data_dict['X_test']\n",
        "  y_test = data_dict['y_test']\n",
        "\n",
        "  # We are making the sci-kit predictions here \n",
        "  scikit_y_preds_train = result_object.predict(X_train)\n",
        "  scikit_y_preds_test = result_object.predict(X_test)\n",
        "\n",
        "  scikit_r_squared_score = result_object.rsquared\n",
        "  scikit_r_squared_adj_score = result_object.rsquared_adj\n",
        "\n",
        "  scikit_mae = mean_absolute_error(y_test, scikit_y_preds_test)\n",
        "  scikit_mse = mse(y_test, scikit_y_preds_test)\n",
        "  scikit_rmse = rmse(y_test, scikit_y_preds_test)\n",
        "  scikit_mape = np.mean(np.abs((y_test - scikit_y_preds_test) / y_test)) * 100\n",
        "\n",
        "  # K-fold cross validation\n",
        "  kf_r2_test_array = []\n",
        "  kf_r2_train_array = []\n",
        "  kf = KFold(n_splits=5, random_state=None, shuffle=True)\n",
        "  for train_index, test_index in kf.split(X):\n",
        "    X_train_kf, X_test_kf = X.iloc[train_index], X.iloc[test_index]\n",
        "    y_train_kf, y_test_kf = y.iloc[train_index], y.iloc[test_index]\n",
        "    lrm_kf_test = LinearRegression().fit(X_test_kf, y_test_kf)\n",
        "    lrm_kf_train = LinearRegression().fit(X_train_kf, y_train_kf)\n",
        "    kf_r2_train_array.append(lrm_kf_train.score(X_train_kf, y_train_kf))\n",
        "    kf_r2_test_array.append(lrm_kf_test.score(X_test_kf, y_test_kf))  \n",
        "  sklearn_k_fold_train_score = np.mean(kf_r2_train_array)\n",
        "  sklearn_k_fold_test_score = np.mean(kf_r2_test_array)\n",
        "\n",
        "  # We fit an OLS model using sklearn\n",
        "  lrm = LinearRegression().fit(X_train, y_train)\n",
        "\n",
        "  # We are making sklearn predictions here\n",
        "  sklearn_y_preds_train = lrm.predict(X_train)\n",
        "  sklearn_y_preds_test = lrm.predict(X_test)\n",
        "\n",
        "  sklearn_r_squared_train_score = lrm.score(X_train, y_train)\n",
        "  sklearn_r_squared_test_score = lrm.score(X_test, y_test)\n",
        "\n",
        "  sklearn_mae = mean_absolute_error(y_test, sklearn_y_preds_test)\n",
        "  sklearn_mse = mse(y_test, sklearn_y_preds_test)\n",
        "  sklearn_rmse = rmse(y_test, sklearn_y_preds_test)\n",
        "  sklearn_mape = np.mean(np.abs((y_test - sklearn_y_preds_test) / y_test)) * 100\n",
        "\n",
        "  # create the prediction results return object names\n",
        "  pred_names = ['sci_pred_train', 'sci_pred_test', 'sci_r2_score', 'sci_adj_r2_score', 'sci_mae', 'sci_mse', 'sci_rmse', 'sci_mape','skl_pred_train'\n",
        "                , 'skl_pred_test', 'skl_r2_train_score', 'skl_r2_test_score', 'skl_kf_r2_train_score', 'skl_kf_r2_test_score', 'skl_mae', 'skl_mse'\n",
        "                , 'skl_rmse','skl_mape', 'reg_pred_train', 'reg_pred_test', 'reg_r2_train_score', 'reg_r2_test_score', 'reg_mae', 'reg_mse'   \n",
        "                ,'reg_rmse', 'reg_mape', 'alpha', 'regcv_score', 'data_dict', 'mode']\n",
        "                \n",
        "  scaler = StandardScaler()\n",
        "  X_std = scaler.fit_transform(X_test)\n",
        "  # Regularization Modes: (1) Ridge, (2) Lasso, (3) ElasticNet\n",
        "  if (mode == 1):\n",
        "    clf = RidgeCV(cv = 5).fit(X_test, y_test)\n",
        "    cv_results = cross_validate(clf, X_test, y_test, cv = 5)  \n",
        "\n",
        "    reg_alpha = RidgeCV(alphas=[1e-15, 1e-10, 1e-8, 1e-4, 1e-3,1e-2, 1, 5, 10, 20]).fit(X_std, y_test) # alpha=10**37\n",
        "    ridgeregr = Ridge(alpha = reg_alpha.alpha_) \n",
        "    ridgeregr.fit(X_train, y_train)\n",
        "\n",
        "    ridgeregr_y_preds_train = ridgeregr.predict(X_train)\n",
        "    ridgeregr_y_preds_test = ridgeregr.predict(X_test)\n",
        "\n",
        "    ridgeregr_r_squared_train_score = ridgeregr.score(X_train, y_train)\n",
        "    ridgeregr_r_squared_test_score = ridgeregr.score(X_test, y_test)\n",
        "\n",
        "    ridgeregr_mae = mean_absolute_error(y_test, ridgeregr_y_preds_test)\n",
        "    ridgeregr_mse = mse(y_test, ridgeregr_y_preds_test)\n",
        "    ridgeregr_rmse = rmse(y_test, ridgeregr_y_preds_test)\n",
        "    ridgeregr_mape = np.mean(np.abs((y_test - ridgeregr_y_preds_test) / y_test)) * 100\n",
        "\n",
        "    pred_data = [scikit_y_preds_train, scikit_y_preds_test, sklearn_r_squared_train_score, scikit_r_squared_adj_score\n",
        "                 ,scikit_mae, scikit_mse, scikit_rmse, scikit_mape, sklearn_y_preds_train, sklearn_y_preds_test\n",
        "                 ,sklearn_r_squared_train_score, sklearn_r_squared_test_score, sklearn_k_fold_train_score, sklearn_k_fold_test_score\n",
        "                 ,sklearn_mae, sklearn_mse, sklearn_rmse, sklearn_mape, ridgeregr_y_preds_train, ridgeregr_y_preds_test\n",
        "                 ,ridgeregr_r_squared_train_score,ridgeregr_r_squared_test_score, ridgeregr_mae, ridgeregr_mse, ridgeregr_rmse\n",
        "                 ,ridgeregr_mape, reg_alpha, cv_results, data_dict, \"Ridge\"]\n",
        "                 \n",
        "  elif (mode == 2): \n",
        "    clf = LassoCV(cv = 5, random_state = 0).fit(X_test, y_test)\n",
        "    cv_results = cross_validate(clf, X_test, y_test, cv = 5)  \n",
        "    \n",
        "    reg_alpha = LassoCV(alphas=[1e-15, 1e-10, 1e-8, 1e-4, 1e-3,1e-2, 1, 5, 10, 20]).fit(X_std, y_test) # alpha=10**20.5\n",
        "    lassoregr = Lasso(alpha = reg_alpha.alpha_) \n",
        "    lassoregr.fit(X_train, y_train)\n",
        "\n",
        "    lassoregr_y_preds_train = lassoregr.predict(X_train)\n",
        "    lassoregr_y_preds_test = lassoregr.predict(X_test)\n",
        "\n",
        "    lassoregr_r_squared_train_score = lassoregr.score(X_train, y_train)\n",
        "    lassoregr_r_squared_test_score = lassoregr.score(X_test, y_test)\n",
        "\n",
        "    lassoregr_mae = mean_absolute_error(y_test, lassoregr_y_preds_test)\n",
        "    lassoregr_mse = mse(y_test, lassoregr_y_preds_test)\n",
        "    lassoregr_rmse = rmse(y_test, lassoregr_y_preds_test)\n",
        "    lassoregr_mape = np.mean(np.abs((y_test - lassoregr_y_preds_test) / y_test)) * 100\n",
        "\n",
        "    pred_data = [scikit_y_preds_train, scikit_y_preds_test, sklearn_r_squared_train_score, scikit_r_squared_adj_score\n",
        "                 ,scikit_mae, scikit_mse, scikit_rmse, scikit_mape, sklearn_y_preds_train, sklearn_y_preds_test\n",
        "                 ,sklearn_r_squared_train_score, sklearn_r_squared_test_score, sklearn_k_fold_train_score, sklearn_k_fold_test_score\n",
        "                 ,sklearn_mae, sklearn_mse, sklearn_rmse, sklearn_mape, lassoregr_y_preds_train, lassoregr_y_preds_test\n",
        "                 ,lassoregr_r_squared_train_score, lassoregr_r_squared_test_score, lassoregr_mae, lassoregr_mse, lassoregr_rmse\n",
        "                 ,lassoregr_mape, reg_alpha, cv_results, data_dict, \"Lasso\"]\n",
        "\n",
        "  else: \n",
        "    elasticregr = ElasticNetCV(cv = 5, random_state = 0).fit(X_train, y_train)\n",
        "    cv_results = cross_validate(elasticregr, X_test, y_test, cv = 5)\n",
        "    reg_alpha = elasticregr.alpha_\n",
        "\n",
        "    elasticregr_y_preds_train = elasticregr.predict(X_train)\n",
        "    elasticregr_y_preds_test = elasticregr.predict(X_test)\n",
        "\n",
        "    elasticregr_r_squared_train_score = elasticregr.score(X_train, y_train)\n",
        "    elasticregr_r_squared_test_score = elasticregr.score(X_test, y_test)\n",
        "\n",
        "    elasticregr_mae = mean_absolute_error(y_test,elasticregr_y_preds_test)\n",
        "    elasticregr_mse = mse(y_test, elasticregr_y_preds_test)\n",
        "    elasticregr_rmse = rmse(y_test, elasticregr_y_preds_test)\n",
        "    elasticregr_mape = np.mean(np.abs((y_test - elasticregr_y_preds_test) / y_test)) * 100\n",
        "\n",
        "    pred_data = [scikit_y_preds_train, scikit_y_preds_test, sklearn_r_squared_train_score, scikit_r_squared_adj_score\n",
        "                 ,scikit_mae, scikit_mse, scikit_rmse, scikit_mape, sklearn_y_preds_train, sklearn_y_preds_test\n",
        "                 ,sklearn_r_squared_train_score, sklearn_r_squared_test_score, sklearn_k_fold_train_score, sklearn_k_fold_test_score\n",
        "                 ,sklearn_mae, sklearn_mse, sklearn_rmse, sklearn_mape, elasticregr_y_preds_train, elasticregr_y_preds_test\n",
        "                 ,elasticregr_r_squared_train_score, elasticregr_r_squared_test_score, elasticregr_mae, elasticregr_mse, elasticregr_rmse\n",
        "                 ,elasticregr_mape, reg_alpha, cv_results, data_dict, \"ElasticNet\"]\n",
        "\n",
        "  # create the result dictionary\n",
        "  for name, info in zip(pred_names, pred_data):\n",
        "    pred_result.update({name : info})   \n",
        "\n",
        "  return pred_result"
      ],
      "execution_count": null,
      "outputs": []
    },
    {
      "cell_type": "markdown",
      "metadata": {
        "id": "hGyGbLtfO-_8"
      },
      "source": [
        "# OLS Regression Recursion Function"
      ]
    },
    {
      "cell_type": "markdown",
      "metadata": {
        "id": "ahAc5BWrRbkW"
      },
      "source": [
        "**run_ols:** - body of the main OLS recursive algorithm."
      ]
    },
    {
      "cell_type": "code",
      "metadata": {
        "id": "vNk64u6-YVk1"
      },
      "source": [
        "#assumes that the first column is the target variable\n",
        "def run_ols(encoded_info, pre_con_df, pre_cat_df, mod_degree = 1, max_iterations = 10, prediction_mode = 1, test_size = .35, rand = 465):\n",
        "\n",
        "  col_list = encoded_info.columns.values.tolist()\n",
        "  t_var = col_list[0]\n",
        "\n",
        "  # split up the data set between target and features for OLS\n",
        "  X = encoded_info.drop([t_var], axis=1)\n",
        "  y = encoded_info[t_var]\n",
        "\n",
        "  # split up the data into a test and training set\n",
        "  X_train, X_test, y_train, y_test = train_test_split(X, y, test_size = test_size, random_state = rand)\n",
        "\n",
        "  if (mod_degree == 1): \n",
        "    # run the OLS test - linear regression\n",
        "    X_train = sm.add_constant(X_train)\n",
        "    results = sm.OLS(y_train, X_train).fit()\n",
        "  else:\n",
        "    # run the OLS test - polynomial regression\n",
        "    polynomial_features = PolynomialFeatures(degree = mod_degree)\n",
        "    X_train = sm.add_constant(X_train)\n",
        "    resultsX = polynomial_features.fit(X_train)\n",
        "    feature_interactions = polynomial_features.fit(X_train).get_feature_names(X_train.columns)\n",
        "    feature_interactions = [[val] for val in feature_interactions] \n",
        "    feat_int = clean_coefficients(feature_interactions, '_') \n",
        "    xp_train = polynomial_features.fit_transform(X_train)\n",
        "    xpt_train = ndarray_to_dataframe(xp_train, feat_int)\n",
        "    y_train = list(y_train)\n",
        "    #pdb.set_trace()\n",
        "    results = sm.OLS(y_train, xpt_train).fit()  # possible remove this fit function call \n",
        "\n",
        "  # create the first ordred feature dictionary\n",
        "  pre_con = pre_con_df.copy()\n",
        "  con = pre_con.drop(t_var, axis = 1)   \n",
        "  pre_cat = pre_cat_df.copy()\n",
        "  cat = pre_cat.drop(t_var, axis = 1)  \n",
        "  pre_filtered_df = pd.merge(con, cat, right_index = True, left_index = True)\n",
        "  if (mod_degree == 1):\n",
        "    ordered_feature_dict = create_ordered_dict(tar_var, True, pre_filtered_df)\n",
        "  else:\n",
        "    ordered_feature_dict = create_poly_order_dict(tar_var, pre_filtered_df, mod_degree)\n",
        "\n",
        "  # create the first results dictionary\n",
        "  if (mod_degree == 1):\n",
        "    features_cat = pre_cat_df.columns.values.tolist()\n",
        "    features_cat.remove(t_var)\n",
        "    results_dict = create_result_dictionary(features_cat, pre_cat_df, results)\n",
        "  else:\n",
        "    coefficients, feature_dict, res_updates = generate_polynomial_coefficients(ordered_feature_dict, mod_degree)\n",
        "    results_dict, res_updates = create_polynomial_result_dict(feature_dict, res_updates, results)\n",
        "\n",
        "  feature_dicts = []\n",
        "  # archive the categorical feature dictionary\n",
        "  feature_dicts.append(results_dict)\n",
        "  \n",
        "  if (mod_degree == 1):\n",
        "    model_df = encoded_info\n",
        "  else:\n",
        "    model_df = xpt_train    \n",
        "  encoded_dataframes = []\n",
        "  # archive the encoded data frame\n",
        "  encoded_dataframes.append(model_df)\n",
        "\n",
        "  result_objects = []\n",
        "  # archive the result object\n",
        "  result_objects.append(results)\n",
        "\n",
        "  resolved = False\n",
        "  # checks the results dictionary to see if there are any insignificant values left\n",
        "  if (mod_degree == 1):\n",
        "    resolved = algorithm_resolved(ordered_feature_dict, results, results_dict)\n",
        "  else:\n",
        "    resolved = poly_algorithm_resolved(results)\n",
        "\n",
        "  if (mod_degree > 1):\n",
        "    results_dict, res_updates = update_poly_results_dict(results, results_dict, res_updates)\n",
        "   \n",
        "  num_iters = 1\n",
        "  if (max_iterations < 1):\n",
        "    return None\n",
        "  # OLS algorithm training loop\n",
        "  for i in range(max_iterations):\n",
        "    if (resolved == True):\n",
        "      break\n",
        "    elif (i > 0):\n",
        "      if (mod_degree == 1):\n",
        "        results_dict = update_results_dict(results, results_dict, ordered_feature_dict)\n",
        "      else:\n",
        "        results_dict, res_updates = update_poly_results_dict(results, results_dict, res_updates)\n",
        "      feature_dicts.append(results_dict)\n",
        "      # check to see if the algorithm has resolved\n",
        "      if (mod_degree == 1):\n",
        "        resolved = algorithm_resolved(ordered_feature_dict, results, results_dict)\n",
        "      else:\n",
        "        resolved = poly_algorithm_resolved(results)\n",
        "      # keep track of the iteration number\n",
        "      num_iters += 1\n",
        "    # refine the model based on the current OLS results (create a new model)\n",
        "    if (mod_degree == 1):\n",
        "      model_df, results_dict, ordered_feature_dict = refine_model(results, model_df, results_dict, ordered_feature_dict)\n",
        "    else:\n",
        "      model_df = refine_poly_model(results, model_df, results_dict, res_updates, ordered_feature_dict)\n",
        "    # archive the refinements\n",
        "    encoded_dataframes.append(model_df)\n",
        "    if (mod_degree == 1): # run the OLS linear regression test again\n",
        "      X_train = model_df.drop([tar_var], axis=1)\n",
        "      y_train = model_df[tar_var]\n",
        "      X_train = sm.add_constant(X_train)\n",
        "      results = sm.OLS(y_train, X_train).fit()\n",
        "    else:\n",
        "      xpt_train = model_df.copy()\n",
        "      results = sm.OLS(y_train, xpt_train).fit()\n",
        "    result_objects.append(results)\n",
        "\n",
        "  if (num_iters > 1):\n",
        "    if (mod_degree == 1):\n",
        "      X_test = reshape_data(X_test, X_train)\n",
        "    else:\n",
        "      X_test = sm.add_constant(X_test)\n",
        "      feat_interactions = polynomial_features.fit(X_test).get_feature_names(X_test.columns)\n",
        "      feat_interactions = [[val] for val in feat_interactions] \n",
        "      feature_int = clean_coefficients(feat_interactions, '_') \n",
        "      xp_test = polynomial_features.fit_transform(X_test)\n",
        "      xpt_test = ndarray_to_dataframe(xp_test, feature_int)  \n",
        "      y_test = list(y_test)   \n",
        "      xpt_test = reshape_poly_data(xpt_test, xpt_train)   \n",
        "\n",
        "  # perform predictions\n",
        "  if (mod_degree == 1):\n",
        "    data_dict = create_data_dictionary(X_train, X_test, y_train, y_test)\n",
        "  else:\n",
        "     data_dict = create_data_dictionary(xpt_train, xpt_test, y_train, y_test)   \n",
        "  predictions_dict = create_prediction_dictionary(X, y, data_dict, results, prediction_mode)\n",
        "\n",
        "  # create a return OLS dictionary that wraps up all of the return data\n",
        "  return_object = create_return_dict(num_iters, encoded_dataframes, feature_dicts, ordered_feature_dict, result_objects, predictions_dict)\n",
        "                                                                                                                                                                                                                \n",
        "  return return_object"
      ],
      "execution_count": null,
      "outputs": []
    },
    {
      "cell_type": "markdown",
      "metadata": {
        "id": "Qy3urHXmZrO5"
      },
      "source": [
        "# >>> Set OLS Regression Recursion Conditions"
      ]
    },
    {
      "cell_type": "markdown",
      "metadata": {
        "id": "WO8Bq-r6Aw8e"
      },
      "source": [
        "**Dashboard:**"
      ]
    },
    {
      "cell_type": "code",
      "metadata": {
        "id": "ffIwUfiZO_au",
        "outputId": "5070967f-dbf3-4547-f7c4-58246f15ee26",
        "colab": {
          "base_uri": "https://localhost:8080/",
          "height": 158
        }
      },
      "source": [
        "''' ols_info return dictionary: 'iterations', 'encoded_data', 'feature_dicts', 'ordering_archive', 'result_archive', 'predictions_dictionary' '''\n",
        "\n",
        "tic = time.perf_counter()\n",
        "# run the recursive OLS algorithm with the encoded data, max iterations, and the prediction mode, test split and rand number\n",
        "''' Default values: max_iterations = 5, prediction_mode = 1 # Ridge(1), Lasso(2), ElasticNet(3), test_size = .2, rand = 465 '''\n",
        "ols_info = run_ols(filtered_model_df, con_pre_filtered_df, cat_pre_filtered_df, max_iterations = 10, prediction_mode = 3, mod_degree = 2)  \n",
        "toc = time.perf_counter()\n",
        "seconds = toc - tic\n",
        "mins = int(seconds / 60)\n",
        "secs = int(seconds % 60)\n",
        "\n",
        "print('\\n')\n",
        "print(\"The total number of iterations to resolve the OLS algorithm: {}\".format(ols_info['iterations']))  \n",
        "print(\"The Recursive OLS Regression Algorithm completed in {} minutes and {} seconds\".format(mins, secs))  "
      ],
      "execution_count": null,
      "outputs": [
        {
          "output_type": "stream",
          "text": [
            "/usr/local/lib/python3.6/dist-packages/statsmodels/base/model.py:1294: RuntimeWarning: invalid value encountered in true_divide\n",
            "  return self.params / self.bse\n",
            "/usr/local/lib/python3.6/dist-packages/scipy/stats/_distn_infrastructure.py:1932: RuntimeWarning: invalid value encountered in less_equal\n",
            "  cond2 = cond0 & (x <= _a)\n"
          ],
          "name": "stderr"
        },
        {
          "output_type": "stream",
          "text": [
            "\n",
            "\n",
            "The total number of iterations to resolve the OLS algorithm: 4\n",
            "The Recursive OLS Regression Algorithm completed in 0 minutes and 37 seconds\n"
          ],
          "name": "stdout"
        }
      ]
    },
    {
      "cell_type": "markdown",
      "metadata": {
        "id": "ufMY1FfDPPvX"
      },
      "source": [
        "# OLS 2nd Degree Polynomial Regression Results"
      ]
    },
    {
      "cell_type": "code",
      "metadata": {
        "id": "IeXwJox_PQPg",
        "outputId": "0f9ea491-4440-4a16-d62b-f0723cc0a235",
        "colab": {
          "base_uri": "https://localhost:8080/",
          "height": 1000
        }
      },
      "source": [
        "# print out the slelected features\n",
        "ols_info['ordering_archive']"
      ],
      "execution_count": null,
      "outputs": [
        {
          "output_type": "execute_result",
          "data": {
            "text/plain": [
              "{'categorical': ['Engine Index',\n",
              "  'Tailpipe CO2 (FT1)',\n",
              "  'Tailpipe CO2 (FT2)',\n",
              "  '4D Passenger Volume',\n",
              "  'Save or Spend (5 Year)',\n",
              "  'Annual Fuel Cost (FT1)',\n",
              "  '4D Luggage Volume',\n",
              "  'City MPG (FT1)',\n",
              "  'Highway MPG (FT1)',\n",
              "  'Combined MPG (FT2)',\n",
              "  'Combined MPG (FT1)',\n",
              "  'Highway MPG (FT2)',\n",
              "  'Hatchback Luggage Volume',\n",
              "  'Combined Utility Factor',\n",
              "  'Highway Utility Factor',\n",
              "  'Year',\n",
              "  'Composite Highway MPG',\n",
              "  'Annual Fuel Cost (FT2)',\n",
              "  'GHG Score',\n",
              "  'Fuel Economy Score',\n",
              "  'GHG Score (Alt Fuel)',\n",
              "  'Drive',\n",
              "  'Turbocharger',\n",
              "  'Supercharger',\n",
              "  'My MPG Data',\n",
              "  'Start Stop Technology',\n",
              "  'Gasoline/Electricity Blended (CD)'],\n",
              " 'continuous': ['const', 'Engine Displacement'],\n",
              " 'hidden': ['Engine Index^2',\n",
              "  'Engine Index',\n",
              "  'Tailpipe CO2 (FT1)^2',\n",
              "  'Tailpipe CO2 (FT1)',\n",
              "  'Tailpipe CO2 (FT2)^2',\n",
              "  'Tailpipe CO2 (FT2)',\n",
              "  '4D Passenger Volume^2',\n",
              "  '4D Passenger Volume',\n",
              "  'Save or Spend (5 Year)^2',\n",
              "  'Save or Spend (5 Year)',\n",
              "  'Annual Fuel Cost (FT1)^2',\n",
              "  'Annual Fuel Cost (FT1)',\n",
              "  '4D Luggage Volume^2',\n",
              "  '4D Luggage Volume',\n",
              "  'City MPG (FT1)^2',\n",
              "  'City MPG (FT1)',\n",
              "  'Highway MPG (FT1)^2',\n",
              "  'Highway MPG (FT1)',\n",
              "  'Combined MPG (FT2)^2',\n",
              "  'Combined MPG (FT2)',\n",
              "  'Combined MPG (FT1)^2',\n",
              "  'Combined MPG (FT1)',\n",
              "  'Highway MPG (FT2)^2',\n",
              "  'Highway MPG (FT2)',\n",
              "  'Hatchback Luggage Volume^2',\n",
              "  'Hatchback Luggage Volume',\n",
              "  'Combined Utility Factor^2',\n",
              "  'Combined Utility Factor',\n",
              "  'Highway Utility Factor^2',\n",
              "  'Highway Utility Factor',\n",
              "  'Year^2',\n",
              "  'Year',\n",
              "  'Composite Highway MPG^2',\n",
              "  'Composite Highway MPG',\n",
              "  'Annual Fuel Cost (FT2)^2',\n",
              "  'Annual Fuel Cost (FT2)',\n",
              "  'GHG Score^2',\n",
              "  'GHG Score',\n",
              "  'Fuel Economy Score^2',\n",
              "  'Fuel Economy Score',\n",
              "  'GHG Score (Alt Fuel)^2',\n",
              "  'GHG Score (Alt Fuel)',\n",
              "  'Drive^2',\n",
              "  'Drive',\n",
              "  'Turbocharger^2',\n",
              "  'Turbocharger',\n",
              "  'Supercharger^2',\n",
              "  'Supercharger',\n",
              "  'My MPG Data^2',\n",
              "  'My MPG Data',\n",
              "  'Start Stop Technology^2',\n",
              "  'Start Stop Technology',\n",
              "  'Gasoline/Electricity Blended (CD)^2',\n",
              "  'Gasoline/Electricity Blended (CD)'],\n",
              " 'sub_cats': {'4D Luggage Volume': ['Low-4D Luggage Volume',\n",
              "   'Med-4D Luggage Volume',\n",
              "   'High-4D Luggage Volume'],\n",
              "  '4D Passenger Volume': ['Low-4D Passenger Volume',\n",
              "   'Med-4D Passenger Volume',\n",
              "   'High-4D Passenger Volume'],\n",
              "  'Annual Fuel Cost (FT1)': ['Low-Annual Fuel Cost (FT1)',\n",
              "   'Med-Annual Fuel Cost (FT1)',\n",
              "   'High-Annual Fuel Cost (FT1)'],\n",
              "  'Annual Fuel Cost (FT2)': ['Low-Annual Fuel Cost (FT2)',\n",
              "   'Med-Annual Fuel Cost (FT2)',\n",
              "   'High-Annual Fuel Cost (FT2)'],\n",
              "  'City MPG (FT1)': ['Low-City MPG (FT1)',\n",
              "   'Med-City MPG (FT1)',\n",
              "   'High-City MPG (FT1)'],\n",
              "  'Combined MPG (FT1)': ['Low-Combined MPG (FT1)',\n",
              "   'Med-Combined MPG (FT1)',\n",
              "   'High-Combined MPG (FT1)'],\n",
              "  'Combined MPG (FT2)': ['Low-Combined MPG (FT2)',\n",
              "   'Med-Combined MPG (FT2)',\n",
              "   'High-Combined MPG (FT2)'],\n",
              "  'Combined Utility Factor': ['Low-Combined Utility Factor',\n",
              "   'Med-Combined Utility Factor',\n",
              "   'High-Combined Utility Factor'],\n",
              "  'Composite Highway MPG': ['Low-Composite Highway MPG',\n",
              "   'Med-Composite Highway MPG',\n",
              "   'High-Composite Highway MPG'],\n",
              "  'Drive': ['2-Wheel Drive',\n",
              "   '4-Wheel Drive',\n",
              "   '4-Wheel or All-Wheel Drive',\n",
              "   'All-Wheel Drive',\n",
              "   'Front-Wheel Drive',\n",
              "   'NA-Drive',\n",
              "   'Part-time 4-Wheel Drive-Drive',\n",
              "   'Rear-Wheel Drive'],\n",
              "  'Engine Index': ['Low-Engine Index',\n",
              "   'Med-Engine Index',\n",
              "   'High-Engine Index'],\n",
              "  'Fuel Economy Score': ['Low-Fuel Economy Score',\n",
              "   'Med-Fuel Economy Score',\n",
              "   'High-Fuel Economy Score'],\n",
              "  'GHG Score': ['Low-GHG Score', 'Med-GHG Score', 'High-GHG Score'],\n",
              "  'GHG Score (Alt Fuel)': ['Low-GHG Score (Alt Fuel)',\n",
              "   'High-GHG Score (Alt Fuel)'],\n",
              "  'Gasoline/Electricity Blended (CD)': ['False', 'True'],\n",
              "  'Hatchback Luggage Volume': ['Low-Hatchback Luggage Volume',\n",
              "   'Med-Hatchback Luggage Volume',\n",
              "   'High-Hatchback Luggage Volume'],\n",
              "  'Highway MPG (FT1)': ['Low-Highway MPG (FT1)',\n",
              "   'Med-Highway MPG (FT1)',\n",
              "   'High-Highway MPG (FT1)'],\n",
              "  'Highway MPG (FT2)': ['Low-Highway MPG (FT2)',\n",
              "   'Med-Highway MPG (FT2)',\n",
              "   'High-Highway MPG (FT2)'],\n",
              "  'Highway Utility Factor': ['Low-Highway Utility Factor',\n",
              "   'Med-Highway Utility Factor',\n",
              "   'High-Highway Utility Factor'],\n",
              "  'My MPG Data': ['N-My MPG Data', 'Y-My MPG Data'],\n",
              "  'Save or Spend (5 Year)': ['Low-Save or Spend (5 Year)',\n",
              "   'Med-Save or Spend (5 Year)',\n",
              "   'High-Save or Spend (5 Year)'],\n",
              "  'Start Stop Technology': ['N-Start Stop Technology',\n",
              "   'NA-Start Stop Technology',\n",
              "   'Y-Start Stop Technology'],\n",
              "  'Supercharger': ['NA-Supercharger', 'S-Supercharger'],\n",
              "  'Tailpipe CO2 (FT1)': ['Low-Tailpipe CO2 (FT1)',\n",
              "   'Med-Tailpipe CO2 (FT1)',\n",
              "   'High-Tailpipe CO2 (FT1)'],\n",
              "  'Tailpipe CO2 (FT2)': ['Low-Tailpipe CO2 (FT2)',\n",
              "   'Med-Tailpipe CO2 (FT2)',\n",
              "   'High-Tailpipe CO2 (FT2)'],\n",
              "  'Turbocharger': ['NA-Turbocharger', 'T-Turbocharger'],\n",
              "  'Year': ['Low-Year', 'Med-Year', 'High-Year']},\n",
              " 'target': 'Annual Consumption in Barrels (FT1)'}"
            ]
          },
          "metadata": {
            "tags": []
          },
          "execution_count": 58
        }
      ]
    },
    {
      "cell_type": "code",
      "metadata": {
        "id": "C2Xi_R-EPaVY",
        "outputId": "7e935c46-fa0f-4ed2-e462-e6e84c9fe576",
        "colab": {
          "base_uri": "https://localhost:8080/",
          "height": 816
        }
      },
      "source": [
        "# print out the final feature dictionary\n",
        "iter_num = len(ols_info['feature_dicts'])\n",
        "ols_info['feature_dicts'][ols_info['iterations']-1]"
      ],
      "execution_count": null,
      "outputs": [
        {
          "output_type": "execute_result",
          "data": {
            "text/plain": [
              "{'4D Luggage Volume': {'High-4D Luggage Volume': [-0.4433611110173221,\n",
              "   1.588709447162483e-11],\n",
              "  'Low-4D Luggage Volume': 'NONE',\n",
              "  'Med-4D Luggage Volume': [-0.4833765549067166, 6.561660946306334e-09]},\n",
              " 'Annual Fuel Cost (FT1)': {'High-Annual Fuel Cost (FT1)': [2.5989723589953853,\n",
              "   1.861979710332874e-39],\n",
              "  'Low-Annual Fuel Cost (FT1)': 'NONE',\n",
              "  'Med-Annual Fuel Cost (FT1)': [2.886666830552796, 0.0]},\n",
              " 'Annual Fuel Cost (FT2)': {'High-Annual Fuel Cost (FT2)': [-0.6737802020163778,\n",
              "   2.517592947973338e-16],\n",
              "  'Low-Annual Fuel Cost (FT2)': 'NONE'},\n",
              " 'Combined MPG (FT1)': {'Low-Combined MPG (FT1)': 'NONE',\n",
              "  'Med-Combined MPG (FT1)': [-0.25901067055129384, 9.776543630676336e-13]},\n",
              " 'Composite Highway MPG': {'Low-Composite Highway MPG': 'NONE',\n",
              "  'Med-Composite Highway MPG': [2.9102609052168185, 0.03005338317567997]},\n",
              " 'Drive': {'2-Wheel Drive': 'NONE',\n",
              "  '4-Wheel Drive': [-0.7674857821338065, 1.0118909861234013e-14],\n",
              "  '4-Wheel or All-Wheel Drive': [-0.19914598260194846, 0.016850000578884947],\n",
              "  'All-Wheel Drive': [-0.6527750316502685, 1.9756489525320138e-12],\n",
              "  'Front-Wheel Drive': [-0.4738048723466777, 1.2166334232793741e-08],\n",
              "  'NA-Drive': [-0.9471867054565805, 4.888936458026236e-23],\n",
              "  'Part-time 4-Wheel Drive-Drive': [-0.8812664243224835,\n",
              "   5.0371775588179844e-08],\n",
              "  'Rear-Wheel Drive': [-0.38289217181824964, 2.922869646375782e-06]},\n",
              " 'Engine Index': {'High-Engine Index': [0.7038078033997058,\n",
              "   8.340580530525638e-94],\n",
              "  'Low-Engine Index': 'NONE',\n",
              "  'Med-Engine Index': [0.7029514745194297, 1.2613912262762019e-59]},\n",
              " 'Highway MPG (FT1)': {'High-Highway MPG (FT1)': [-0.8286949754270275,\n",
              "   7.313693893995194e-10],\n",
              "  'Low-Highway MPG (FT1)': 'NONE',\n",
              "  'Med-Highway MPG (FT1)': [-0.20982799485068993, 6.894756734159137e-10]},\n",
              " 'Save or Spend (5 Year)': {'High-Save or Spend (5 Year)': 'NONE',\n",
              "  'Low-Save or Spend (5 Year)': [2.583419013440844, 3.835646734798181e-106]},\n",
              " 'Supercharger': {'NA-Supercharger': 'NONE',\n",
              "  'S-Supercharger': [-0.25753246212408887, 0.00019879519208937773]},\n",
              " 'Tailpipe CO2 (FT1)': {'High-Tailpipe CO2 (FT1)': [-1.0483418362479675,\n",
              "   4.682495882903427e-33],\n",
              "  'Low-Tailpipe CO2 (FT1)': 'NONE',\n",
              "  'Med-Tailpipe CO2 (FT1)': [-0.6528285352354318, 1.5224120325657718e-78]},\n",
              " 'Turbocharger': {'NA-Turbocharger': 'NONE',\n",
              "  'T-Turbocharger': [0.23054569199133484, 2.1220575733583045e-16]},\n",
              " 'Year': {'High-Year': [-1.1730264259093885, 0.0],\n",
              "  'Low-Year': 'NONE',\n",
              "  'Med-Year': [-0.1745371426561417, 9.148573957996594e-13]}}"
            ]
          },
          "metadata": {
            "tags": []
          },
          "execution_count": 71
        }
      ]
    },
    {
      "cell_type": "code",
      "metadata": {
        "id": "lPSVLpD_PdzJ",
        "outputId": "2678b1a1-ed93-4247-a32a-13cfa0c10ff1",
        "colab": {
          "base_uri": "https://localhost:8080/",
          "height": 865
        }
      },
      "source": [
        "# print out the result summary\n",
        "inum = len(ols_info['result_archive'])\n",
        "ols_info['result_archive'][ols_info['iterations']-1].summary()"
      ],
      "execution_count": null,
      "outputs": [
        {
          "output_type": "execute_result",
          "data": {
            "text/html": [
              "<table class=\"simpletable\">\n",
              "<caption>OLS Regression Results</caption>\n",
              "<tr>\n",
              "  <th>Dep. Variable:</th>    <td>Annual Consumption in Barrels (FT1)</td> <th>  R-squared:         </th> <td>   0.747</td> \n",
              "</tr>\n",
              "<tr>\n",
              "  <th>Model:</th>                            <td>OLS</td>                 <th>  Adj. R-squared:    </th> <td>   0.747</td> \n",
              "</tr>\n",
              "<tr>\n",
              "  <th>Method:</th>                      <td>Least Squares</td>            <th>  F-statistic:       </th> <td>   4469.</td> \n",
              "</tr>\n",
              "<tr>\n",
              "  <th>Date:</th>                      <td>Wed, 14 Oct 2020</td>           <th>  Prob (F-statistic):</th>  <td>  0.00</td>  \n",
              "</tr>\n",
              "<tr>\n",
              "  <th>Time:</th>                          <td>03:14:05</td>               <th>  Log-Likelihood:    </th> <td> -75104.</td> \n",
              "</tr>\n",
              "<tr>\n",
              "  <th>No. Observations:</th>               <td> 37850</td>                <th>  AIC:               </th> <td>1.503e+05</td>\n",
              "</tr>\n",
              "<tr>\n",
              "  <th>Df Residuals:</th>                   <td> 37824</td>                <th>  BIC:               </th> <td>1.505e+05</td>\n",
              "</tr>\n",
              "<tr>\n",
              "  <th>Df Model:</th>                       <td>    25</td>                <th>                     </th>     <td> </td>    \n",
              "</tr>\n",
              "<tr>\n",
              "  <th>Covariance Type:</th>               <td>nonrobust</td>              <th>                     </th>     <td> </td>    \n",
              "</tr>\n",
              "</table>\n",
              "<table class=\"simpletable\">\n",
              "<tr>\n",
              "                <td></td>                   <th>coef</th>     <th>std err</th>      <th>t</th>      <th>P>|t|</th>  <th>[0.025</th>    <th>0.975]</th>  \n",
              "</tr>\n",
              "<tr>\n",
              "  <th>const</th>                         <td>    8.0445</td> <td>    0.093</td> <td>   86.903</td> <td> 0.000</td> <td>    7.863</td> <td>    8.226</td>\n",
              "</tr>\n",
              "<tr>\n",
              "  <th>Engine Displacement</th>           <td>    2.3673</td> <td>    0.008</td> <td>  293.645</td> <td> 0.000</td> <td>    2.352</td> <td>    2.383</td>\n",
              "</tr>\n",
              "<tr>\n",
              "  <th>Med-Engine Index</th>              <td>    0.8234</td> <td>    0.043</td> <td>   19.347</td> <td> 0.000</td> <td>    0.740</td> <td>    0.907</td>\n",
              "</tr>\n",
              "<tr>\n",
              "  <th>High-Engine Index</th>             <td>    0.7038</td> <td>    0.034</td> <td>   20.604</td> <td> 0.000</td> <td>    0.637</td> <td>    0.771</td>\n",
              "</tr>\n",
              "<tr>\n",
              "  <th>Med-Tailpipe CO2 (FT1)</th>        <td>   -0.6528</td> <td>    0.035</td> <td>  -18.807</td> <td> 0.000</td> <td>   -0.721</td> <td>   -0.585</td>\n",
              "</tr>\n",
              "<tr>\n",
              "  <th>High-Tailpipe CO2 (FT1)</th>       <td>   -1.0483</td> <td>    0.087</td> <td>  -11.989</td> <td> 0.000</td> <td>   -1.220</td> <td>   -0.877</td>\n",
              "</tr>\n",
              "<tr>\n",
              "  <th>High-Save or Spend (5 Year)</th>   <td>    2.5589</td> <td>    0.069</td> <td>   37.012</td> <td> 0.000</td> <td>    2.423</td> <td>    2.694</td>\n",
              "</tr>\n",
              "<tr>\n",
              "  <th>Med-Annual Fuel Cost (FT1)</th>    <td>    2.8867</td> <td>    0.070</td> <td>   40.963</td> <td> 0.000</td> <td>    2.749</td> <td>    3.025</td>\n",
              "</tr>\n",
              "<tr>\n",
              "  <th>High-Annual Fuel Cost (FT1)</th>   <td>    2.5990</td> <td>    0.198</td> <td>   13.158</td> <td> 0.000</td> <td>    2.212</td> <td>    2.986</td>\n",
              "</tr>\n",
              "<tr>\n",
              "  <th>Med-4D Luggage Volume</th>         <td>   -0.1373</td> <td>    0.040</td> <td>   -3.456</td> <td> 0.001</td> <td>   -0.215</td> <td>   -0.059</td>\n",
              "</tr>\n",
              "<tr>\n",
              "  <th>High-4D Luggage Volume</th>        <td>   -0.4434</td> <td>    0.066</td> <td>   -6.742</td> <td> 0.000</td> <td>   -0.572</td> <td>   -0.314</td>\n",
              "</tr>\n",
              "<tr>\n",
              "  <th>Med-Highway MPG (FT1)</th>         <td>   -0.2098</td> <td>    0.034</td> <td>   -6.170</td> <td> 0.000</td> <td>   -0.276</td> <td>   -0.143</td>\n",
              "</tr>\n",
              "<tr>\n",
              "  <th>High-Highway MPG (FT1)</th>        <td>   -0.8287</td> <td>    0.135</td> <td>   -6.161</td> <td> 0.000</td> <td>   -1.092</td> <td>   -0.565</td>\n",
              "</tr>\n",
              "<tr>\n",
              "  <th>Med-Combined MPG (FT1)</th>        <td>   -0.2590</td> <td>    0.036</td> <td>   -7.136</td> <td> 0.000</td> <td>   -0.330</td> <td>   -0.188</td>\n",
              "</tr>\n",
              "<tr>\n",
              "  <th>Med-Year</th>                      <td>   -0.1745</td> <td>    0.024</td> <td>   -7.145</td> <td> 0.000</td> <td>   -0.222</td> <td>   -0.127</td>\n",
              "</tr>\n",
              "<tr>\n",
              "  <th>High-Year</th>                     <td>   -1.1730</td> <td>    0.029</td> <td>  -39.856</td> <td> 0.000</td> <td>   -1.231</td> <td>   -1.115</td>\n",
              "</tr>\n",
              "<tr>\n",
              "  <th>High-Composite Highway MPG</th>    <td>   -0.2688</td> <td>    0.386</td> <td>   -0.696</td> <td> 0.486</td> <td>   -1.026</td> <td>    0.488</td>\n",
              "</tr>\n",
              "<tr>\n",
              "  <th>High-Annual Fuel Cost (FT2)</th>   <td>   -0.6738</td> <td>    0.082</td> <td>   -8.198</td> <td> 0.000</td> <td>   -0.835</td> <td>   -0.513</td>\n",
              "</tr>\n",
              "<tr>\n",
              "  <th>4-Wheel Drive</th>                 <td>   -0.7675</td> <td>    0.099</td> <td>   -7.741</td> <td> 0.000</td> <td>   -0.962</td> <td>   -0.573</td>\n",
              "</tr>\n",
              "<tr>\n",
              "  <th>4-Wheel or All-Wheel Drive</th>    <td>   -0.1991</td> <td>    0.083</td> <td>   -2.390</td> <td> 0.017</td> <td>   -0.362</td> <td>   -0.036</td>\n",
              "</tr>\n",
              "<tr>\n",
              "  <th>All-Wheel Drive</th>               <td>   -0.6528</td> <td>    0.093</td> <td>   -7.039</td> <td> 0.000</td> <td>   -0.835</td> <td>   -0.471</td>\n",
              "</tr>\n",
              "<tr>\n",
              "  <th>Front-Wheel Drive</th>             <td>   -0.4738</td> <td>    0.083</td> <td>   -5.699</td> <td> 0.000</td> <td>   -0.637</td> <td>   -0.311</td>\n",
              "</tr>\n",
              "<tr>\n",
              "  <th>NA-Drive</th>                      <td>   -0.9472</td> <td>    0.096</td> <td>   -9.890</td> <td> 0.000</td> <td>   -1.135</td> <td>   -0.759</td>\n",
              "</tr>\n",
              "<tr>\n",
              "  <th>Part-time 4-Wheel Drive-Drive</th> <td>   -0.8813</td> <td>    0.162</td> <td>   -5.451</td> <td> 0.000</td> <td>   -1.198</td> <td>   -0.564</td>\n",
              "</tr>\n",
              "<tr>\n",
              "  <th>Rear-Wheel Drive</th>              <td>   -0.3829</td> <td>    0.082</td> <td>   -4.677</td> <td> 0.000</td> <td>   -0.543</td> <td>   -0.222</td>\n",
              "</tr>\n",
              "<tr>\n",
              "  <th>T-Turbocharger</th>                <td>    0.2305</td> <td>    0.028</td> <td>    8.219</td> <td> 0.000</td> <td>    0.176</td> <td>    0.286</td>\n",
              "</tr>\n",
              "<tr>\n",
              "  <th>S-Supercharger</th>                <td>   -0.2575</td> <td>    0.069</td> <td>   -3.721</td> <td> 0.000</td> <td>   -0.393</td> <td>   -0.122</td>\n",
              "</tr>\n",
              "</table>\n",
              "<table class=\"simpletable\">\n",
              "<tr>\n",
              "  <th>Omnibus:</th>       <td>1243.837</td> <th>  Durbin-Watson:     </th> <td>   1.047</td>\n",
              "</tr>\n",
              "<tr>\n",
              "  <th>Prob(Omnibus):</th>  <td> 0.000</td>  <th>  Jarque-Bera (JB):  </th> <td>3328.984</td>\n",
              "</tr>\n",
              "<tr>\n",
              "  <th>Skew:</th>           <td> 0.095</td>  <th>  Prob(JB):          </th> <td>    0.00</td>\n",
              "</tr>\n",
              "<tr>\n",
              "  <th>Kurtosis:</th>       <td> 4.440</td>  <th>  Cond. No.          </th> <td>2.14e+15</td>\n",
              "</tr>\n",
              "</table><br/><br/>Warnings:<br/>[1] Standard Errors assume that the covariance matrix of the errors is correctly specified.<br/>[2] The smallest eigenvalue is 1.19e-25. This might indicate that there are<br/>strong multicollinearity problems or that the design matrix is singular."
            ],
            "text/plain": [
              "<class 'statsmodels.iolib.summary.Summary'>\n",
              "\"\"\"\n",
              "                                     OLS Regression Results                                    \n",
              "===============================================================================================\n",
              "Dep. Variable:     Annual Consumption in Barrels (FT1)   R-squared:                       0.747\n",
              "Model:                                             OLS   Adj. R-squared:                  0.747\n",
              "Method:                                  Least Squares   F-statistic:                     4469.\n",
              "Date:                                 Wed, 14 Oct 2020   Prob (F-statistic):               0.00\n",
              "Time:                                         03:14:05   Log-Likelihood:                -75104.\n",
              "No. Observations:                                37850   AIC:                         1.503e+05\n",
              "Df Residuals:                                    37824   BIC:                         1.505e+05\n",
              "Df Model:                                           25                                         \n",
              "Covariance Type:                             nonrobust                                         \n",
              "=================================================================================================\n",
              "                                    coef    std err          t      P>|t|      [0.025      0.975]\n",
              "-------------------------------------------------------------------------------------------------\n",
              "const                             8.0445      0.093     86.903      0.000       7.863       8.226\n",
              "Engine Displacement               2.3673      0.008    293.645      0.000       2.352       2.383\n",
              "Med-Engine Index                  0.8234      0.043     19.347      0.000       0.740       0.907\n",
              "High-Engine Index                 0.7038      0.034     20.604      0.000       0.637       0.771\n",
              "Med-Tailpipe CO2 (FT1)           -0.6528      0.035    -18.807      0.000      -0.721      -0.585\n",
              "High-Tailpipe CO2 (FT1)          -1.0483      0.087    -11.989      0.000      -1.220      -0.877\n",
              "High-Save or Spend (5 Year)       2.5589      0.069     37.012      0.000       2.423       2.694\n",
              "Med-Annual Fuel Cost (FT1)        2.8867      0.070     40.963      0.000       2.749       3.025\n",
              "High-Annual Fuel Cost (FT1)       2.5990      0.198     13.158      0.000       2.212       2.986\n",
              "Med-4D Luggage Volume            -0.1373      0.040     -3.456      0.001      -0.215      -0.059\n",
              "High-4D Luggage Volume           -0.4434      0.066     -6.742      0.000      -0.572      -0.314\n",
              "Med-Highway MPG (FT1)            -0.2098      0.034     -6.170      0.000      -0.276      -0.143\n",
              "High-Highway MPG (FT1)           -0.8287      0.135     -6.161      0.000      -1.092      -0.565\n",
              "Med-Combined MPG (FT1)           -0.2590      0.036     -7.136      0.000      -0.330      -0.188\n",
              "Med-Year                         -0.1745      0.024     -7.145      0.000      -0.222      -0.127\n",
              "High-Year                        -1.1730      0.029    -39.856      0.000      -1.231      -1.115\n",
              "High-Composite Highway MPG       -0.2688      0.386     -0.696      0.486      -1.026       0.488\n",
              "High-Annual Fuel Cost (FT2)      -0.6738      0.082     -8.198      0.000      -0.835      -0.513\n",
              "4-Wheel Drive                    -0.7675      0.099     -7.741      0.000      -0.962      -0.573\n",
              "4-Wheel or All-Wheel Drive       -0.1991      0.083     -2.390      0.017      -0.362      -0.036\n",
              "All-Wheel Drive                  -0.6528      0.093     -7.039      0.000      -0.835      -0.471\n",
              "Front-Wheel Drive                -0.4738      0.083     -5.699      0.000      -0.637      -0.311\n",
              "NA-Drive                         -0.9472      0.096     -9.890      0.000      -1.135      -0.759\n",
              "Part-time 4-Wheel Drive-Drive    -0.8813      0.162     -5.451      0.000      -1.198      -0.564\n",
              "Rear-Wheel Drive                 -0.3829      0.082     -4.677      0.000      -0.543      -0.222\n",
              "T-Turbocharger                    0.2305      0.028      8.219      0.000       0.176       0.286\n",
              "S-Supercharger                   -0.2575      0.069     -3.721      0.000      -0.393      -0.122\n",
              "==============================================================================\n",
              "Omnibus:                     1243.837   Durbin-Watson:                   1.047\n",
              "Prob(Omnibus):                  0.000   Jarque-Bera (JB):             3328.984\n",
              "Skew:                           0.095   Prob(JB):                         0.00\n",
              "Kurtosis:                       4.440   Cond. No.                     2.14e+15\n",
              "==============================================================================\n",
              "\n",
              "Warnings:\n",
              "[1] Standard Errors assume that the covariance matrix of the errors is correctly specified.\n",
              "[2] The smallest eigenvalue is 1.19e-25. This might indicate that there are\n",
              "strong multicollinearity problems or that the design matrix is singular.\n",
              "\"\"\""
            ]
          },
          "metadata": {
            "tags": []
          },
          "execution_count": 72
        }
      ]
    },
    {
      "cell_type": "markdown",
      "metadata": {
        "id": "ejbV5q1RPh6a"
      },
      "source": [
        "# OLS 2nd Degree Polynomial Regression Predictions"
      ]
    },
    {
      "cell_type": "code",
      "metadata": {
        "id": "aLxu9rO3Pig9",
        "outputId": "c9afa211-25c1-4e5f-a558-b243f7630f1a",
        "colab": {
          "base_uri": "https://localhost:8080/",
          "height": 810
        }
      },
      "source": [
        "X_test = ols_info['predictions_dictionary']['data_dict']['X_test']\n",
        "y_test = ols_info['predictions_dictionary']['data_dict']['y_test']\n",
        "iteration_num = len(ols_info['result_archive'])\n",
        "y_preds = ols_info['result_archive'][ols_info['iterations']-1].predict(X_test)\n",
        "\n",
        "# graph the results\n",
        "plt.scatter(y_test, y_preds)\n",
        "plt.plot(y_test, y_test, color=\"red\")\n",
        "plt.xlabel(\"true values\")\n",
        "plt.ylabel(\"predicted values\")\n",
        "plt.title(\"Final Fuel Cost: true and predicted values\")\n",
        "plt.show()\n",
        "\n",
        "# print out the result summary\n",
        "print(\"-----Sci-Kit Package Test Set Statistics-----\")\n",
        "print(\"R-squared of the model is: {}\".format(ols_info['predictions_dictionary']['sci_r2_score']))\n",
        "print(\"Adjusted R-squared of the model is: {}\".format(ols_info['predictions_dictionary']['sci_adj_r2_score']))\n",
        "print(\"Mean absolute error of the prediction is: {}\".format(ols_info['predictions_dictionary']['sci_mae']))\n",
        "print(\"Mean squared error of the prediction is: {}\".format(ols_info['predictions_dictionary']['sci_mse']))\n",
        "print(\"Root mean squared error of the prediction is: {}\".format(ols_info['predictions_dictionary']['sci_rmse']))\n",
        "print(\"Mean absolute percentage error of the prediction is: {}\".format(ols_info['predictions_dictionary']['sci_mape']))\n",
        "print(\"\\n\")\n",
        "print(\"-----SKLearn Package Test Set Statistics-----\")\n",
        "print(\"R-squared of the model on the training set is: {}\".format(ols_info['predictions_dictionary']['skl_r2_train_score']))\n",
        "print(\"R-squared of the model on the test set is: {}\".format(ols_info['predictions_dictionary']['skl_r2_test_score']))\n",
        "print(\"K-Fold R-squared of the model on the training set is: {}\".format(ols_info['predictions_dictionary']['skl_kf_r2_train_score']))\n",
        "print(\"K-Fold R-squared of the model on the test set is: {}\".format(ols_info['predictions_dictionary']['skl_kf_r2_test_score']))\n",
        "print(\"Mean absolute error of the prediction is: {}\".format(ols_info['predictions_dictionary']['skl_mae']))\n",
        "print(\"Mean squared error of the prediction is: {}\".format(ols_info['predictions_dictionary']['skl_mse']))\n",
        "print(\"Root mean squared error of the prediction is: {}\".format(ols_info['predictions_dictionary']['skl_rmse']))\n",
        "print(\"Mean absolute percentage error of the prediction is: {}\".format(ols_info['predictions_dictionary']['skl_mape']))\n",
        "print(\"\\n\")\n",
        "print(\"------{} Regularization Test Set Statistics-----\".format(ols_info['predictions_dictionary']['mode']))\n",
        "print(\"Selected alpha value for the model test set is: {} \".format(ols_info['predictions_dictionary']['alpha']))\n",
        "print(\"K-fold cross validation score for the model is: {} \".format(np.mean(ols_info['predictions_dictionary']['regcv_score']['test_score'])))\n",
        "print(\"R-squared of the model on the training set is: {}\".format(ols_info['predictions_dictionary']['reg_r2_train_score']))\n",
        "print(\"R-squared of the model on the test set is: {}\".format(ols_info['predictions_dictionary']['reg_r2_test_score']))\n",
        "print(\"Mean absolute error of the prediction is: {}\".format(ols_info['predictions_dictionary']['reg_mae']))\n",
        "print(\"Mean squared error of the prediction is: {}\".format(ols_info['predictions_dictionary']['reg_mse']))\n",
        "print(\"Root mean squared error of the prediction is: {}\".format(ols_info['predictions_dictionary']['reg_rmse']))\n",
        "print(\"Mean absolute percentage error of the prediction is: {}\".format(ols_info['predictions_dictionary']['reg_mape']))"
      ],
      "execution_count": null,
      "outputs": [
        {
          "output_type": "display_data",
          "data": {
            "image/png": "[encoded data removed]",
            "text/plain": [
              "<Figure size 432x288 with 1 Axes>"
            ]
          },
          "metadata": {
            "tags": [],
            "needs_background": "light"
          }
        },
        {
          "output_type": "stream",
          "text": [
            "-----Sci-Kit Package Test Set Statistics-----\n",
            "R-squared of the model is: 0.7478148187224555\n",
            "Adjusted R-squared of the model is: 0.746924896767625\n",
            "Mean absolute error of the prediction is: 1.347875296741516\n",
            "Mean squared error of the prediction is: 3.0975302594836216\n",
            "Root mean squared error of the prediction is: 1.759980187241783\n",
            "Mean absolute percentage error of the prediction is: 7.82675548755252\n",
            "\n",
            "\n",
            "-----SKLearn Package Test Set Statistics-----\n",
            "R-squared of the model on the training set is: 0.7478148187224555\n",
            "R-squared of the model on the test set is: 0.7465760162433852\n",
            "K-Fold R-squared of the model on the training set is: 0.7475934402871663\n",
            "K-Fold R-squared of the model on the test set is: 0.7486926719173234\n",
            "Mean absolute error of the prediction is: 1.3504905472461322\n",
            "Mean squared error of the prediction is: 3.1038505604417805\n",
            "Root mean squared error of the prediction is: 1.761774832503229\n",
            "Mean absolute percentage error of the prediction is: 7.827166244030429\n",
            "\n",
            "\n",
            "------ElasticNet Regularization Test Set Statistics-----\n",
            "Selected alpha value for the model test set is: 0.007047885629188497 \n",
            "K-fold cross validation score for the model is: 0.704367843100235 \n",
            "R-squared of the model on the training set is: 0.7466659669896616\n",
            "R-squared of the model on the test set is: 0.7451189134539167\n",
            "Mean absolute error of the prediction is: 1.355145027393601\n",
            "Mean squared error of the prediction is: 3.121696658678705\n",
            "Root mean squared error of the prediction is: 1.7668323799044168\n",
            "Mean absolute percentage error of the prediction is: 7.848489847394941\n"
          ],
          "name": "stdout"
        }
      ]
    },
    {
      "cell_type": "markdown",
      "metadata": {
        "id": "N4-ruhWDzJuF"
      },
      "source": [
        "#OLS Linear Regression Results and Predictions"
      ]
    },
    {
      "cell_type": "markdown",
      "metadata": {
        "id": "ZziE6TITI1SX"
      },
      "source": [
        "![](https://drive.google.com/uc?export=view&id=1JEFrevRF4y-qqZjqSSly7-TRRnGHmlc3)"
      ]
    },
    {
      "cell_type": "markdown",
      "metadata": {
        "id": "dw4Gq2XcgOg3"
      },
      "source": [
        "#OLS Regression Prediction Reliability"
      ]
    },
    {
      "cell_type": "markdown",
      "metadata": {
        "id": "9TjrG0WpkyL3"
      },
      "source": [
        "![](https://drive.google.com/uc?export=view&id=1-vffR_vkTEDtL-r8YkdNXE80XhsfBJ3E)"
      ]
    },
    {
      "cell_type": "markdown",
      "metadata": {
        "id": "5-7K-a5PgeIN"
      },
      "source": [
        "The coefficients of the model are all correlated with the target variable based on the manner of feature selection. All continuous variables are at least 65% correlated with the target, and all of the categorical variables have a minimum of 65% of their sublevels that are significantly correlated with the target. \n"
      ]
    },
    {
      "cell_type": "markdown",
      "metadata": {
        "id": "_46c6FDWiaLW"
      },
      "source": [
        "In addition, none of the selected continuous features are more than 40% correlated with one another (low multicollinearity)"
      ]
    },
    {
      "cell_type": "code",
      "metadata": {
        "id": "RJyEMu1Sc69D",
        "outputId": "46134902-3e25-4a3c-a5b1-3a4005334a70",
        "colab": {
          "base_uri": "https://localhost:8080/",
          "height": 34
        }
      },
      "source": [
        "errors = y_test - y_preds\n",
        "errors.mean()"
      ],
      "execution_count": null,
      "outputs": [
        {
          "output_type": "execute_result",
          "data": {
            "text/plain": [
              "2.650672137680782e-15"
            ]
          },
          "metadata": {
            "tags": []
          },
          "execution_count": 61
        }
      ]
    },
    {
      "cell_type": "markdown",
      "metadata": {
        "id": "G5Cd8FSCfcsg"
      },
      "source": [
        "The average of the error terms is close to zero because we included a constant term in our model."
      ]
    },
    {
      "cell_type": "code",
      "metadata": {
        "id": "_94hFHiedQ1e",
        "outputId": "02cca8c9-790c-45e8-b375-f24ba75d7467",
        "colab": {
          "base_uri": "https://localhost:8080/",
          "height": 52
        }
      },
      "source": [
        "from scipy.stats import bartlett\n",
        "from scipy.stats import levene\n",
        "\n",
        "bart_stats = bartlett(y_preds, errors)\n",
        "lev_stats = levene(y_preds, errors)\n",
        "\n",
        "print(\"Bartlett test statistic value is {0:3g} and p value is {1:.3g}\".format(bart_stats[0], bart_stats[1]))\n",
        "print(\"Levene test statistic value is {0:3g} and p value is {1:.3g}\".format(lev_stats[0], lev_stats[1]))"
      ],
      "execution_count": null,
      "outputs": [
        {
          "output_type": "stream",
          "text": [
            "Bartlett test statistic value is 5025.62 and p value is 0\n",
            "Levene test statistic value is 3764.98 and p value is 0\n"
          ],
          "name": "stdout"
        }
      ]
    },
    {
      "cell_type": "markdown",
      "metadata": {
        "id": "n73lOtjwfyX0"
      },
      "source": [
        "The distribution of error terms in NOT homeoscedastic for all of the predicted values. Therefore the confidence interval for predicted variables may be unreliable. "
      ]
    },
    {
      "cell_type": "code",
      "metadata": {
        "id": "GAIyW_LsesxI",
        "outputId": "6584aac7-54fd-42a3-fd24-9b3085e18aa0",
        "colab": {
          "base_uri": "https://localhost:8080/",
          "height": 368
        }
      },
      "source": [
        "rand_nums = np.random.normal(np.mean(errors), np.std(errors), len(errors))\n",
        "\n",
        "plt.figure(figsize=(12,5))\n",
        "\n",
        "plt.subplot(1,2,1)\n",
        "plt.scatter(np.sort(rand_nums), np.sort(errors)) # we sort the arrays\n",
        "plt.xlabel(\"the normally distributed random variable\")\n",
        "plt.ylabel(\"errors of the model\")\n",
        "plt.title(\"QQ plot\")\n",
        "\n",
        "plt.subplot(1,2,2)\n",
        "plt.hist(errors)\n",
        "plt.xlabel(\"errors\")\n",
        "plt.title(\"Histogram of the errors\")\n",
        "\n",
        "plt.tight_layout()\n",
        "plt.show()"
      ],
      "execution_count": null,
      "outputs": [
        {
          "output_type": "display_data",
          "data": {
            "image/png": "[encoded data removed]",
            "text/plain": [
              "<Figure size 864x360 with 2 Axes>"
            ]
          },
          "metadata": {
            "tags": [],
            "needs_background": "light"
          }
        }
      ]
    },
    {
      "cell_type": "markdown",
      "metadata": {
        "id": "GLEsJDFEfO0T"
      },
      "source": [
        "The model errors are reasonably normally distributed and not correlated with one another"
      ]
    },
    {
      "cell_type": "markdown",
      "metadata": {
        "id": "z6wPkrkZ3PUJ"
      },
      "source": [
        "#Data Normalization"
      ]
    },
    {
      "cell_type": "markdown",
      "metadata": {
        "id": "ID5rkNnfA6Mm"
      },
      "source": [
        "Normalize the data for use in the KNN, SVM, and Random Forest algorithms."
      ]
    },
    {
      "cell_type": "code",
      "metadata": {
        "id": "6JD4UdlMCfRL"
      },
      "source": [
        "from sklearn import preprocessing\n",
        "\n",
        "cat_encoded_df = full_data_frame.select_dtypes(include=['object', 'category']).copy() # filtered categorical features\n",
        "cat_encoded_df.dropna(inplace = True)\n",
        "cat_encoded_df = pd.get_dummies(cat_encoded_df)\n",
        "\n",
        "con_fuel_df = fuel_df.select_dtypes(include=['float']).copy() # all of the continuous variables\n",
        "con_fuel_df['Annual Fuel Cost (FT1)'] = fuel_df[tar_var]\n",
        "cols = con_fuel_df.columns\n",
        "min_max_scaler = preprocessing.MinMaxScaler()\n",
        "np_scaled = min_max_scaler.fit_transform(con_fuel_df)\n",
        "con_normalized_df = pd.DataFrame(np_scaled, columns = cols)\n",
        "con_normalized_df.dropna(inplace = True)\n",
        "\n",
        "#norm_encoded_df = pd.merge(con_normalized_df, cat_encoded_df, right_index=True, left_index=True)\n",
        "\n",
        "# split up the data set between target and features for OLS\n",
        "X = con_normalized_df.drop([tar_var], axis=1)\n",
        "y = con_normalized_df[tar_var]\n",
        "\n",
        "# split up the data into a test and training set\n",
        "Xtrain, Xtest, ytrain, ytest = train_test_split(X, y, test_size = .2, random_state = 465)"
      ],
      "execution_count": null,
      "outputs": []
    },
    {
      "cell_type": "markdown",
      "metadata": {
        "id": "cnmQp3_FZo3I"
      },
      "source": [
        "#KNN Regression"
      ]
    },
    {
      "cell_type": "code",
      "metadata": {
        "id": "js_wUneTeTkY",
        "outputId": "9374f87a-0ced-4dc7-d7f6-b44bd75da7ca",
        "colab": {
          "base_uri": "https://localhost:8080/",
          "height": 105
        }
      },
      "source": [
        "# Hyperparameter Tuning\n",
        "parameters = {\n",
        "    'n_neighbors': [5, 10],\n",
        "    'weights': ['uniform', 'distance'],\n",
        "    'leaf_size': [20, 25, 30, 35, 40]\n",
        "    }\n",
        "\n",
        "knn = neighbors.KNeighborsRegressor()\n",
        "\n",
        "tic = time.perf_counter()\n",
        "grid_search = GridSearchCV(estimator=knn, param_grid=parameters)\n",
        "grid_search.fit(Xtrain, ytrain)\n",
        "toc = time.perf_counter()\n",
        "seconds = toc - tic\n",
        "mins = int(seconds / 60)\n",
        "secs = int(seconds % 60)\n",
        "\n",
        "best_neighbors = grid_search.best_estimator_.n_neighbors\n",
        "best_weights = grid_search.best_estimator_.weights\n",
        "best_leaf_size = grid_search.best_estimator_.leaf_size\n",
        "\n",
        "print(\"Best Accuracy: %.3f%%\" %  (grid_search.best_score_*100.0))\n",
        "print(\"Best n_neighbors: {} \\nBest weights: {} \\nBest leaf_size: {} \".format(best_neighbors, best_weights, best_leaf_size))\n",
        "print(\"The KNN Regression Algorithm Hyperparameter Tuning completed in {} minutes and {} seconds\".format(mins, secs))"
      ],
      "execution_count": null,
      "outputs": [
        {
          "output_type": "stream",
          "text": [
            "Best Accuracy: 99.963%\n",
            "Best n_neighbors: 5 \n",
            "Best weights: distance \n",
            "Best leaf_size: 20 \n",
            "The KNN Regression Algorithm Hyperparameter Tuning completed in 2 minutes and 59 seconds\n"
          ],
          "name": "stdout"
        }
      ]
    },
    {
      "cell_type": "code",
      "metadata": {
        "id": "bs-c2fbLR3CV",
        "outputId": "07bb63df-a382-4a9d-cdbe-05c8833e8631",
        "colab": {
          "base_uri": "https://localhost:8080/",
          "height": 70
        }
      },
      "source": [
        "best_knn = KNeighborsRegressor(n_neighbors=best_neighbors, weights=best_weights, leaf_size=best_leaf_size)\n",
        "\n",
        "best_knn.fit(Xtrain, ytrain)\n",
        "\n",
        "tic = time.perf_counter()\n",
        "score = cross_val_score(best_knn, Xtest, ytest, cv=5)\n",
        "toc = time.perf_counter()\n",
        "seconds = toc - tic\n",
        "mins = int(seconds / 60)\n",
        "secs = int(seconds % 60)\n",
        "\n",
        "print(score)\n",
        "print(\"Mean Accuracy: %0.6f (+/- %0.6f)\" % (score.mean(), score.std() * 2))\n",
        "print(\"The KNN Algorithm completed in {} minutes and {} seconds\".format(mins, secs))"
      ],
      "execution_count": null,
      "outputs": [
        {
          "output_type": "stream",
          "text": [
            "[0.99807528 0.99677725 0.9945071  0.9986958  0.9963469 ]\n",
            "Mean Accuracy: 0.996880 (+/- 0.002919)\n",
            "The KNN Algorithm completed in 0 minutes and 0 seconds\n"
          ],
          "name": "stdout"
        }
      ]
    },
    {
      "cell_type": "markdown",
      "metadata": {
        "id": "GiuSozsnucT9"
      },
      "source": [
        "#Random Forest Regression"
      ]
    },
    {
      "cell_type": "code",
      "metadata": {
        "id": "OFhi7ayTzW6e",
        "outputId": "3f5f6c84-bd64-4b0b-94ed-76f66e2af4fd",
        "colab": {
          "base_uri": "https://localhost:8080/",
          "height": 105
        }
      },
      "source": [
        "# Hyperparameter Tuning\n",
        "parameters = {\n",
        "    'n_estimators': [2, 4, 6, 8, 10, 12, 14, 16],\n",
        "    'max_depth': [2, 4, 6, 8],\n",
        "    'min_samples_leaf': [1, 2, 3, 4, 5]\n",
        "    }\n",
        "\n",
        "regr = RandomForestRegressor()\n",
        "\n",
        "tic = time.perf_counter()\n",
        "grid_search = GridSearchCV(estimator=regr, param_grid=parameters)\n",
        "grid_search.fit(Xtrain, ytrain)\n",
        "toc = time.perf_counter()\n",
        "seconds = toc - tic\n",
        "mins = int(seconds / 60)\n",
        "secs = int(seconds % 60)\n",
        "\n",
        "best_estimator = grid_search.best_estimator_.n_estimators\n",
        "best_depth = grid_search.best_estimator_.max_depth\n",
        "best_min_leaf_samples = grid_search.best_estimator_.min_samples_leaf\n",
        "\n",
        "print(\"Best Accuracy: %.3f%%\" %  (grid_search.best_score_*100.0))\n",
        "print(\"Best n_estimators: %d \\nBest max_depth: %d \\nBest min_samples_leaf: %d \" %  (best_estimator, best_depth, best_min_leaf_samples))\n",
        "print(\"The Random Forest Regression Algorithm Hyperparameter Tuning completed in {} minutes and {} seconds\".format(mins, secs))"
      ],
      "execution_count": null,
      "outputs": [
        {
          "output_type": "stream",
          "text": [
            "Best Accuracy: 99.998%\n",
            "Best n_estimators: 14 \n",
            "Best max_depth: 8 \n",
            "Best min_samples_leaf: 1 \n",
            "The Random Forest Regression Algorithm Hyperparameter Tuning completed in 3 minutes and 44 seconds\n"
          ],
          "name": "stdout"
        }
      ]
    },
    {
      "cell_type": "code",
      "metadata": {
        "id": "MdaNpuxdEuxq",
        "outputId": "12ea2f47-aab4-46fd-8da3-b64f100e928f",
        "colab": {
          "base_uri": "https://localhost:8080/",
          "height": 70
        }
      },
      "source": [
        "best_regr = RandomForestRegressor(max_depth=best_depth, n_estimators=best_estimator\n",
        "                                  , min_samples_leaf=best_min_leaf_samples, random_state=0)\n",
        "best_regr.fit(Xtrain, ytrain)\n",
        "\n",
        "tic = time.perf_counter()\n",
        "score = cross_val_score(best_regr, Xtest, ytest, cv=5)\n",
        "toc = time.perf_counter()\n",
        "seconds = toc - tic\n",
        "mins = int(seconds / 60)\n",
        "secs = int(seconds % 60)\n",
        "print(score)\n",
        "print(\"Mean Accuracy: %0.6f (+/- %0.6f)\" % (score.mean(), score.std() * 2))\n",
        "print(\"The Random Forest Algorithm completed in {} minutes and {} seconds\".format(mins, secs))"
      ],
      "execution_count": null,
      "outputs": [
        {
          "output_type": "stream",
          "text": [
            "[0.99989621 0.99991869 0.99958915 0.99996089 0.99888905]\n",
            "Mean Accuracy: 0.999651 (+/- 0.000806)\n",
            "The Random Forest Algorithm completed in 0 minutes and 0 seconds\n"
          ],
          "name": "stdout"
        }
      ]
    },
    {
      "cell_type": "markdown",
      "metadata": {
        "id": "IV1PTxSxTFX4"
      },
      "source": [
        "#Support Vector Machine Regression"
      ]
    },
    {
      "cell_type": "code",
      "metadata": {
        "id": "QRiQXbmbjMAO",
        "outputId": "d61c4581-c216-4767-e30a-edddbd8d3a3a",
        "colab": {
          "base_uri": "https://localhost:8080/",
          "height": 105
        }
      },
      "source": [
        "# Hyperparameter Tuning\n",
        "parameters = {\n",
        "    'kernel': ['rbf', 'linear', 'poly'],\n",
        "    'degree': [1, 2, 3]\n",
        "    }\n",
        "\n",
        "svr = SVR()\n",
        "\n",
        "tic = time.perf_counter()\n",
        "grid_search = GridSearchCV(estimator=svr, param_grid=parameters)\n",
        "grid_search.fit(Xtrain, ytrain)\n",
        "toc = time.perf_counter()\n",
        "seconds = toc - tic\n",
        "mins = int(seconds / 60)\n",
        "secs = int(seconds % 60)\n",
        "\n",
        "best_kernel = grid_search.best_estimator_.kernel\n",
        "best_degree = grid_search.best_estimator_.degree\n",
        "best_C = grid_search.best_estimator_.C\n",
        "best_shrinking = grid_search.best_estimator_.shrinking\n",
        "\n",
        "print(\"Best Accuracy: %.3f%%\" %  (grid_search.best_score_*100.0))\n",
        "print(\"Best best_kernel: {} \\nBest best_degree: {} \\nBest C: {}\".format(best_kernel, best_degree, best_C))\n",
        "print(\"The KNN Regression Algorithm Hyperparameter Tuning completed in {} minutes and {} seconds\".format(mins, secs))"
      ],
      "execution_count": null,
      "outputs": [
        {
          "output_type": "stream",
          "text": [
            "Best Accuracy: 72.482%\n",
            "Best best_kernel: poly \n",
            "Best best_degree: 3 \n",
            "Best C: 1.0\n",
            "The KNN Regression Algorithm Hyperparameter Tuning completed in 0 minutes and 12 seconds\n"
          ],
          "name": "stdout"
        }
      ]
    },
    {
      "cell_type": "code",
      "metadata": {
        "id": "DuCrgDf-TEOt",
        "outputId": "7fda33bd-3e5c-44ba-bc98-47d0ac882ad9",
        "colab": {
          "base_uri": "https://localhost:8080/",
          "height": 70
        }
      },
      "source": [
        "best_svr = SVR(kernel=best_kernel, degree=best_degree, C=best_C)\n",
        "\n",
        "best_svr.fit(Xtrain, ytrain)\n",
        "\n",
        "tic = time.perf_counter()\n",
        "cross_val_score(best_svr, Xtest, ytest, cv=5)\n",
        "toc = time.perf_counter()\n",
        "seconds = toc - tic\n",
        "mins = int(seconds / 60)\n",
        "secs = int(seconds % 60)\n",
        "print(score)\n",
        "print(\"Mean Accuracy: %0.6f (+/- %0.6f)\" % (score.mean(), score.std() * 2))\n",
        "print(\"The SVM Algorithm completed in {} minutes and {} seconds\".format(mins, secs))"
      ],
      "execution_count": null,
      "outputs": [
        {
          "output_type": "stream",
          "text": [
            "[0.99989621 0.99991869 0.99958915 0.99996089 0.99888905]\n",
            "Mean Accuracy: 0.999651 (+/- 0.000806)\n",
            "The SVM Algorithm completed in 0 minutes and 0 seconds\n"
          ],
          "name": "stdout"
        }
      ]
    },
    {
      "cell_type": "markdown",
      "metadata": {
        "id": "8y1dYUzxjr93"
      },
      "source": [
        "#Summary"
      ]
    },
    {
      "cell_type": "markdown",
      "metadata": {
        "id": "b4Sltj64jyk4"
      },
      "source": [
        "I have implemented Linear, Polynomial, KNN, Random Forest and Support Vector Machine Regression in this exercise.\n",
        "\n",
        "I started out with 80 variables and over 38,000 observations providing information about 133 vehicles between the years of 1984 to 2017. The EPA 'Vehicle Fuel Economy Estimates' is an exhaustive data set which necessitated a robust regression solution with an emphasis on efficacy and efficiency.  I chose to examine 'Annual Consumption in Barrels' as opposed to the 'Annual Fuel Cost' because the former is a float data type as opposed to integer, as well as the fact that the selected target contains a larger population of unique values. The 'Vehicle ID' column was removed because it did not provide any relevant information for the regression model while the 'Engine Descriptor' and 'Model' columns had to be eliminated because they contained too many unique values to be processed efficiently with the resources at my disposal for this analysis. I used a histogram to determine that this target variable exhibited 'nearly normal' characteristics and the appropriate skew for reliable regression results. I used boxplots to demonstrate that the variables in the model contained a lot of outliers which supported the decision to winsorize the data within the model.\n",
        "\n",
        "I designed the process of feature engineering to automatically transform discrete features as well as float variables with limited unique values into categorical variables according to their z-score distributions in order to improve the efficiency of feature selection. The feature engineering step was also designed to automatically detect duplicate sub category names and replace them with unique labels in order to improve the ability to track the relationships between the final coefficients and the parent categorical features in the model.\n",
        "\n",
        "Where appropriate I transformed any categorical null values to 'NA' as opposed to removing that data as an indication that such information was relevant to the model although it was not applicable to the specific feature. Any continuous data with null values was removed because it represented less than 1% of the information in that data type.\n",
        "\n",
        "I created a dashboard for feature selection which allows for the user to control 3 filtration variables. The first variable allows the user to define the miniumum threshold for continuous variable correlation, the second regulates the maximum proportion of allowable multi-collinearity and the last variable determines the percentage of sub categories that must  be significant with respect to the target variable in order for any categorical feature to be accepted into the final model. The feature selection function returns all of the comparison matrices used in the selection process for more granular evaluation and I have included a scatter plot to demonstrate the correlation of any remaining (included) continuous features.\n",
        "\n",
        "This model takes the selected data and runs recursively, for the sake of simplicity, until all of the 'insignificant' linear and polynomial coefficients have been eliminated. The recursion dashboard allows the user to choose between 3 regularization options (Ridge, Lasso, and ElasticNet), automatically tunes the alpha value hyperparameter of the selection and returns the OLS summary results of every iteration. The function also returns a dictionary that tracks all of the sub feature interactions and outputs a host of useful prediction analysis metrics. The dashboard also allows the user to control the training and test size proportions, the training data randomization constant, maximum recursion iterations and the degree of polynomial regression. The model was designed to execute a recursive operation which can generate coefficients for any degree polynomial in order to facilitate the tracking of all feature relationships for the coefficients in the final prediction equation. While there are no limitations on the computational design of this functionality I was unable to process polynomial regression above second degree due to the limitations of my hardware.\n",
        "\n",
        "I used normalized continuous data for the KNN, Random Forest and SVM algorithms in order to optimize performance. In addition, the model makes use of the GridSearchCV functionality to optimize hyperparameter tuning, and uses k-fold cross validation to generalize the accuracy of the results. In addition, all of these processes were timed which created an additional basis for performance evaluation.\n",
        "\n",
        "One area for improvement would be to increase the hardware capability of the machine running this model. This would allow for more extensive hyperparameter tuning and testing of higher order polynomial regression. In addition, if I had more time to increase my domain knowledge I may have identified opportunities to combine features to improve model accuracy.\n",
        "\n",
        "In conclusion, based on a combination of explanatory power, predictive power and result speed I would choose the KNN Regression algorithm to model this particular data set under the current conditions."
      ]
    }
  ]
}